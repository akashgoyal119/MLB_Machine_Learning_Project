{
 "cells": [
  {
   "cell_type": "code",
   "execution_count": 1,
   "metadata": {},
   "outputs": [],
   "source": [
    "import os\n",
    "import csv\n",
    "import mysql.connector as mc \n",
    "import time\n",
    "import webbrowser\n",
    "import sys\n",
    "from sklearn.cluster import KMeans\n",
    "%matplotlib inline\n",
    "import seaborn as sns\n",
    "import numpy as np\n",
    "import matplotlib.pyplot as plt\n",
    "import pandas as pd\n",
    "sns.set()"
   ]
  },
  {
   "cell_type": "code",
   "execution_count": 2,
   "metadata": {},
   "outputs": [],
   "source": [
    "cnx = mc.connect(user='root',password='*****',\n",
    "                 host='localhost',database='mlb')"
   ]
  },
  {
   "cell_type": "code",
   "execution_count": 73,
   "metadata": {},
   "outputs": [
    {
     "data": {
      "text/plain": [
       "Text(0.5,1,'Number of Pitchers vs. Total Pitch Count')"
      ]
     },
     "execution_count": 73,
     "metadata": {},
     "output_type": "execute_result"
    },
    {
     "data": {
      "image/png": "[encoded data removed]",
      "text/plain": [
       "<matplotlib.figure.Figure at 0x1149c26a0>"
      ]
     },
     "metadata": {},
     "output_type": "display_data"
    }
   ],
   "source": [
    "#This part is just to find a good cutoff point for minimum pitch count for inclusion\n",
    "l = []\n",
    "for i in range(0,20001,1000):\n",
    "    query = \"SELECT pitcherID, COUNT(*) FROM Pitch2 GROUP BY pitcherID HAVING COUNT(*)>\"+str(i)\n",
    "    l.append(len(pd.read_sql_query(query,cnx)))\n",
    "x = np.linspace(0,20000,21)\n",
    "plt.scatter(x,l)\n",
    "plt.xlabel('number of pitches')\n",
    "plt.ylabel('number of pitchers')\n",
    "plt.title('Number of Pitchers vs. Total Pitch Count')"
   ]
  },
  {
   "cell_type": "code",
   "execution_count": 15,
   "metadata": {},
   "outputs": [],
   "source": [
    "#reclassify all the pitch_types\n",
    "def reclassify_pitches(df):\n",
    "    #takes a current DF and returns a new DF with additional column \n",
    "    four_seam = ['FF','FA']\n",
    "    slider = ['SL']\n",
    "    two_seam = ['FT']\n",
    "    change_up = ['CH']\n",
    "    sinker = ['SI','FS']\n",
    "    knuckleball = ['KN']\n",
    "    curve = ['CU','KC']\n",
    "    cutter = ['FC']\n",
    "    na = ['IN','PO','FO','EP','SC','UN','AB']\n",
    "    l = []\n",
    "    i = 2\n",
    "    \n",
    "    for row in df.itertuples():\n",
    "        if row[i] in four_seam:\n",
    "            l.append('four_seam')\n",
    "        elif row[i] in slider:\n",
    "            l.append('slider')\n",
    "        elif row[i] in two_seam:\n",
    "            l.append('two_seam')\n",
    "        elif row[i] in change_up:\n",
    "            l.append('change_up')\n",
    "        elif row[i] in sinker:\n",
    "            l.append('sinker')\n",
    "        elif row[i] in knuckleball:\n",
    "            l.append('knuckleball')\n",
    "        elif row[i] in curve:\n",
    "            l.append('curve')\n",
    "        elif row[i] in cutter:\n",
    "            l.append('cutter')\n",
    "        else:\n",
    "            l.append(None)\n",
    "    df['new_pitch_type']=l \n",
    "    return df"
   ]
  },
  {
   "cell_type": "code",
   "execution_count": 74,
   "metadata": {},
   "outputs": [
    {
     "data": {
      "text/html": [
       "<div>\n",
       "<style scoped>\n",
       "    .dataframe tbody tr th:only-of-type {\n",
       "        vertical-align: middle;\n",
       "    }\n",
       "\n",
       "    .dataframe tbody tr th {\n",
       "        vertical-align: top;\n",
       "    }\n",
       "\n",
       "    .dataframe thead th {\n",
       "        text-align: right;\n",
       "    }\n",
       "</style>\n",
       "<table border=\"1\" class=\"dataframe\">\n",
       "  <thead>\n",
       "    <tr style=\"text-align: right;\">\n",
       "      <th></th>\n",
       "      <th>pitcherID</th>\n",
       "      <th>pitchType</th>\n",
       "      <th>new_pitch_type</th>\n",
       "    </tr>\n",
       "  </thead>\n",
       "  <tbody>\n",
       "    <tr>\n",
       "      <th>0</th>\n",
       "      <td>450308</td>\n",
       "      <td>FF</td>\n",
       "      <td>four_seam</td>\n",
       "    </tr>\n",
       "    <tr>\n",
       "      <th>1</th>\n",
       "      <td>450308</td>\n",
       "      <td>CU</td>\n",
       "      <td>curve</td>\n",
       "    </tr>\n",
       "    <tr>\n",
       "      <th>2</th>\n",
       "      <td>450308</td>\n",
       "      <td>SL</td>\n",
       "      <td>slider</td>\n",
       "    </tr>\n",
       "    <tr>\n",
       "      <th>3</th>\n",
       "      <td>450308</td>\n",
       "      <td>FT</td>\n",
       "      <td>two_seam</td>\n",
       "    </tr>\n",
       "    <tr>\n",
       "      <th>4</th>\n",
       "      <td>450308</td>\n",
       "      <td>SL</td>\n",
       "      <td>slider</td>\n",
       "    </tr>\n",
       "  </tbody>\n",
       "</table>\n",
       "</div>"
      ],
      "text/plain": [
       "  pitcherID pitchType new_pitch_type\n",
       "0    450308        FF      four_seam\n",
       "1    450308        CU          curve\n",
       "2    450308        SL         slider\n",
       "3    450308        FT       two_seam\n",
       "4    450308        SL         slider"
      ]
     },
     "execution_count": 74,
     "metadata": {},
     "output_type": "execute_result"
    }
   ],
   "source": [
    "query = \"\"\"SELECT pitcherID, pitchType \n",
    "            FROM Pitch2\"\"\" #INNER JOIN Game\n",
    "            #ON Pitch2.gameID = Game.gameID\n",
    "            #WHERE YEAR(gameDate)=2017 AND MONTH(gameDate)=6\"\"\"\n",
    "df = pd.read_sql_query(query,cnx)\n",
    "reclassify_pitches(df).head()"
   ]
  },
  {
   "cell_type": "code",
   "execution_count": 75,
   "metadata": {},
   "outputs": [],
   "source": [
    "#this will take in a dataframe and return a new Dataframe with\n",
    "#pitcherID, totalPitches, %fastballs, %sliders, %changeup, etc\n",
    "table = pd.pivot_table(df,values=['new_pitch_type'],columns=['new_pitch_type'],\n",
    "                       index=['pitcherID'],aggfunc='count')"
   ]
  },
  {
   "cell_type": "code",
   "execution_count": 76,
   "metadata": {},
   "outputs": [],
   "source": [
    "#change the NA's to 0's\n",
    "table.fillna(value=0,inplace=True)"
   ]
  },
  {
   "cell_type": "code",
   "execution_count": 77,
   "metadata": {},
   "outputs": [],
   "source": [
    "#convert counts to percentages and create a new dataframe\n",
    "players = {}\n",
    "for row in table.itertuples():\n",
    "    total = 0\n",
    "    freqList = []\n",
    "    for i in range(1,9):\n",
    "        total+=row[i]\n",
    "    \n",
    "    for i in range(1,9):\n",
    "        freqList.append(row[i]/total)\n",
    "    \n",
    "    freqList.append(total)\n",
    "            \n",
    "    players[row[0]] = freqList"
   ]
  },
  {
   "cell_type": "code",
   "execution_count": 137,
   "metadata": {},
   "outputs": [],
   "source": [
    "#prepare the new dataframe for KMeans \n",
    "player_df = pd.DataFrame.from_dict(players,orient='index')\n",
    "player_df.columns=[\"change_up\",\"curve\",\"cutter\",\"four_seam\",\n",
    "                   \"knuckleball\",\"sinker\",\"slider\",\"two_seam\",\"total_pitches\"]\n",
    "condensed_df = player_df[player_df['total_pitches']>1000]\n",
    "rel_df = condensed_df.drop('total_pitches',axis=1)"
   ]
  },
  {
   "cell_type": "code",
   "execution_count": 119,
   "metadata": {},
   "outputs": [
    {
     "data": {
      "text/plain": [
       "960"
      ]
     },
     "execution_count": 119,
     "metadata": {},
     "output_type": "execute_result"
    }
   ],
   "source": [
    "len(rel_df)"
   ]
  },
  {
   "cell_type": "code",
   "execution_count": 100,
   "metadata": {},
   "outputs": [],
   "source": [
    "class agKMeans(KMeans):\n",
    "    def __init__(self,df,fraction=1):\n",
    "        df_samp = df.sample(frac=fraction,random_state=1)\n",
    "        self.df = df_samp\n",
    "        self.y_kmeans = None\n",
    "        self.kmeans = None\n",
    "        self.plot = None\n",
    "        \n",
    "    def createCluster(self,number_clusters):\n",
    "        kmeans = KMeans(n_clusters=number_clusters)\n",
    "        kmeans.fit(self.df)\n",
    "        y_kmeans = kmeans.predict(self.df)\n",
    "        #self.kmeans = kmeans\n",
    "        self.y_kmeans = y_kmeans \n",
    "        return  y_kmeans#,kmeans\n",
    "    \n",
    "    #don't use these two functions below this is 8 dimensional space\n",
    "    def generatePlot(self,xColumn,yColumn):\n",
    "        plt.scatter(self.df[xColumn],self.df[yColumn],c=self.y_kmeans,s=50,cmap='viridis')\n",
    "        centers = self.kmeans.cluster_centers_\n",
    "        plt.scatter(centers[:,0],centers[:,1],c='black',s=200,alpha=0.5)\n",
    "        \n",
    "    def showScatterPlot(self,xColumn,yColumn):\n",
    "        plt.scatter(self.df[xColumn],self.df[yColumn])"
   ]
  },
  {
   "cell_type": "code",
   "execution_count": 146,
   "metadata": {},
   "outputs": [],
   "source": [
    "def run_test(df,clusters=5,write_to_csv=True,colName=''):\n",
    "    test = agKMeans(rel_df)\n",
    "#\"rule of thumb\" calculation- k is sqrt of half n. n=960 here\n",
    "    predicted = test.createCluster(clusters)\n",
    "    df['classifications_'+colName]=predicted\n",
    "    if write_to_csv:\n",
    "        df.to_csv('/Users/t2/Desktop/github/MLB_Machine_Learning_Project/classifications/{}.csv'.format(clusters))\n",
    "    return df"
   ]
  },
  {
   "cell_type": "code",
   "execution_count": 155,
   "metadata": {},
   "outputs": [],
   "source": [
    "for i in range(20):\n",
    "    x = run_test(rel_df,5,write_to_csv=False,colName='20.'+str(i))"
   ]
  },
  {
   "cell_type": "code",
   "execution_count": 156,
   "metadata": {},
   "outputs": [],
   "source": [
    "x = run_test(rel_df,5,colName='20.20')"
   ]
  },
  {
   "cell_type": "code",
   "execution_count": 143,
   "metadata": {},
   "outputs": [
    {
     "data": {
      "text/plain": [
       "Text(0.5,1,'Elbow Curve')"
      ]
     },
     "execution_count": 143,
     "metadata": {},
     "output_type": "execute_result"
    },
    {
     "data": {
      "image/png": "[encoded data removed]",
      "text/plain": [
       "<matplotlib.figure.Figure at 0x153a16e10>"
      ]
     },
     "metadata": {},
     "output_type": "display_data"
    }
   ],
   "source": [
    "#https://stackoverflow.com/questions/41540751/sklearn-kmeans-equivalent-of-elbow-method\n",
    "# used Ahmed Besbes's answer\n",
    "distortions=[]\n",
    "for k in range(2,60):\n",
    "    kmeans = KMeans(n_clusters=k)\n",
    "    kmeans.fit(rel_df)\n",
    "    distortions.append(kmeans.inertia_)\n",
    "fig = plt.figure(figsize=(15,5))\n",
    "plt.plot(range(2,60),distortions)\n",
    "plt.grid(True)\n",
    "plt.title('Elbow Curve')"
   ]
  },
  {
   "cell_type": "code",
   "execution_count": 138,
   "metadata": {},
   "outputs": [
    {
     "data": {
      "text/html": [
       "<div>\n",
       "<style scoped>\n",
       "    .dataframe tbody tr th:only-of-type {\n",
       "        vertical-align: middle;\n",
       "    }\n",
       "\n",
       "    .dataframe tbody tr th {\n",
       "        vertical-align: top;\n",
       "    }\n",
       "\n",
       "    .dataframe thead th {\n",
       "        text-align: right;\n",
       "    }\n",
       "</style>\n",
       "<table border=\"1\" class=\"dataframe\">\n",
       "  <thead>\n",
       "    <tr style=\"text-align: right;\">\n",
       "      <th></th>\n",
       "      <th>change_up</th>\n",
       "      <th>curve</th>\n",
       "      <th>cutter</th>\n",
       "      <th>four_seam</th>\n",
       "      <th>knuckleball</th>\n",
       "      <th>sinker</th>\n",
       "      <th>slider</th>\n",
       "      <th>two_seam</th>\n",
       "    </tr>\n",
       "  </thead>\n",
       "  <tbody>\n",
       "    <tr>\n",
       "      <th>110683</th>\n",
       "      <td>0.038272</td>\n",
       "      <td>0.006481</td>\n",
       "      <td>0.002160</td>\n",
       "      <td>0.186420</td>\n",
       "      <td>0.0</td>\n",
       "      <td>0.463580</td>\n",
       "      <td>0.303086</td>\n",
       "      <td>0.000000</td>\n",
       "    </tr>\n",
       "    <tr>\n",
       "      <th>112020</th>\n",
       "      <td>0.032513</td>\n",
       "      <td>0.233846</td>\n",
       "      <td>0.232213</td>\n",
       "      <td>0.098762</td>\n",
       "      <td>0.0</td>\n",
       "      <td>0.402666</td>\n",
       "      <td>0.000000</td>\n",
       "      <td>0.000000</td>\n",
       "    </tr>\n",
       "    <tr>\n",
       "      <th>112526</th>\n",
       "      <td>0.156682</td>\n",
       "      <td>0.000000</td>\n",
       "      <td>0.000000</td>\n",
       "      <td>0.299201</td>\n",
       "      <td>0.0</td>\n",
       "      <td>0.000000</td>\n",
       "      <td>0.093635</td>\n",
       "      <td>0.450482</td>\n",
       "    </tr>\n",
       "    <tr>\n",
       "      <th>115629</th>\n",
       "      <td>0.034524</td>\n",
       "      <td>0.073153</td>\n",
       "      <td>0.000000</td>\n",
       "      <td>0.699662</td>\n",
       "      <td>0.0</td>\n",
       "      <td>0.000000</td>\n",
       "      <td>0.177451</td>\n",
       "      <td>0.015210</td>\n",
       "    </tr>\n",
       "    <tr>\n",
       "      <th>115817</th>\n",
       "      <td>0.081495</td>\n",
       "      <td>0.136637</td>\n",
       "      <td>0.000000</td>\n",
       "      <td>0.157691</td>\n",
       "      <td>0.0</td>\n",
       "      <td>0.385993</td>\n",
       "      <td>0.238184</td>\n",
       "      <td>0.000000</td>\n",
       "    </tr>\n",
       "  </tbody>\n",
       "</table>\n",
       "</div>"
      ],
      "text/plain": [
       "        change_up     curve    cutter  four_seam  knuckleball    sinker  \\\n",
       "110683   0.038272  0.006481  0.002160   0.186420          0.0  0.463580   \n",
       "112020   0.032513  0.233846  0.232213   0.098762          0.0  0.402666   \n",
       "112526   0.156682  0.000000  0.000000   0.299201          0.0  0.000000   \n",
       "115629   0.034524  0.073153  0.000000   0.699662          0.0  0.000000   \n",
       "115817   0.081495  0.136637  0.000000   0.157691          0.0  0.385993   \n",
       "\n",
       "          slider  two_seam  \n",
       "110683  0.303086  0.000000  \n",
       "112020  0.000000  0.000000  \n",
       "112526  0.093635  0.450482  \n",
       "115629  0.177451  0.015210  \n",
       "115817  0.238184  0.000000  "
      ]
     },
     "execution_count": 138,
     "metadata": {},
     "output_type": "execute_result"
    }
   ],
   "source": [
    "rel_df.head()"
   ]
  },
  {
   "cell_type": "code",
   "execution_count": null,
   "metadata": {},
   "outputs": [],
   "source": []
  }
 ],
 "metadata": {
  "kernelspec": {
   "display_name": "Python 3",
   "language": "python",
   "name": "python3"
  },
  "language_info": {
   "codemirror_mode": {
    "name": "ipython",
    "version": 3
   },
   "file_extension": ".py",
   "mimetype": "text/x-python",
   "name": "python",
   "nbconvert_exporter": "python",
   "pygments_lexer": "ipython3",
   "version": "3.6.2"
  }
 },
 "nbformat": 4,
 "nbformat_minor": 2
}
