{
 "cells": [
  {
   "cell_type": "code",
   "execution_count": 88,
   "metadata": {},
   "outputs": [],
   "source": [
    "import os\n",
    "import csv\n",
    "import pymysql as mc \n",
    "import time\n",
    "import webbrowser\n",
    "import sys\n",
    "from sklearn.cluster import KMeans\n",
    "%matplotlib inline\n",
    "import numpy as np\n",
    "import matplotlib.pyplot as plt\n",
    "import pandas as pd\n",
    "from sklearn.cluster import MeanShift\n",
    "from sklearn.preprocessing import scale\n",
    "import matplotlib as mpl\n",
    "mpl.rc('figure',figsize=[12,8])\n",
    "from sqlalchemy import create_engine\n",
    "from sqlalchemy.types import VARCHAR\n",
    "from sklearn.tree import DecisionTreeClassifier\n",
    "import getpass\n",
    "from sklearn.utils import shuffle\n",
    "from sklearn.neural_network import MLPClassifier\n",
    "from sklearn.preprocessing import Imputer \n",
    "from sklearn.linear_model import LogisticRegression\n",
    "from sklearn.model_selection import GridSearchCV"
   ]
  },
  {
   "cell_type": "code",
   "execution_count": 89,
   "metadata": {},
   "outputs": [
    {
     "name": "stdout",
     "output_type": "stream",
     "text": [
      "········\n"
     ]
    }
   ],
   "source": [
    "#credentials\n",
    "user='akashgoyal'\n",
    "host='stromberg.cs.uchicago.edu'\n",
    "db_name = 'mlb_practicum'\n",
    "pw = getpass.getpass()"
   ]
  },
  {
   "cell_type": "code",
   "execution_count": 158,
   "metadata": {},
   "outputs": [],
   "source": [
    "cnx2 = create_engine('mysql+pymysql://'+user+':'+pw+'@'+host+':3306/'+db_name,echo=False)\n",
    "cnx = mc.connect(user=user,password=pw,\n",
    "                 host=host,db=db_name,port=3306)"
   ]
  },
  {
   "cell_type": "code",
   "execution_count": 179,
   "metadata": {},
   "outputs": [
    {
     "name": "stdout",
     "output_type": "stream",
     "text": [
      "that took 13.483497858047485 seconds\n"
     ]
    }
   ],
   "source": [
    "start = time.time()\n",
    "rel_cols = ['Pitch2.pitcherID','Pitch2.batterHand','Pitch2.pitcherHand','the_event','akash','curr_inn','balls',\n",
    "            'strikes','cumulativePitches','timesFaced','home_team_runs','away_team_runs',\n",
    "            'outs','firstBaseRunner','secondBaseRunner',\n",
    "            \n",
    "            'swing_four_seam_rate',\n",
    "            'whiff_four_seam_rate','ball_four_seam_rate','whiff_slider_rate',\n",
    "            'swing_slider_rate','ball_slider_rate','whiff_two_seam_rate',\n",
    "            'swing_two_seam_rate','ball_two_seam_rate','whiff_change_up_rate',\n",
    "            'swing_change_up_rate','ball_change_up_rate','whiff_knuckleball_rate',\n",
    "            'swing_knuckleball_rate','ball_knuckleball_rate','whiff_curve_rate',\n",
    "            'swing_curve_rate','ball_curve_rate','whiff_cutter_rate','ball_cutter_rate',\n",
    "            'swing_cutter_rate', \n",
    "            \n",
    "            #distribution of pitches seen by the team and by the individual in current game\n",
    "             'psfg.pct_four_seam_team','psfg.pct_curve_team','psfg.pct_slider_team',\n",
    "             'psfg.pct_two_seam_team','psfg.pct_cutter_team',\n",
    "             'psfg.pct_knuckleball_team','psfg.pct_sinker_team','psfg.pct_change_up_team','psfg.pct_four_seam_ind',\n",
    "             'psfg.pct_curve_ind','psfg.pct_slider_ind','psfg.pct_two_seam_ind','psfg.pct_cutter_ind',\n",
    "             'psfg.pct_knuckleball_ind','psfg.pct_sinker_ind','psfg.pct_change_up_ind',\n",
    "            \n",
    "             #does leverage play a role?\n",
    "             'win_probability','leverage',\n",
    "            \n",
    "             #batter run expectancy\n",
    "             '100_avg','300_avg','500_avg','1000_avg','2000_avg',\n",
    "              \n",
    "              \n",
    "              #in-inning distribution of pitches seen (the original mistake I made that is ok)\n",
    "              'inn.pct_four_seam_ind AS AB_four_seam','inn.pct_curve_ind AS AB_curve_team',\n",
    "              'inn.pct_slider_ind AS AB_slider','inn.pct_two_seam_ind AS AB_two_seam',\n",
    "              'inn.pct_cutter_ind AS AB_cutter','inn.pct_knuckleball_ind AS AB_knuckleball',\n",
    "              'inn.pct_sinker_ind AS AB_sinker','inn.pct_change_up_ind AS AB_change_up',\n",
    "                \n",
    "                \n",
    "              #from player table\n",
    "             'batPosition','hr','rbi']\n",
    "\n",
    "             #this is prior distribution of pitches seen by the batter- may need to comment this out\n",
    "             #'bc.change_up','bc.curve','bc.cutter','bc.four_seam','bc.knuckleball',\n",
    "            #'bc.sinker','bc.slider','bc.two_seam',\n",
    "            \n",
    "            #'four_seam_slug','slider_slug','change_up_slug','two_seam_slug','sinker_slug','knuckleball_slug',\n",
    "           #'curve_slug','cutter_slug']\n",
    "\n",
    "query = '''SELECT {} FROM Pitch2 INNER JOIN pitcher_ms_clusters_5_26_18 pms1\n",
    "            ON pms1.playerID = Pitch2.pitcherID \n",
    "            INNER JOIN Distinct_Players p1 ON p1.playerID = pms1.playerID\n",
    "            INNER JOIN Pitch_type_mapping pt1 ON pt1.original = Pitch2.pitchType\n",
    "            INNER JOIN Game ON Game.gameID = Pitch2.gameID\n",
    "            INNER JOIN batter_whiffs bw ON (bw.batterID = Pitch2.batterID\n",
    "            AND bw.gameDate = Game.gameDate AND bw.pitcherHand = Pitch2.pitcherHand)\n",
    "            INNER JOIN Pitches_Seen_Full_Game psfg ON \n",
    "            (psfg.gameID = Game.gameID AND psfg.pitchID = Pitch2.pitchID)\n",
    "            INNER JOIN Batter_Run_Expectancy bre ON \n",
    "            (bre.playerID = Pitch2.batterID AND bre.gameID = Game.gameID)\n",
    "            INNER JOIN Player ON (Player.playerID = Pitch2.batterID AND Pitch2.gameID = Player.gameID)\n",
    "            INNER JOIN leverage l1 ON (l1.gameID = Pitch2.gameID AND l1.pitchID = Pitch2.pitchID)\n",
    "            INNER JOIN Pitches_Seen inn ON (inn.gameID = Pitch2.gameID AND inn.pitchID = Pitch2.pitchID)\n",
    "            \n",
    "            WHERE Pitch2.pitcherID = 285079 AND\n",
    "            YEAR(Game.gameDate)!=2016'''.format(','.join(rel_cols))\n",
    "df = pd.read_sql_query(query,cnx)\n",
    "print (f'that took {time.time()-start} seconds')\n",
    "#pms1.cls_bandwidth_8=5 ADD THIS BACK INTO THE WHERE CLASS LASTER\n",
    "#INNER JOIN pitcher_classifications_5_25_18 pc5 ON (pc5.playerID = Pitch2.pitcherID AND \n",
    "#                pc5.gameDate = Game.gameDate)\n",
    "#'pc5.change_up','pc5.curve','pc5.cutter','pc5.four_seam','pc5.knuckleball',\n",
    "#               'pc5.sinker','pc5.slider','pc5.two_seam',"
   ]
  },
  {
   "cell_type": "code",
   "execution_count": 180,
   "metadata": {},
   "outputs": [
    {
     "data": {
      "text/plain": [
       "(18578, 70)"
      ]
     },
     "execution_count": 180,
     "metadata": {},
     "output_type": "execute_result"
    }
   ],
   "source": [
    "c_df = df.copy()\n",
    "df.shape"
   ]
  },
  {
   "cell_type": "code",
   "execution_count": 181,
   "metadata": {},
   "outputs": [
    {
     "data": {
      "text/plain": [
       "285079    18578\n",
       "Name: pitcherID, dtype: int64"
      ]
     },
     "execution_count": 181,
     "metadata": {},
     "output_type": "execute_result"
    }
   ],
   "source": [
    "#gets the unique values and their counts\n",
    "df['pitcherID'].value_counts()"
   ]
  },
  {
   "cell_type": "code",
   "execution_count": 137,
   "metadata": {},
   "outputs": [],
   "source": [
    "#choose just zach greinke\n",
    "c_df = df[df['pitcherID']=='461872']\n",
    "#zach greinke throws 13.4% change ups, 11.9% curveballs, 3.1% cutters, 19.3% sliders\n",
    "#19.5% two-seamers"
   ]
  },
  {
   "cell_type": "code",
   "execution_count": 182,
   "metadata": {},
   "outputs": [
    {
     "name": "stdout",
     "output_type": "stream",
     "text": [
      "that took 7.82328987121582 seconds\n"
     ]
    }
   ],
   "source": [
    "#preprocessing data to get certain statistics\n",
    "start = time.time()\n",
    "def platoon_advantage(df):\n",
    "    if df.loc['batterHand'] == df.loc['pitcherHand']:\n",
    "        return 1\n",
    "    else:\n",
    "        return 0\n",
    "\n",
    "def get_current_lead(df):\n",
    "    homeLead = df.loc['home_team_runs']-df.loc['away_team_runs']\n",
    "    if df.loc['curr_inn']*2%2==1:\n",
    "        return homeLead\n",
    "    else:\n",
    "        return -homeLead\n",
    "    \n",
    "def advantageous_runner(df):\n",
    "    if not df.loc['firstBaseRunner'] or df.loc['secondBaseRunner']:\n",
    "        return 0\n",
    "    else:\n",
    "        return 1\n",
    "c_df['batPosition'] = c_df['batPosition'].fillna(value=9) #override pinch hitters w/ 7th spot\n",
    "c_df['advantage_runner'] = c_df.apply(advantageous_runner,axis=1)\n",
    "c_df['platoon_advantage'] = c_df.apply(platoon_advantage,axis=1)\n",
    "c_df['current_lead_deficit'] = c_df.apply(get_current_lead,axis=1)\n",
    "c_df['count'] = c_df['balls'].map(str)+c_df['strikes'].map(str)\n",
    "c_df = pd.get_dummies(c_df,columns=['count']) #create 12 dummy variables for count type\n",
    "\n",
    "#now that we're done applying stuff eliminate the bad columns\n",
    "dropped_columns = ['pitcherID','batterHand','pitcherHand','home_team_runs','away_team_runs',\n",
    "                  'firstBaseRunner','secondBaseRunner','the_event','balls','strikes']\n",
    "c_df = c_df.drop(columns=dropped_columns)\n",
    "print (f'that took {time.time()-start} seconds')"
   ]
  },
  {
   "cell_type": "code",
   "execution_count": 183,
   "metadata": {},
   "outputs": [],
   "source": [
    "shuffled_data = shuffle(c_df)\n",
    "first_half = int(shuffled_data.shape[0]/2)\n",
    "train_data = shuffled_data.iloc[:first_half]\n",
    "test_data = shuffled_data.iloc[first_half:]\n",
    "X = train_data.drop(columns=['akash'])\n",
    "Y = train_data['akash']\n",
    "X_oos = test_data.drop(columns=['akash'])\n",
    "Y_oos = test_data['akash']\n",
    "x_headers = X.columns.values"
   ]
  },
  {
   "cell_type": "code",
   "execution_count": 184,
   "metadata": {},
   "outputs": [],
   "source": [
    "#fill in NaN values with the mean for each column. Probably not the greatest method\n",
    "#because of survivorship but not many options at this point\n",
    "imp = Imputer(strategy='mean') \n",
    "X = imp.fit_transform(X)\n",
    "X = pd.DataFrame(X,columns=x_headers) #imputer transforms it to numpy\n",
    "imp2 = Imputer(strategy='mean')\n",
    "X_oos = imp2.fit_transform(X_oos)\n",
    "X_oos = pd.DataFrame(X_oos,columns=x_headers) "
   ]
  },
  {
   "cell_type": "code",
   "execution_count": 185,
   "metadata": {},
   "outputs": [
    {
     "data": {
      "text/plain": [
       "0.8512218753364195"
      ]
     },
     "execution_count": 185,
     "metadata": {},
     "output_type": "execute_result"
    }
   ],
   "source": [
    "dt = DecisionTreeClassifier(criterion='entropy',min_impurity_decrease=0.01)\n",
    "dt.fit(X,Y)\n",
    "dt.score(X,Y)"
   ]
  },
  {
   "cell_type": "code",
   "execution_count": 186,
   "metadata": {},
   "outputs": [
    {
     "data": {
      "text/plain": [
       "0.853913230702982"
      ]
     },
     "execution_count": 186,
     "metadata": {},
     "output_type": "execute_result"
    }
   ],
   "source": [
    "dt.score(X_oos,Y_oos)"
   ]
  },
  {
   "cell_type": "code",
   "execution_count": 187,
   "metadata": {},
   "outputs": [
    {
     "data": {
      "text/plain": [
       "knuckleball    0.846808\n",
       "four_seam      0.153192\n",
       "Name: akash, dtype: float64"
      ]
     },
     "execution_count": 187,
     "metadata": {},
     "output_type": "execute_result"
    }
   ],
   "source": [
    "Y_oos.value_counts(normalize=True)"
   ]
  },
  {
   "cell_type": "code",
   "execution_count": 188,
   "metadata": {},
   "outputs": [
    {
     "data": {
      "text/plain": [
       "0.8468080525352567"
      ]
     },
     "execution_count": 188,
     "metadata": {},
     "output_type": "execute_result"
    }
   ],
   "source": [
    "Y_oos.value_counts(normalize=True).iloc[0]"
   ]
  },
  {
   "cell_type": "code",
   "execution_count": 171,
   "metadata": {},
   "outputs": [
    {
     "data": {
      "text/html": [
       "<div>\n",
       "<style scoped>\n",
       "    .dataframe tbody tr th:only-of-type {\n",
       "        vertical-align: middle;\n",
       "    }\n",
       "\n",
       "    .dataframe tbody tr th {\n",
       "        vertical-align: top;\n",
       "    }\n",
       "\n",
       "    .dataframe thead th {\n",
       "        text-align: right;\n",
       "    }\n",
       "</style>\n",
       "<table border=\"1\" class=\"dataframe\">\n",
       "  <thead>\n",
       "    <tr style=\"text-align: right;\">\n",
       "      <th></th>\n",
       "      <th>0</th>\n",
       "      <th>1</th>\n",
       "    </tr>\n",
       "  </thead>\n",
       "  <tbody>\n",
       "    <tr>\n",
       "      <th>30</th>\n",
       "      <td>knuckleball</td>\n",
       "      <td>four_seam</td>\n",
       "    </tr>\n",
       "    <tr>\n",
       "      <th>59</th>\n",
       "      <td>four_seam</td>\n",
       "      <td>four_seam</td>\n",
       "    </tr>\n",
       "    <tr>\n",
       "      <th>153</th>\n",
       "      <td>knuckleball</td>\n",
       "      <td>four_seam</td>\n",
       "    </tr>\n",
       "    <tr>\n",
       "      <th>155</th>\n",
       "      <td>four_seam</td>\n",
       "      <td>four_seam</td>\n",
       "    </tr>\n",
       "    <tr>\n",
       "      <th>191</th>\n",
       "      <td>knuckleball</td>\n",
       "      <td>four_seam</td>\n",
       "    </tr>\n",
       "    <tr>\n",
       "      <th>205</th>\n",
       "      <td>four_seam</td>\n",
       "      <td>four_seam</td>\n",
       "    </tr>\n",
       "    <tr>\n",
       "      <th>230</th>\n",
       "      <td>four_seam</td>\n",
       "      <td>four_seam</td>\n",
       "    </tr>\n",
       "    <tr>\n",
       "      <th>303</th>\n",
       "      <td>four_seam</td>\n",
       "      <td>four_seam</td>\n",
       "    </tr>\n",
       "    <tr>\n",
       "      <th>305</th>\n",
       "      <td>knuckleball</td>\n",
       "      <td>four_seam</td>\n",
       "    </tr>\n",
       "    <tr>\n",
       "      <th>427</th>\n",
       "      <td>four_seam</td>\n",
       "      <td>four_seam</td>\n",
       "    </tr>\n",
       "    <tr>\n",
       "      <th>435</th>\n",
       "      <td>four_seam</td>\n",
       "      <td>four_seam</td>\n",
       "    </tr>\n",
       "    <tr>\n",
       "      <th>444</th>\n",
       "      <td>four_seam</td>\n",
       "      <td>four_seam</td>\n",
       "    </tr>\n",
       "    <tr>\n",
       "      <th>580</th>\n",
       "      <td>knuckleball</td>\n",
       "      <td>four_seam</td>\n",
       "    </tr>\n",
       "    <tr>\n",
       "      <th>819</th>\n",
       "      <td>four_seam</td>\n",
       "      <td>four_seam</td>\n",
       "    </tr>\n",
       "    <tr>\n",
       "      <th>829</th>\n",
       "      <td>four_seam</td>\n",
       "      <td>four_seam</td>\n",
       "    </tr>\n",
       "    <tr>\n",
       "      <th>830</th>\n",
       "      <td>four_seam</td>\n",
       "      <td>four_seam</td>\n",
       "    </tr>\n",
       "    <tr>\n",
       "      <th>935</th>\n",
       "      <td>four_seam</td>\n",
       "      <td>four_seam</td>\n",
       "    </tr>\n",
       "    <tr>\n",
       "      <th>984</th>\n",
       "      <td>knuckleball</td>\n",
       "      <td>four_seam</td>\n",
       "    </tr>\n",
       "    <tr>\n",
       "      <th>994</th>\n",
       "      <td>four_seam</td>\n",
       "      <td>four_seam</td>\n",
       "    </tr>\n",
       "    <tr>\n",
       "      <th>998</th>\n",
       "      <td>four_seam</td>\n",
       "      <td>four_seam</td>\n",
       "    </tr>\n",
       "    <tr>\n",
       "      <th>1018</th>\n",
       "      <td>knuckleball</td>\n",
       "      <td>four_seam</td>\n",
       "    </tr>\n",
       "    <tr>\n",
       "      <th>1034</th>\n",
       "      <td>four_seam</td>\n",
       "      <td>four_seam</td>\n",
       "    </tr>\n",
       "    <tr>\n",
       "      <th>1169</th>\n",
       "      <td>four_seam</td>\n",
       "      <td>four_seam</td>\n",
       "    </tr>\n",
       "    <tr>\n",
       "      <th>1236</th>\n",
       "      <td>four_seam</td>\n",
       "      <td>four_seam</td>\n",
       "    </tr>\n",
       "    <tr>\n",
       "      <th>1270</th>\n",
       "      <td>knuckleball</td>\n",
       "      <td>four_seam</td>\n",
       "    </tr>\n",
       "    <tr>\n",
       "      <th>1460</th>\n",
       "      <td>four_seam</td>\n",
       "      <td>four_seam</td>\n",
       "    </tr>\n",
       "    <tr>\n",
       "      <th>1485</th>\n",
       "      <td>four_seam</td>\n",
       "      <td>four_seam</td>\n",
       "    </tr>\n",
       "    <tr>\n",
       "      <th>1677</th>\n",
       "      <td>four_seam</td>\n",
       "      <td>four_seam</td>\n",
       "    </tr>\n",
       "    <tr>\n",
       "      <th>1703</th>\n",
       "      <td>knuckleball</td>\n",
       "      <td>four_seam</td>\n",
       "    </tr>\n",
       "    <tr>\n",
       "      <th>1729</th>\n",
       "      <td>four_seam</td>\n",
       "      <td>four_seam</td>\n",
       "    </tr>\n",
       "    <tr>\n",
       "      <th>...</th>\n",
       "      <td>...</td>\n",
       "      <td>...</td>\n",
       "    </tr>\n",
       "    <tr>\n",
       "      <th>6912</th>\n",
       "      <td>four_seam</td>\n",
       "      <td>four_seam</td>\n",
       "    </tr>\n",
       "    <tr>\n",
       "      <th>6942</th>\n",
       "      <td>knuckleball</td>\n",
       "      <td>four_seam</td>\n",
       "    </tr>\n",
       "    <tr>\n",
       "      <th>6951</th>\n",
       "      <td>four_seam</td>\n",
       "      <td>four_seam</td>\n",
       "    </tr>\n",
       "    <tr>\n",
       "      <th>6959</th>\n",
       "      <td>four_seam</td>\n",
       "      <td>four_seam</td>\n",
       "    </tr>\n",
       "    <tr>\n",
       "      <th>6997</th>\n",
       "      <td>knuckleball</td>\n",
       "      <td>four_seam</td>\n",
       "    </tr>\n",
       "    <tr>\n",
       "      <th>7040</th>\n",
       "      <td>four_seam</td>\n",
       "      <td>four_seam</td>\n",
       "    </tr>\n",
       "    <tr>\n",
       "      <th>7297</th>\n",
       "      <td>four_seam</td>\n",
       "      <td>four_seam</td>\n",
       "    </tr>\n",
       "    <tr>\n",
       "      <th>7404</th>\n",
       "      <td>four_seam</td>\n",
       "      <td>four_seam</td>\n",
       "    </tr>\n",
       "    <tr>\n",
       "      <th>7503</th>\n",
       "      <td>four_seam</td>\n",
       "      <td>four_seam</td>\n",
       "    </tr>\n",
       "    <tr>\n",
       "      <th>7598</th>\n",
       "      <td>four_seam</td>\n",
       "      <td>four_seam</td>\n",
       "    </tr>\n",
       "    <tr>\n",
       "      <th>7814</th>\n",
       "      <td>four_seam</td>\n",
       "      <td>four_seam</td>\n",
       "    </tr>\n",
       "    <tr>\n",
       "      <th>7848</th>\n",
       "      <td>knuckleball</td>\n",
       "      <td>four_seam</td>\n",
       "    </tr>\n",
       "    <tr>\n",
       "      <th>8093</th>\n",
       "      <td>knuckleball</td>\n",
       "      <td>four_seam</td>\n",
       "    </tr>\n",
       "    <tr>\n",
       "      <th>8110</th>\n",
       "      <td>knuckleball</td>\n",
       "      <td>four_seam</td>\n",
       "    </tr>\n",
       "    <tr>\n",
       "      <th>8154</th>\n",
       "      <td>four_seam</td>\n",
       "      <td>four_seam</td>\n",
       "    </tr>\n",
       "    <tr>\n",
       "      <th>8299</th>\n",
       "      <td>four_seam</td>\n",
       "      <td>four_seam</td>\n",
       "    </tr>\n",
       "    <tr>\n",
       "      <th>8338</th>\n",
       "      <td>knuckleball</td>\n",
       "      <td>four_seam</td>\n",
       "    </tr>\n",
       "    <tr>\n",
       "      <th>8398</th>\n",
       "      <td>four_seam</td>\n",
       "      <td>four_seam</td>\n",
       "    </tr>\n",
       "    <tr>\n",
       "      <th>8406</th>\n",
       "      <td>four_seam</td>\n",
       "      <td>four_seam</td>\n",
       "    </tr>\n",
       "    <tr>\n",
       "      <th>8446</th>\n",
       "      <td>four_seam</td>\n",
       "      <td>four_seam</td>\n",
       "    </tr>\n",
       "    <tr>\n",
       "      <th>8501</th>\n",
       "      <td>four_seam</td>\n",
       "      <td>four_seam</td>\n",
       "    </tr>\n",
       "    <tr>\n",
       "      <th>8570</th>\n",
       "      <td>knuckleball</td>\n",
       "      <td>four_seam</td>\n",
       "    </tr>\n",
       "    <tr>\n",
       "      <th>8728</th>\n",
       "      <td>four_seam</td>\n",
       "      <td>four_seam</td>\n",
       "    </tr>\n",
       "    <tr>\n",
       "      <th>8734</th>\n",
       "      <td>four_seam</td>\n",
       "      <td>four_seam</td>\n",
       "    </tr>\n",
       "    <tr>\n",
       "      <th>8759</th>\n",
       "      <td>four_seam</td>\n",
       "      <td>four_seam</td>\n",
       "    </tr>\n",
       "    <tr>\n",
       "      <th>8815</th>\n",
       "      <td>four_seam</td>\n",
       "      <td>four_seam</td>\n",
       "    </tr>\n",
       "    <tr>\n",
       "      <th>8876</th>\n",
       "      <td>four_seam</td>\n",
       "      <td>four_seam</td>\n",
       "    </tr>\n",
       "    <tr>\n",
       "      <th>8883</th>\n",
       "      <td>knuckleball</td>\n",
       "      <td>four_seam</td>\n",
       "    </tr>\n",
       "    <tr>\n",
       "      <th>8963</th>\n",
       "      <td>four_seam</td>\n",
       "      <td>four_seam</td>\n",
       "    </tr>\n",
       "    <tr>\n",
       "      <th>9271</th>\n",
       "      <td>four_seam</td>\n",
       "      <td>four_seam</td>\n",
       "    </tr>\n",
       "  </tbody>\n",
       "</table>\n",
       "<p>136 rows × 2 columns</p>\n",
       "</div>"
      ],
      "text/plain": [
       "                0          1\n",
       "30    knuckleball  four_seam\n",
       "59      four_seam  four_seam\n",
       "153   knuckleball  four_seam\n",
       "155     four_seam  four_seam\n",
       "191   knuckleball  four_seam\n",
       "205     four_seam  four_seam\n",
       "230     four_seam  four_seam\n",
       "303     four_seam  four_seam\n",
       "305   knuckleball  four_seam\n",
       "427     four_seam  four_seam\n",
       "435     four_seam  four_seam\n",
       "444     four_seam  four_seam\n",
       "580   knuckleball  four_seam\n",
       "819     four_seam  four_seam\n",
       "829     four_seam  four_seam\n",
       "830     four_seam  four_seam\n",
       "935     four_seam  four_seam\n",
       "984   knuckleball  four_seam\n",
       "994     four_seam  four_seam\n",
       "998     four_seam  four_seam\n",
       "1018  knuckleball  four_seam\n",
       "1034    four_seam  four_seam\n",
       "1169    four_seam  four_seam\n",
       "1236    four_seam  four_seam\n",
       "1270  knuckleball  four_seam\n",
       "1460    four_seam  four_seam\n",
       "1485    four_seam  four_seam\n",
       "1677    four_seam  four_seam\n",
       "1703  knuckleball  four_seam\n",
       "1729    four_seam  four_seam\n",
       "...           ...        ...\n",
       "6912    four_seam  four_seam\n",
       "6942  knuckleball  four_seam\n",
       "6951    four_seam  four_seam\n",
       "6959    four_seam  four_seam\n",
       "6997  knuckleball  four_seam\n",
       "7040    four_seam  four_seam\n",
       "7297    four_seam  four_seam\n",
       "7404    four_seam  four_seam\n",
       "7503    four_seam  four_seam\n",
       "7598    four_seam  four_seam\n",
       "7814    four_seam  four_seam\n",
       "7848  knuckleball  four_seam\n",
       "8093  knuckleball  four_seam\n",
       "8110  knuckleball  four_seam\n",
       "8154    four_seam  four_seam\n",
       "8299    four_seam  four_seam\n",
       "8338  knuckleball  four_seam\n",
       "8398    four_seam  four_seam\n",
       "8406    four_seam  four_seam\n",
       "8446    four_seam  four_seam\n",
       "8501    four_seam  four_seam\n",
       "8570  knuckleball  four_seam\n",
       "8728    four_seam  four_seam\n",
       "8734    four_seam  four_seam\n",
       "8759    four_seam  four_seam\n",
       "8815    four_seam  four_seam\n",
       "8876    four_seam  four_seam\n",
       "8883  knuckleball  four_seam\n",
       "8963    four_seam  four_seam\n",
       "9271    four_seam  four_seam\n",
       "\n",
       "[136 rows x 2 columns]"
      ]
     },
     "execution_count": 171,
     "metadata": {},
     "output_type": "execute_result"
    }
   ],
   "source": [
    "actual_v_expected = pd.DataFrame(np.column_stack((Y_oos,dt.predict(X_oos))))\n",
    "(actual_v_expected[actual_v_expected[1]!='knuckleball'])"
   ]
  },
  {
   "cell_type": "code",
   "execution_count": 144,
   "metadata": {},
   "outputs": [
    {
     "ename": "ZeroDivisionError",
     "evalue": "division by zero",
     "output_type": "error",
     "traceback": [
      "\u001b[0;31m---------------------------------------------------------------------------\u001b[0m",
      "\u001b[0;31mZeroDivisionError\u001b[0m                         Traceback (most recent call last)",
      "\u001b[0;32m<ipython-input-144-958697c30990>\u001b[0m in \u001b[0;36m<module>\u001b[0;34m()\u001b[0m\n\u001b[1;32m      6\u001b[0m             \u001b[0mctr\u001b[0m\u001b[0;34m+=\u001b[0m\u001b[0;36m1\u001b[0m\u001b[0;34m\u001b[0m\u001b[0m\n\u001b[1;32m      7\u001b[0m         \u001b[0mtot\u001b[0m\u001b[0;34m+=\u001b[0m\u001b[0;36m1\u001b[0m\u001b[0;34m\u001b[0m\u001b[0m\n\u001b[0;32m----> 8\u001b[0;31m \u001b[0mctr\u001b[0m\u001b[0;34m,\u001b[0m \u001b[0mtot\u001b[0m\u001b[0;34m,\u001b[0m\u001b[0mctr\u001b[0m\u001b[0;34m/\u001b[0m\u001b[0mtot\u001b[0m\u001b[0;34m\u001b[0m\u001b[0m\n\u001b[0m",
      "\u001b[0;31mZeroDivisionError\u001b[0m: division by zero"
     ]
    }
   ],
   "source": [
    "ctr = 0\n",
    "tot = 0\n",
    "for row in actual_v_expected.itertuples():\n",
    "    if row[2]=='slider':\n",
    "        if row[1]==row[2]:\n",
    "            ctr+=1\n",
    "        tot+=1\n",
    "ctr, tot,ctr/tot"
   ]
  },
  {
   "cell_type": "code",
   "execution_count": 172,
   "metadata": {},
   "outputs": [],
   "source": [
    "avg_nodes = int((X.shape[1]+8)/2)\n",
    "clf = MLPClassifier(solver='adam',alpha=0.001,hidden_layer_sizes=(avg_nodes,),random_state=1)"
   ]
  },
  {
   "cell_type": "code",
   "execution_count": 173,
   "metadata": {},
   "outputs": [
    {
     "data": {
      "text/plain": [
       "MLPClassifier(activation='relu', alpha=0.001, batch_size='auto', beta_1=0.9,\n",
       "       beta_2=0.999, early_stopping=False, epsilon=1e-08,\n",
       "       hidden_layer_sizes=(41,), learning_rate='constant',\n",
       "       learning_rate_init=0.001, max_iter=200, momentum=0.9,\n",
       "       nesterovs_momentum=True, power_t=0.5, random_state=1, shuffle=True,\n",
       "       solver='adam', tol=0.0001, validation_fraction=0.1, verbose=False,\n",
       "       warm_start=False)"
      ]
     },
     "execution_count": 173,
     "metadata": {},
     "output_type": "execute_result"
    }
   ],
   "source": [
    "clf.fit(X,Y)"
   ]
  },
  {
   "cell_type": "code",
   "execution_count": 174,
   "metadata": {},
   "outputs": [
    {
     "data": {
      "text/plain": [
       "0.86543223167187"
      ]
     },
     "execution_count": 174,
     "metadata": {},
     "output_type": "execute_result"
    }
   ],
   "source": [
    "clf.score(X,Y)"
   ]
  },
  {
   "cell_type": "code",
   "execution_count": 175,
   "metadata": {},
   "outputs": [
    {
     "data": {
      "text/plain": [
       "0.8603724835827322"
      ]
     },
     "execution_count": 175,
     "metadata": {},
     "output_type": "execute_result"
    }
   ],
   "source": [
    "clf.score(X_oos,Y_oos)"
   ]
  },
  {
   "cell_type": "code",
   "execution_count": 150,
   "metadata": {},
   "outputs": [
    {
     "name": "stderr",
     "output_type": "stream",
     "text": [
      "/home/ubuntu/anaconda3/lib/python3.6/site-packages/ipykernel/__main__.py:4: FutureWarning: reshape is deprecated and will raise in a subsequent release. Please use .values.reshape(...) instead\n"
     ]
    }
   ],
   "source": [
    "probabilities = clf.predict_proba(X_oos)\n",
    "probabilities = np.amax(probabilities,axis=1)\n",
    "guesses = clf.predict(X_oos)\n",
    "comb = np.hstack((probabilities.reshape(-1,1),guesses.reshape(-1,1),Y_oos.reshape(-1,1)))\n",
    "comb_df = pd.DataFrame(comb,columns=['max probability','guess','actual output'])"
   ]
  },
  {
   "cell_type": "code",
   "execution_count": 151,
   "metadata": {},
   "outputs": [
    {
     "data": {
      "text/html": [
       "<div>\n",
       "<style scoped>\n",
       "    .dataframe tbody tr th:only-of-type {\n",
       "        vertical-align: middle;\n",
       "    }\n",
       "\n",
       "    .dataframe tbody tr th {\n",
       "        vertical-align: top;\n",
       "    }\n",
       "\n",
       "    .dataframe thead th {\n",
       "        text-align: right;\n",
       "    }\n",
       "</style>\n",
       "<table border=\"1\" class=\"dataframe\">\n",
       "  <thead>\n",
       "    <tr style=\"text-align: right;\">\n",
       "      <th></th>\n",
       "      <th>max probability</th>\n",
       "      <th>guess</th>\n",
       "      <th>actual output</th>\n",
       "    </tr>\n",
       "  </thead>\n",
       "  <tbody>\n",
       "    <tr>\n",
       "      <th>787</th>\n",
       "      <td>0.298541</td>\n",
       "      <td>four_seam</td>\n",
       "      <td>slider</td>\n",
       "    </tr>\n",
       "    <tr>\n",
       "      <th>2877</th>\n",
       "      <td>0.285039</td>\n",
       "      <td>four_seam</td>\n",
       "      <td>four_seam</td>\n",
       "    </tr>\n",
       "  </tbody>\n",
       "</table>\n",
       "</div>"
      ],
      "text/plain": [
       "     max probability      guess actual output\n",
       "787         0.298541  four_seam        slider\n",
       "2877        0.285039  four_seam     four_seam"
      ]
     },
     "execution_count": 151,
     "metadata": {},
     "output_type": "execute_result"
    }
   ],
   "source": [
    "comb_df[comb_df['max probability']<0.3]"
   ]
  },
  {
   "cell_type": "code",
   "execution_count": 176,
   "metadata": {},
   "outputs": [
    {
     "data": {
      "text/plain": [
       "LogisticRegression(C=1.0, class_weight=None, dual=False, fit_intercept=True,\n",
       "          intercept_scaling=1, max_iter=100, multi_class='ovr', n_jobs=1,\n",
       "          penalty='l2', random_state=None, solver='liblinear', tol=0.0001,\n",
       "          verbose=0, warm_start=False)"
      ]
     },
     "execution_count": 176,
     "metadata": {},
     "output_type": "execute_result"
    }
   ],
   "source": [
    "logit.fit(X,Y)"
   ]
  },
  {
   "cell_type": "code",
   "execution_count": 177,
   "metadata": {},
   "outputs": [
    {
     "data": {
      "text/plain": [
       "0.8615566799440199"
      ]
     },
     "execution_count": 177,
     "metadata": {},
     "output_type": "execute_result"
    }
   ],
   "source": [
    "logit.score(X,Y)"
   ]
  },
  {
   "cell_type": "code",
   "execution_count": 178,
   "metadata": {},
   "outputs": [
    {
     "data": {
      "text/plain": [
       "0.8567122402842071"
      ]
     },
     "execution_count": 178,
     "metadata": {},
     "output_type": "execute_result"
    }
   ],
   "source": [
    "logit.score(X_oos,Y_oos)"
   ]
  }
 ],
 "metadata": {
  "kernelspec": {
   "display_name": "Python [default]",
   "language": "python",
   "name": "python3"
  },
  "language_info": {
   "codemirror_mode": {
    "name": "ipython",
    "version": 3
   },
   "file_extension": ".py",
   "mimetype": "text/x-python",
   "name": "python",
   "nbconvert_exporter": "python",
   "pygments_lexer": "ipython3",
   "version": "3.6.4"
  }
 },
 "nbformat": 4,
 "nbformat_minor": 2
}
