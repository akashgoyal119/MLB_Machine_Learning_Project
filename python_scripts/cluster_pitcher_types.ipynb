{
 "cells": [
  {
   "cell_type": "code",
   "execution_count": 83,
   "metadata": {},
   "outputs": [],
   "source": [
    "#this is on the R4 Instance\n",
    "#as of 5-26-18\n",
    "import os\n",
    "import csv\n",
    "import pymysql as mc \n",
    "import time\n",
    "import webbrowser\n",
    "import sys\n",
    "from sklearn.cluster import KMeans\n",
    "%matplotlib inline\n",
    "import numpy as np\n",
    "import matplotlib.pyplot as plt\n",
    "import pandas as pd\n",
    "from sklearn.cluster import MeanShift\n",
    "from sklearn.preprocessing import scale\n",
    "import matplotlib as mpl\n",
    "mpl.rc('figure',figsize=[12,8])\n",
    "from sqlalchemy import create_engine\n",
    "from sqlalchemy.types import VARCHAR"
   ]
  },
  {
   "cell_type": "code",
   "execution_count": 2,
   "metadata": {},
   "outputs": [],
   "source": [
    "import getpass"
   ]
  },
  {
   "cell_type": "code",
   "execution_count": 4,
   "metadata": {},
   "outputs": [
    {
     "name": "stdout",
     "output_type": "stream",
     "text": [
      "········\n"
     ]
    }
   ],
   "source": [
    "pw = getpass.getpass()"
   ]
  },
  {
   "cell_type": "code",
   "execution_count": 39,
   "metadata": {},
   "outputs": [],
   "source": [
    "cnx = mc.connect(user='akashgoyal',password=pw,\n",
    "                 host='stromberg.cs.uchicago.edu',db='mlb_practicum',port=3306)"
   ]
  },
  {
   "cell_type": "code",
   "execution_count": 6,
   "metadata": {},
   "outputs": [],
   "source": [
    "query = \"SELECT * FROM PitcherPercentages\"\n",
    "df = pd.read_sql_query(query,cnx)"
   ]
  },
  {
   "cell_type": "code",
   "execution_count": 9,
   "metadata": {},
   "outputs": [],
   "source": [
    "pData = Cluster_Data(cnx,'pitcher')"
   ]
  },
  {
   "cell_type": "code",
   "execution_count": 40,
   "metadata": {},
   "outputs": [],
   "source": [
    "query2 = \"SELECT playerID, CONCAT(firstName,' ',lastName) AS player_name FROM Distinct_Players\"\n",
    "named_df = pd.read_sql_query(query2,cnx)"
   ]
  },
  {
   "cell_type": "code",
   "execution_count": 44,
   "metadata": {},
   "outputs": [
    {
     "data": {
      "text/html": [
       "<div>\n",
       "<style scoped>\n",
       "    .dataframe tbody tr th:only-of-type {\n",
       "        vertical-align: middle;\n",
       "    }\n",
       "\n",
       "    .dataframe tbody tr th {\n",
       "        vertical-align: top;\n",
       "    }\n",
       "\n",
       "    .dataframe thead th {\n",
       "        text-align: right;\n",
       "    }\n",
       "</style>\n",
       "<table border=\"1\" class=\"dataframe\">\n",
       "  <thead>\n",
       "    <tr style=\"text-align: right;\">\n",
       "      <th></th>\n",
       "      <th>change_up</th>\n",
       "      <th>curve</th>\n",
       "      <th>cutter</th>\n",
       "      <th>four_seam</th>\n",
       "      <th>knuckleball</th>\n",
       "      <th>sinker</th>\n",
       "      <th>slider</th>\n",
       "      <th>two_seam</th>\n",
       "    </tr>\n",
       "    <tr>\n",
       "      <th>player_name</th>\n",
       "      <th></th>\n",
       "      <th></th>\n",
       "      <th></th>\n",
       "      <th></th>\n",
       "      <th></th>\n",
       "      <th></th>\n",
       "      <th></th>\n",
       "      <th></th>\n",
       "    </tr>\n",
       "  </thead>\n",
       "  <tbody>\n",
       "    <tr>\n",
       "      <th>Miguel Batista</th>\n",
       "      <td>0.038272</td>\n",
       "      <td>0.006481</td>\n",
       "      <td>0.002160</td>\n",
       "      <td>0.186420</td>\n",
       "      <td>0.0</td>\n",
       "      <td>0.463580</td>\n",
       "      <td>0.303086</td>\n",
       "      <td>0.000000</td>\n",
       "    </tr>\n",
       "    <tr>\n",
       "      <th>Chris Carpenter</th>\n",
       "      <td>0.032513</td>\n",
       "      <td>0.233846</td>\n",
       "      <td>0.232213</td>\n",
       "      <td>0.098762</td>\n",
       "      <td>0.0</td>\n",
       "      <td>0.402666</td>\n",
       "      <td>0.000000</td>\n",
       "      <td>0.000000</td>\n",
       "    </tr>\n",
       "    <tr>\n",
       "      <th>Bartolo Colon</th>\n",
       "      <td>0.156682</td>\n",
       "      <td>0.000000</td>\n",
       "      <td>0.000000</td>\n",
       "      <td>0.299201</td>\n",
       "      <td>0.0</td>\n",
       "      <td>0.000000</td>\n",
       "      <td>0.093635</td>\n",
       "      <td>0.450482</td>\n",
       "    </tr>\n",
       "    <tr>\n",
       "      <th>Elmer Dessens</th>\n",
       "      <td>0.062682</td>\n",
       "      <td>0.043732</td>\n",
       "      <td>0.000000</td>\n",
       "      <td>0.260933</td>\n",
       "      <td>0.0</td>\n",
       "      <td>0.000000</td>\n",
       "      <td>0.209913</td>\n",
       "      <td>0.422741</td>\n",
       "    </tr>\n",
       "    <tr>\n",
       "      <th>LaTroy Hawkins</th>\n",
       "      <td>0.034524</td>\n",
       "      <td>0.073153</td>\n",
       "      <td>0.000000</td>\n",
       "      <td>0.699662</td>\n",
       "      <td>0.0</td>\n",
       "      <td>0.000000</td>\n",
       "      <td>0.177451</td>\n",
       "      <td>0.015210</td>\n",
       "    </tr>\n",
       "  </tbody>\n",
       "</table>\n",
       "</div>"
      ],
      "text/plain": [
       "                 change_up     curve    cutter  four_seam  knuckleball  \\\n",
       "player_name                                                              \n",
       "Miguel Batista    0.038272  0.006481  0.002160   0.186420          0.0   \n",
       "Chris Carpenter   0.032513  0.233846  0.232213   0.098762          0.0   \n",
       "Bartolo Colon     0.156682  0.000000  0.000000   0.299201          0.0   \n",
       "Elmer Dessens     0.062682  0.043732  0.000000   0.260933          0.0   \n",
       "LaTroy Hawkins    0.034524  0.073153  0.000000   0.699662          0.0   \n",
       "\n",
       "                   sinker    slider  two_seam  \n",
       "player_name                                    \n",
       "Miguel Batista   0.463580  0.303086  0.000000  \n",
       "Chris Carpenter  0.402666  0.000000  0.000000  \n",
       "Bartolo Colon    0.000000  0.093635  0.450482  \n",
       "Elmer Dessens    0.000000  0.209913  0.422741  \n",
       "LaTroy Hawkins   0.000000  0.177451  0.015210  "
      ]
     },
     "execution_count": 44,
     "metadata": {},
     "output_type": "execute_result"
    }
   ],
   "source": [
    "comb_df = pData.df.merge(named_df,how='inner',left_index=True,right_on='playerID').set_index('player_name').drop(columns=['playerID'])\n",
    "comb_df.head()"
   ]
  },
  {
   "cell_type": "code",
   "execution_count": 88,
   "metadata": {},
   "outputs": [
    {
     "name": "stdout",
     "output_type": "stream",
     "text": [
      "['change_up' 'curve' 'cutter' 'four_seam' 'knuckleball' 'sinker' 'slider'\n",
      " 'two_seam' 'cls_bandwidth_8']\n",
      "['change_up' 'curve' 'cutter' 'four_seam' 'knuckleball' 'sinker' 'slider'\n",
      " 'two_seam' 'cls_bandwidth_8' 'cls_bandwidth_9']\n",
      "['change_up' 'curve' 'cutter' 'four_seam' 'knuckleball' 'sinker' 'slider'\n",
      " 'two_seam' 'cls_bandwidth_8' 'cls_bandwidth_9' 'cls_bandwidth_10']\n",
      "['change_up' 'curve' 'cutter' 'four_seam' 'knuckleball' 'sinker' 'slider'\n",
      " 'two_seam' 'cls_bandwidth_8' 'cls_bandwidth_9' 'cls_bandwidth_10'\n",
      " 'cls_bandwidth_11']\n",
      "['change_up' 'curve' 'cutter' 'four_seam' 'knuckleball' 'sinker' 'slider'\n",
      " 'two_seam' 'cls_bandwidth_8' 'cls_bandwidth_9' 'cls_bandwidth_10'\n",
      " 'cls_bandwidth_11' 'cls_bandwidth_12']\n",
      "['change_up' 'curve' 'cutter' 'four_seam' 'knuckleball' 'sinker' 'slider'\n",
      " 'two_seam' 'cls_bandwidth_8' 'cls_bandwidth_9' 'cls_bandwidth_10'\n",
      " 'cls_bandwidth_11' 'cls_bandwidth_12' 'cls_bandwidth_13']\n"
     ]
    }
   ],
   "source": [
    "x_range = np.linspace(0.08,0.13,6)\n",
    "df_classed = pData.df.copy()\n",
    "for i in x_range:\n",
    "    ms = MeanShift(bandwidth=i)\n",
    "    ms.fit(pData.df)\n",
    "    df_classed[f'cls_bandwidth_{int(i*100)}'] = ms.labels_\n",
    "    print (df_classed.columns.values)"
   ]
  },
  {
   "cell_type": "code",
   "execution_count": 89,
   "metadata": {},
   "outputs": [],
   "source": [
    "#send to database\n",
    "user = 'akashgoyal'\n",
    "host = 'stromberg.cs.uchicago.edu'\n",
    "db_name = 'mlb_practicum'\n",
    "\n",
    "cnx2 = create_engine('mysql+pymysql://'+user+':'+pw+'@'+host+':3306/'+db_name,echo=False)\n",
    "\n",
    "df_classed.to_sql(name='pitcher_ms_clusters_5_26_18',con=cnx2,if_exists='append',\n",
    "               index=True,index_label='playerID',dtype={None:VARCHAR(20)})"
   ]
  },
  {
   "cell_type": "code",
   "execution_count": 67,
   "metadata": {},
   "outputs": [
    {
     "name": "stdout",
     "output_type": "stream",
     "text": [
      "0.05 1112 [17]\n",
      "0.07 752 [17, 37]\n",
      "0.09 502 [17, 37, 79]\n",
      "0.11 301 [17, 37, 79, 84]\n",
      "0.13 171 [17, 37, 79, 84, 140]\n",
      "0.15000000000000002 97 [17, 37, 79, 84, 140, 244]\n",
      "0.16999999999999998 57 [17, 37, 79, 84, 140, 244, 369]\n",
      "0.19 33 [17, 37, 79, 84, 140, 244, 369, 537]\n",
      "0.21000000000000002 21 [17, 37, 79, 84, 140, 244, 369, 537, 803]\n",
      "0.22999999999999998 14 [17, 37, 79, 84, 140, 244, 369, 537, 803, 887]\n",
      "0.25 9 [17, 37, 79, 84, 140, 244, 369, 537, 803, 887, 994]\n"
     ]
    }
   ],
   "source": [
    "x_range = np.linspace(0.05,0.25,11)\n",
    "max_count = []\n",
    "number_groups = []\n",
    "for i in x_range:\n",
    "    ms = MeanShift(bandwidth=i)\n",
    "    ms.fit(comb_df)\n",
    "    max_count.append((np.unique(ms.labels_,return_counts=True)[1]).max())\n",
    "    number_groups.append(len(np.unique(ms.labels_)))\n",
    "    print (i,len(np.unique(ms.labels_)),max_count)"
   ]
  },
  {
   "cell_type": "code",
   "execution_count": 72,
   "metadata": {},
   "outputs": [
    {
     "data": {
      "text/plain": [
       "[<matplotlib.lines.Line2D at 0x7fd032596630>]"
      ]
     },
     "execution_count": 72,
     "metadata": {},
     "output_type": "execute_result"
    },
    {
     "data": {
      "image/png": "[encoded data removed]",
      "text/plain": [
       "<Figure size 864x576 with 1 Axes>"
      ]
     },
     "metadata": {},
     "output_type": "display_data"
    }
   ],
   "source": [
    "plt.title('most number of pitchers in a group vs. radius in MeanShift',\n",
    "         fontsize=20)\n",
    "plt.xlabel('radius',fontsize=16)\n",
    "plt.ylabel('number of pitchers',fontsize=16)\n",
    "plt.plot(x_range,max_count)"
   ]
  },
  {
   "cell_type": "code",
   "execution_count": 76,
   "metadata": {},
   "outputs": [
    {
     "data": {
      "text/plain": [
       "Text(0.5,1,'Radius vs. number of groups/max count in MeanShift')"
      ]
     },
     "execution_count": 76,
     "metadata": {},
     "output_type": "execute_result"
    },
    {
     "data": {
      "image/png": "[encoded data removed]",
      "text/plain": [
       "<Figure size 864x576 with 2 Axes>"
      ]
     },
     "metadata": {},
     "output_type": "display_data"
    }
   ],
   "source": [
    "fig, ax1 = plt.subplots()\n",
    "ax2 = ax1.twinx()\n",
    "ax1.plot(x_range,number_groups,'g-')\n",
    "ax2.plot(x_range,max_count,'b-')\n",
    "ax1.set_xlabel('Radius')\n",
    "ax1.set_ylabel('Number of Distinct Groups',color='g')\n",
    "ax2.set_ylabel('Maximum number of pitchers in a group',color='b')\n",
    "\n",
    "ax1.xaxis.label.set_size(20)\n",
    "ax1.yaxis.label.set_size(20)\n",
    "ax2.yaxis.label.set_size(20)\n",
    "plt.title('Radius vs. number of groups/max count in MeanShift',\n",
    "         fontsize=20)\n"
   ]
  },
  {
   "cell_type": "code",
   "execution_count": 53,
   "metadata": {},
   "outputs": [
    {
     "name": "stdout",
     "output_type": "stream",
     "text": [
      "classes\n",
      "0      52\n",
      "1      16\n",
      "2      13\n",
      "3      21\n",
      "4      11\n",
      "5      18\n",
      "6      14\n",
      "7      18\n",
      "8      18\n",
      "9      13\n",
      "10     17\n",
      "11     27\n",
      "12     17\n",
      "13     10\n",
      "14     10\n",
      "15     12\n",
      "16     20\n",
      "17     14\n",
      "18     14\n",
      "19     10\n",
      "20     12\n",
      "21     10\n",
      "22      8\n",
      "23     12\n",
      "24      8\n",
      "25      9\n",
      "26     11\n",
      "27     11\n",
      "28      9\n",
      "29      9\n",
      "       ..\n",
      "587     1\n",
      "588     1\n",
      "589     1\n",
      "590     1\n",
      "591     1\n",
      "592     1\n",
      "593     1\n",
      "594     1\n",
      "595     1\n",
      "596     1\n",
      "597     1\n",
      "598     1\n",
      "599     1\n",
      "600     1\n",
      "601     2\n",
      "602     1\n",
      "603     4\n",
      "604     1\n",
      "605     1\n",
      "606     1\n",
      "607     2\n",
      "608     1\n",
      "609     1\n",
      "610     1\n",
      "611     1\n",
      "612     1\n",
      "613     1\n",
      "614     1\n",
      "615     1\n",
      "616     1\n",
      "Name: classes, Length: 617, dtype: int64\n"
     ]
    }
   ],
   "source": [
    "print(labeled_df.groupby('classes')['classes'].count())"
   ]
  },
  {
   "cell_type": "code",
   "execution_count": 37,
   "metadata": {},
   "outputs": [
    {
     "name": "stdout",
     "output_type": "stream",
     "text": [
      "2 142.38453983059418\n",
      "3 108.26730187085214\n",
      "4 94.14225454761095\n",
      "5 85.8551663317531\n",
      "6 78.29330413893864\n",
      "7 72.15208450654883\n",
      "8 67.48235641676854\n",
      "9 63.58817473688516\n",
      "10 60.20576694527505\n"
     ]
    }
   ],
   "source": [
    "x_range = np.linspace(2,10,9)\n",
    "inertias = []\n",
    "for i in x_range:\n",
    "    kmObj = KMeans(n_clusters=int(i))\n",
    "    clusters = kmObj.fit_predict(pData.df)\n",
    "    inertias.append(kmObj.inertia_)\n",
    "    print (int(i),kmObj.inertia_)"
   ]
  },
  {
   "cell_type": "code",
   "execution_count": 36,
   "metadata": {},
   "outputs": [
    {
     "data": {
      "text/plain": [
       "[<matplotlib.lines.Line2D at 0x7fcff84155c0>]"
      ]
     },
     "execution_count": 36,
     "metadata": {},
     "output_type": "execute_result"
    },
    {
     "data": {
      "image/png": "[encoded data removed]",
      "text/plain": [
       "<Figure size 432x288 with 1 Axes>"
      ]
     },
     "metadata": {},
     "output_type": "display_data"
    }
   ],
   "source": [
    "plt.plot(x_range,inertias)"
   ]
  },
  {
   "cell_type": "code",
   "execution_count": 8,
   "metadata": {},
   "outputs": [],
   "source": [
    "class Cluster_Data:\n",
    "    def __init__(self,cnx,playerType='pitcher'):\n",
    "        self.cnx = cnx\n",
    "        self.playerType = playerType\n",
    "        #ignore the terrible naming here...\n",
    "        self.df_pitcher = pd.read_sql_query('SELECT {}, pitchType FROM Pitch2'.format(playerType+'ID'),cnx)\n",
    "        self.reclassify_pitches(self.df_pitcher)\n",
    "        self.df = self.create_table(self.df_pitcher)\n",
    "\n",
    "    def reclassify_pitches(self,df):\n",
    "        four_seam = ['FF','FA']\n",
    "        slider = ['SL']\n",
    "        two_seam = ['FT']\n",
    "        change_up = ['CH']\n",
    "        sinker = ['SI','FS']\n",
    "        knuckleball = ['KN']\n",
    "        curve = ['CU','KC']\n",
    "        cutter = ['FC']\n",
    "        na = ['IN','PO','FO','EP','SC','UN','AB']\n",
    "        l = []\n",
    "        i = 2\n",
    "        for row in df.itertuples():\n",
    "            if row[i] in four_seam:\n",
    "                l.append('four_seam')\n",
    "            elif row[i] in slider:\n",
    "                l.append('slider')\n",
    "            elif row[i] in two_seam:\n",
    "                l.append('two_seam')\n",
    "            elif row[i] in change_up:\n",
    "                l.append('change_up')\n",
    "            elif row[i] in sinker:\n",
    "                l.append('sinker')\n",
    "            elif row[i] in knuckleball:\n",
    "                l.append('knuckleball')\n",
    "            elif row[i] in curve:\n",
    "                l.append('curve')\n",
    "            elif row[i] in cutter:\n",
    "                l.append('cutter')\n",
    "            else:\n",
    "                l.append(None)\n",
    "        df['new_pitch_type']=l \n",
    "        return df\n",
    "\n",
    "    def create_table(self,df):\n",
    "        if self.playerType == 'pitcher':\n",
    "            table = pd.pivot_table(df,values=['new_pitch_type'],columns=['new_pitch_type'],\n",
    "                               index=['pitcherID'],aggfunc='count')\n",
    "        else:\n",
    "            table = pd.pivot_table(df,values=['new_pitch_type'],columns=['new_pitch_type'],\n",
    "                               index=['batterID'],aggfunc='count')\n",
    "        table.fillna(value=0,inplace=True)\n",
    "        players = {}\n",
    "        for row in table.itertuples():\n",
    "            total = 0\n",
    "            freqList = []\n",
    "            for i in range(1,9):\n",
    "                total+=row[i]\n",
    "\n",
    "            for i in range(1,9):\n",
    "                freqList.append(row[i]/total)\n",
    "\n",
    "            freqList.append(total)\n",
    "            players[row[0]] = freqList\n",
    "            \n",
    "        player_df = pd.DataFrame.from_dict(players,orient='index')\n",
    "        player_df.columns=[\"change_up\",\"curve\",\"cutter\",\"four_seam\",\n",
    "                           \"knuckleball\",\"sinker\",\"slider\",\"two_seam\",\"total_pitches\"]\n",
    "        condensed_df = player_df[player_df['total_pitches']>100]\n",
    "        condensed_df = condensed_df.drop('total_pitches',axis=1)\n",
    "        return condensed_df "
   ]
  }
 ],
 "metadata": {
  "kernelspec": {
   "display_name": "Python [default]",
   "language": "python",
   "name": "python3"
  },
  "language_info": {
   "codemirror_mode": {
    "name": "ipython",
    "version": 3
   },
   "file_extension": ".py",
   "mimetype": "text/x-python",
   "name": "python",
   "nbconvert_exporter": "python",
   "pygments_lexer": "ipython3",
   "version": "3.6.4"
  }
 },
 "nbformat": 4,
 "nbformat_minor": 2
}
