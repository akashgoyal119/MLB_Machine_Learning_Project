{
 "cells": [
  {
   "cell_type": "code",
   "execution_count": 1,
   "metadata": {},
   "outputs": [
    {
     "name": "stderr",
     "output_type": "stream",
     "text": [
      "/home/ubuntu/anaconda3/lib/python3.6/site-packages/matplotlib/__init__.py:1067: UserWarning: Duplicate key in file \"/home/ubuntu/.config/matplotlib/matplotlibrc\", line #2\n",
      "  (fname, cnt))\n",
      "/home/ubuntu/anaconda3/lib/python3.6/site-packages/matplotlib/__init__.py:1067: UserWarning: Duplicate key in file \"/home/ubuntu/.config/matplotlib/matplotlibrc\", line #3\n",
      "  (fname, cnt))\n"
     ]
    }
   ],
   "source": [
    "import pandas as pd\n",
    "import pymysql as mc \n",
    "import os\n",
    "import sys\n",
    "import time\n",
    "import numpy as np\n",
    "from sklearn.neural_network import MLPClassifier\n",
    "from sklearn.linear_model import LogisticRegression\n",
    "from sklearn.svm import SVC\n",
    "import getpass\n",
    "from sklearn.preprocessing import PolynomialFeatures"
   ]
  },
  {
   "cell_type": "code",
   "execution_count": 2,
   "metadata": {},
   "outputs": [
    {
     "name": "stdout",
     "output_type": "stream",
     "text": [
      "········\n"
     ]
    }
   ],
   "source": [
    "pw = getpass.getpass()\n",
    "cnx = mc.connect(user='akashgoyal',password=pw,\n",
    "                 host='stromberg.cs.uchicago.edu',db='mlb_practicum',port=3306)"
   ]
  },
  {
   "cell_type": "code",
   "execution_count": 4,
   "metadata": {},
   "outputs": [
    {
     "name": "stdout",
     "output_type": "stream",
     "text": [
      "done running query\n",
      "done preparing new df for regression\n",
      "done reading query. now onto merging\n",
      "done merging now onto pwins\n",
      "done with p10\n",
      "done with p30\n",
      "done with p50\n",
      "done with p100\n",
      "done adding pythagorean wins\n",
      "you can manually run the neural net now if you like by calling self.create_neural_net(number_nodes)\n"
     ]
    }
   ],
   "source": [
    "a = WinProb(cnx,year=['2016'])"
   ]
  },
  {
   "cell_type": "code",
   "execution_count": 37,
   "metadata": {},
   "outputs": [],
   "source": [
    "X_train = None\n",
    "a = None"
   ]
  },
  {
   "cell_type": "code",
   "execution_count": 13,
   "metadata": {},
   "outputs": [
    {
     "name": "stdout",
     "output_type": "stream",
     "text": [
      "Your in sample Neural Network Score was 0.763385209549546\n"
     ]
    }
   ],
   "source": [
    "nn = MLPClassifier(solver='adam',activation='relu',hidden_layer_sizes=(20,),random_state=1,max_iter=200)\n",
    "nn.fit(X_train,a.Y)\n",
    "print ('Your in sample Neural Network Score was {}'.format(nn.score(X_train,a.Y)))"
   ]
  },
  {
   "cell_type": "code",
   "execution_count": 5,
   "metadata": {},
   "outputs": [
    {
     "name": "stdout",
     "output_type": "stream",
     "text": [
      "done running query\n",
      "done preparing new df for regression\n",
      "done reading query. now onto merging\n",
      "done merging now onto pwins\n",
      "done with p10\n",
      "done with p30\n",
      "done with p50\n",
      "done with p100\n",
      "done adding pythagorean wins\n",
      "you can manually run the neural net now if you like by calling self.create_neural_net(number_nodes)\n"
     ]
    }
   ],
   "source": [
    "b = WinProb(cnx,year=['2011,2012,2013,2014,2015,2017'])"
   ]
  },
  {
   "cell_type": "code",
   "execution_count": 34,
   "metadata": {},
   "outputs": [],
   "source": [
    "X_test = b.X.iloc[:,2:]\n",
    "b.X = b.X.iloc[:,:2]\n",
    "#X_test = b.X.iloc[:,2:]\n",
    "#nn.score(X_test,b.Y)"
   ]
  },
  {
   "cell_type": "code",
   "execution_count": 29,
   "metadata": {},
   "outputs": [],
   "source": [
    "predictions_oos = None"
   ]
  },
  {
   "cell_type": "code",
   "execution_count": 38,
   "metadata": {},
   "outputs": [
    {
     "ename": "MemoryError",
     "evalue": "",
     "output_type": "error",
     "traceback": [
      "\u001b[0;31m---------------------------------------------------------------------------\u001b[0m",
      "\u001b[0;31mMemoryError\u001b[0m                               Traceback (most recent call last)",
      "\u001b[0;32m<ipython-input-38-b93714f1fda8>\u001b[0m in \u001b[0;36m<module>\u001b[0;34m()\u001b[0m\n\u001b[0;32m----> 1\u001b[0;31m \u001b[0mlev\u001b[0m \u001b[0;34m=\u001b[0m \u001b[0mcalculate_leverage\u001b[0m\u001b[0;34m(\u001b[0m\u001b[0mX_test\u001b[0m\u001b[0;34m,\u001b[0m\u001b[0mnn\u001b[0m\u001b[0;34m)\u001b[0m\u001b[0;34m\u001b[0m\u001b[0m\n\u001b[0m",
      "\u001b[0;32m<ipython-input-27-9b912c264c79>\u001b[0m in \u001b[0;36mcalculate_leverage\u001b[0;34m(X, nn)\u001b[0m\n\u001b[1;32m      1\u001b[0m \u001b[0;32mdef\u001b[0m \u001b[0mcalculate_leverage\u001b[0m\u001b[0;34m(\u001b[0m\u001b[0mX\u001b[0m\u001b[0;34m,\u001b[0m\u001b[0mnn\u001b[0m\u001b[0;34m)\u001b[0m\u001b[0;34m:\u001b[0m\u001b[0;34m\u001b[0m\u001b[0m\n\u001b[0;32m----> 2\u001b[0;31m     \u001b[0minitial_win_prob_pitcher_perspective\u001b[0m \u001b[0;34m=\u001b[0m \u001b[0mnn\u001b[0m\u001b[0;34m.\u001b[0m\u001b[0mpredict_proba\u001b[0m\u001b[0;34m(\u001b[0m\u001b[0mX\u001b[0m\u001b[0;34m)\u001b[0m\u001b[0;34m[\u001b[0m\u001b[0;34m:\u001b[0m\u001b[0;34m,\u001b[0m\u001b[0;36m0\u001b[0m\u001b[0;34m]\u001b[0m\u001b[0;34m\u001b[0m\u001b[0m\n\u001b[0m\u001b[1;32m      3\u001b[0m     \u001b[0mX\u001b[0m\u001b[0;34m[\u001b[0m\u001b[0;34m'current_lead'\u001b[0m\u001b[0;34m]\u001b[0m \u001b[0;34m=\u001b[0m \u001b[0mX\u001b[0m\u001b[0;34m.\u001b[0m\u001b[0mapply\u001b[0m\u001b[0;34m(\u001b[0m\u001b[0mmap_expected_runs\u001b[0m\u001b[0;34m,\u001b[0m\u001b[0maxis\u001b[0m\u001b[0;34m=\u001b[0m\u001b[0;36m1\u001b[0m\u001b[0;34m)\u001b[0m\u001b[0;34m\u001b[0m\u001b[0m\n\u001b[1;32m      4\u001b[0m     \u001b[0mend_win_prob_pitcher_benefit\u001b[0m \u001b[0;34m=\u001b[0m \u001b[0mnn\u001b[0m\u001b[0;34m.\u001b[0m\u001b[0mpredict_proba\u001b[0m\u001b[0;34m(\u001b[0m\u001b[0mX\u001b[0m\u001b[0;34m)\u001b[0m\u001b[0;34m[\u001b[0m\u001b[0;34m:\u001b[0m\u001b[0;34m,\u001b[0m\u001b[0;36m0\u001b[0m\u001b[0;34m]\u001b[0m\u001b[0;34m\u001b[0m\u001b[0m\n\u001b[1;32m      5\u001b[0m     \u001b[0;32mreturn\u001b[0m \u001b[0minitial_win_prob_pitcher_perspective\u001b[0m\u001b[0;34m-\u001b[0m\u001b[0mend_win_prob_pitcher_benefit\u001b[0m\u001b[0;34m\u001b[0m\u001b[0m\n",
      "\u001b[0;32m~/anaconda3/lib/python3.6/site-packages/sklearn/neural_network/multilayer_perceptron.py\u001b[0m in \u001b[0;36mpredict_proba\u001b[0;34m(self, X)\u001b[0m\n\u001b[1;32m   1048\u001b[0m         \"\"\"\n\u001b[1;32m   1049\u001b[0m         \u001b[0mcheck_is_fitted\u001b[0m\u001b[0;34m(\u001b[0m\u001b[0mself\u001b[0m\u001b[0;34m,\u001b[0m \u001b[0;34m\"coefs_\"\u001b[0m\u001b[0;34m)\u001b[0m\u001b[0;34m\u001b[0m\u001b[0m\n\u001b[0;32m-> 1050\u001b[0;31m         \u001b[0my_pred\u001b[0m \u001b[0;34m=\u001b[0m \u001b[0mself\u001b[0m\u001b[0;34m.\u001b[0m\u001b[0m_predict\u001b[0m\u001b[0;34m(\u001b[0m\u001b[0mX\u001b[0m\u001b[0;34m)\u001b[0m\u001b[0;34m\u001b[0m\u001b[0m\n\u001b[0m\u001b[1;32m   1051\u001b[0m \u001b[0;34m\u001b[0m\u001b[0m\n\u001b[1;32m   1052\u001b[0m         \u001b[0;32mif\u001b[0m \u001b[0mself\u001b[0m\u001b[0;34m.\u001b[0m\u001b[0mn_outputs_\u001b[0m \u001b[0;34m==\u001b[0m \u001b[0;36m1\u001b[0m\u001b[0;34m:\u001b[0m\u001b[0;34m\u001b[0m\u001b[0m\n",
      "\u001b[0;32m~/anaconda3/lib/python3.6/site-packages/sklearn/neural_network/multilayer_perceptron.py\u001b[0m in \u001b[0;36m_predict\u001b[0;34m(self, X)\u001b[0m\n\u001b[1;32m    658\u001b[0m             \u001b[0mThe\u001b[0m \u001b[0mdecision\u001b[0m \u001b[0mfunction\u001b[0m \u001b[0mof\u001b[0m \u001b[0mthe\u001b[0m \u001b[0msamples\u001b[0m \u001b[0;32mfor\u001b[0m \u001b[0meach\u001b[0m \u001b[0;32mclass\u001b[0m \u001b[0;32min\u001b[0m \u001b[0mthe\u001b[0m \u001b[0mmodel\u001b[0m\u001b[0;34m.\u001b[0m\u001b[0;34m\u001b[0m\u001b[0m\n\u001b[1;32m    659\u001b[0m         \"\"\"\n\u001b[0;32m--> 660\u001b[0;31m         \u001b[0mX\u001b[0m \u001b[0;34m=\u001b[0m \u001b[0mcheck_array\u001b[0m\u001b[0;34m(\u001b[0m\u001b[0mX\u001b[0m\u001b[0;34m,\u001b[0m \u001b[0maccept_sparse\u001b[0m\u001b[0;34m=\u001b[0m\u001b[0;34m[\u001b[0m\u001b[0;34m'csr'\u001b[0m\u001b[0;34m,\u001b[0m \u001b[0;34m'csc'\u001b[0m\u001b[0;34m,\u001b[0m \u001b[0;34m'coo'\u001b[0m\u001b[0;34m]\u001b[0m\u001b[0;34m)\u001b[0m\u001b[0;34m\u001b[0m\u001b[0m\n\u001b[0m\u001b[1;32m    661\u001b[0m \u001b[0;34m\u001b[0m\u001b[0m\n\u001b[1;32m    662\u001b[0m         \u001b[0;31m# Make sure self.hidden_layer_sizes is a list\u001b[0m\u001b[0;34m\u001b[0m\u001b[0;34m\u001b[0m\u001b[0m\n",
      "\u001b[0;32m~/anaconda3/lib/python3.6/site-packages/sklearn/utils/validation.py\u001b[0m in \u001b[0;36mcheck_array\u001b[0;34m(array, accept_sparse, dtype, order, copy, force_all_finite, ensure_2d, allow_nd, ensure_min_samples, ensure_min_features, warn_on_dtype, estimator)\u001b[0m\n\u001b[1;32m    431\u001b[0m                                       force_all_finite)\n\u001b[1;32m    432\u001b[0m     \u001b[0;32melse\u001b[0m\u001b[0;34m:\u001b[0m\u001b[0;34m\u001b[0m\u001b[0m\n\u001b[0;32m--> 433\u001b[0;31m         \u001b[0marray\u001b[0m \u001b[0;34m=\u001b[0m \u001b[0mnp\u001b[0m\u001b[0;34m.\u001b[0m\u001b[0marray\u001b[0m\u001b[0;34m(\u001b[0m\u001b[0marray\u001b[0m\u001b[0;34m,\u001b[0m \u001b[0mdtype\u001b[0m\u001b[0;34m=\u001b[0m\u001b[0mdtype\u001b[0m\u001b[0;34m,\u001b[0m \u001b[0morder\u001b[0m\u001b[0;34m=\u001b[0m\u001b[0morder\u001b[0m\u001b[0;34m,\u001b[0m \u001b[0mcopy\u001b[0m\u001b[0;34m=\u001b[0m\u001b[0mcopy\u001b[0m\u001b[0;34m)\u001b[0m\u001b[0;34m\u001b[0m\u001b[0m\n\u001b[0m\u001b[1;32m    434\u001b[0m \u001b[0;34m\u001b[0m\u001b[0m\n\u001b[1;32m    435\u001b[0m         \u001b[0;32mif\u001b[0m \u001b[0mensure_2d\u001b[0m\u001b[0;34m:\u001b[0m\u001b[0;34m\u001b[0m\u001b[0m\n",
      "\u001b[0;32m~/anaconda3/lib/python3.6/site-packages/pandas/core/generic.py\u001b[0m in \u001b[0;36m__array__\u001b[0;34m(self, dtype)\u001b[0m\n\u001b[1;32m   1149\u001b[0m \u001b[0;34m\u001b[0m\u001b[0m\n\u001b[1;32m   1150\u001b[0m     \u001b[0;32mdef\u001b[0m \u001b[0m__array__\u001b[0m\u001b[0;34m(\u001b[0m\u001b[0mself\u001b[0m\u001b[0;34m,\u001b[0m \u001b[0mdtype\u001b[0m\u001b[0;34m=\u001b[0m\u001b[0;32mNone\u001b[0m\u001b[0;34m)\u001b[0m\u001b[0;34m:\u001b[0m\u001b[0;34m\u001b[0m\u001b[0m\n\u001b[0;32m-> 1151\u001b[0;31m         \u001b[0;32mreturn\u001b[0m \u001b[0m_values_from_object\u001b[0m\u001b[0;34m(\u001b[0m\u001b[0mself\u001b[0m\u001b[0;34m)\u001b[0m\u001b[0;34m\u001b[0m\u001b[0m\n\u001b[0m\u001b[1;32m   1152\u001b[0m \u001b[0;34m\u001b[0m\u001b[0m\n\u001b[1;32m   1153\u001b[0m     \u001b[0;32mdef\u001b[0m \u001b[0m__array_wrap__\u001b[0m\u001b[0;34m(\u001b[0m\u001b[0mself\u001b[0m\u001b[0;34m,\u001b[0m \u001b[0mresult\u001b[0m\u001b[0;34m,\u001b[0m \u001b[0mcontext\u001b[0m\u001b[0;34m=\u001b[0m\u001b[0;32mNone\u001b[0m\u001b[0;34m)\u001b[0m\u001b[0;34m:\u001b[0m\u001b[0;34m\u001b[0m\u001b[0m\n",
      "\u001b[0;32mpandas/_libs/lib.pyx\u001b[0m in \u001b[0;36mpandas._libs.lib.values_from_object\u001b[0;34m()\u001b[0m\n",
      "\u001b[0;32m~/anaconda3/lib/python3.6/site-packages/pandas/core/generic.py\u001b[0m in \u001b[0;36mget_values\u001b[0;34m(self)\u001b[0m\n\u001b[1;32m   3823\u001b[0m     \u001b[0;32mdef\u001b[0m \u001b[0mget_values\u001b[0m\u001b[0;34m(\u001b[0m\u001b[0mself\u001b[0m\u001b[0;34m)\u001b[0m\u001b[0;34m:\u001b[0m\u001b[0;34m\u001b[0m\u001b[0m\n\u001b[1;32m   3824\u001b[0m         \u001b[0;34m\"\"\"same as values (but handles sparseness conversions)\"\"\"\u001b[0m\u001b[0;34m\u001b[0m\u001b[0m\n\u001b[0;32m-> 3825\u001b[0;31m         \u001b[0;32mreturn\u001b[0m \u001b[0mself\u001b[0m\u001b[0;34m.\u001b[0m\u001b[0mas_matrix\u001b[0m\u001b[0;34m(\u001b[0m\u001b[0;34m)\u001b[0m\u001b[0;34m\u001b[0m\u001b[0m\n\u001b[0m\u001b[1;32m   3826\u001b[0m \u001b[0;34m\u001b[0m\u001b[0m\n\u001b[1;32m   3827\u001b[0m     \u001b[0;32mdef\u001b[0m \u001b[0mget_dtype_counts\u001b[0m\u001b[0;34m(\u001b[0m\u001b[0mself\u001b[0m\u001b[0;34m)\u001b[0m\u001b[0;34m:\u001b[0m\u001b[0;34m\u001b[0m\u001b[0m\n",
      "\u001b[0;32m~/anaconda3/lib/python3.6/site-packages/pandas/core/generic.py\u001b[0m in \u001b[0;36mas_matrix\u001b[0;34m(self, columns)\u001b[0m\n\u001b[1;32m   3790\u001b[0m         \u001b[0mself\u001b[0m\u001b[0;34m.\u001b[0m\u001b[0m_consolidate_inplace\u001b[0m\u001b[0;34m(\u001b[0m\u001b[0;34m)\u001b[0m\u001b[0;34m\u001b[0m\u001b[0m\n\u001b[1;32m   3791\u001b[0m         \u001b[0;32mif\u001b[0m \u001b[0mself\u001b[0m\u001b[0;34m.\u001b[0m\u001b[0m_AXIS_REVERSED\u001b[0m\u001b[0;34m:\u001b[0m\u001b[0;34m\u001b[0m\u001b[0m\n\u001b[0;32m-> 3792\u001b[0;31m             \u001b[0;32mreturn\u001b[0m \u001b[0mself\u001b[0m\u001b[0;34m.\u001b[0m\u001b[0m_data\u001b[0m\u001b[0;34m.\u001b[0m\u001b[0mas_matrix\u001b[0m\u001b[0;34m(\u001b[0m\u001b[0mcolumns\u001b[0m\u001b[0;34m)\u001b[0m\u001b[0;34m.\u001b[0m\u001b[0mT\u001b[0m\u001b[0;34m\u001b[0m\u001b[0m\n\u001b[0m\u001b[1;32m   3793\u001b[0m         \u001b[0;32mreturn\u001b[0m \u001b[0mself\u001b[0m\u001b[0;34m.\u001b[0m\u001b[0m_data\u001b[0m\u001b[0;34m.\u001b[0m\u001b[0mas_matrix\u001b[0m\u001b[0;34m(\u001b[0m\u001b[0mcolumns\u001b[0m\u001b[0;34m)\u001b[0m\u001b[0;34m\u001b[0m\u001b[0m\n\u001b[1;32m   3794\u001b[0m \u001b[0;34m\u001b[0m\u001b[0m\n",
      "\u001b[0;32m~/anaconda3/lib/python3.6/site-packages/pandas/core/internals.py\u001b[0m in \u001b[0;36mas_matrix\u001b[0;34m(self, items)\u001b[0m\n\u001b[1;32m   3676\u001b[0m             \u001b[0;32mreturn\u001b[0m \u001b[0mmgr\u001b[0m\u001b[0;34m.\u001b[0m\u001b[0mblocks\u001b[0m\u001b[0;34m[\u001b[0m\u001b[0;36m0\u001b[0m\u001b[0;34m]\u001b[0m\u001b[0;34m.\u001b[0m\u001b[0mget_values\u001b[0m\u001b[0;34m(\u001b[0m\u001b[0;34m)\u001b[0m\u001b[0;34m\u001b[0m\u001b[0m\n\u001b[1;32m   3677\u001b[0m         \u001b[0;32melse\u001b[0m\u001b[0;34m:\u001b[0m\u001b[0;34m\u001b[0m\u001b[0m\n\u001b[0;32m-> 3678\u001b[0;31m             \u001b[0;32mreturn\u001b[0m \u001b[0mmgr\u001b[0m\u001b[0;34m.\u001b[0m\u001b[0m_interleave\u001b[0m\u001b[0;34m(\u001b[0m\u001b[0;34m)\u001b[0m\u001b[0;34m\u001b[0m\u001b[0m\n\u001b[0m\u001b[1;32m   3679\u001b[0m \u001b[0;34m\u001b[0m\u001b[0m\n\u001b[1;32m   3680\u001b[0m     \u001b[0;32mdef\u001b[0m \u001b[0m_interleave\u001b[0m\u001b[0;34m(\u001b[0m\u001b[0mself\u001b[0m\u001b[0;34m)\u001b[0m\u001b[0;34m:\u001b[0m\u001b[0;34m\u001b[0m\u001b[0m\n",
      "\u001b[0;32m~/anaconda3/lib/python3.6/site-packages/pandas/core/internals.py\u001b[0m in \u001b[0;36m_interleave\u001b[0;34m(self)\u001b[0m\n\u001b[1;32m   3685\u001b[0m         \u001b[0mdtype\u001b[0m \u001b[0;34m=\u001b[0m \u001b[0m_interleaved_dtype\u001b[0m\u001b[0;34m(\u001b[0m\u001b[0mself\u001b[0m\u001b[0;34m.\u001b[0m\u001b[0mblocks\u001b[0m\u001b[0;34m)\u001b[0m\u001b[0;34m\u001b[0m\u001b[0m\n\u001b[1;32m   3686\u001b[0m \u001b[0;34m\u001b[0m\u001b[0m\n\u001b[0;32m-> 3687\u001b[0;31m         \u001b[0mresult\u001b[0m \u001b[0;34m=\u001b[0m \u001b[0mnp\u001b[0m\u001b[0;34m.\u001b[0m\u001b[0mempty\u001b[0m\u001b[0;34m(\u001b[0m\u001b[0mself\u001b[0m\u001b[0;34m.\u001b[0m\u001b[0mshape\u001b[0m\u001b[0;34m,\u001b[0m \u001b[0mdtype\u001b[0m\u001b[0;34m=\u001b[0m\u001b[0mdtype\u001b[0m\u001b[0;34m)\u001b[0m\u001b[0;34m\u001b[0m\u001b[0m\n\u001b[0m\u001b[1;32m   3688\u001b[0m \u001b[0;34m\u001b[0m\u001b[0m\n\u001b[1;32m   3689\u001b[0m         \u001b[0;32mif\u001b[0m \u001b[0mresult\u001b[0m\u001b[0;34m.\u001b[0m\u001b[0mshape\u001b[0m\u001b[0;34m[\u001b[0m\u001b[0;36m0\u001b[0m\u001b[0;34m]\u001b[0m \u001b[0;34m==\u001b[0m \u001b[0;36m0\u001b[0m\u001b[0;34m:\u001b[0m\u001b[0;34m\u001b[0m\u001b[0m\n",
      "\u001b[0;31mMemoryError\u001b[0m: "
     ]
    }
   ],
   "source": [
    "lev = calculate_leverage(X_test,nn)"
   ]
  },
  {
   "cell_type": "code",
   "execution_count": 22,
   "metadata": {},
   "outputs": [],
   "source": [
    "def map_expected_runs(df):\n",
    "    total = 0\n",
    "    if df['1b_runner']:\n",
    "        total+=1\n",
    "    if df['2b runner']:\n",
    "        total+=2\n",
    "    if df['3b_runner']:\n",
    "        total+=4\n",
    "    if df['outs']==1:\n",
    "        total+=8\n",
    "    elif df['outs']==2:\n",
    "        total+=16\n",
    "    \n",
    "    leverage_dict = {0: 0.539, 1: 0.918, 2: 1.161, 3: 1.46, 4: 1.449, 5: 1.636, 6: 1.79,7: 2.113,\n",
    " 8: 0.284, 9: 0.536, 10: 0.67, 11: 0.90, 12: 1.08, 13: 1.06, 14: 1.44, 15: 1.55,\n",
    " 16: 0.13, 17: 0.254, 18: 0.365, 19: 0.51, 20: 0.38, 21: 0.503, 22: 0.55, 23: 0.764}\n",
    "    return total[leverage_dict]+df['current_lead']"
   ]
  },
  {
   "cell_type": "code",
   "execution_count": 27,
   "metadata": {},
   "outputs": [],
   "source": [
    "def calculate_leverage(X,nn):\n",
    "    initial_win_prob_pitcher_perspective = nn.predict_proba(X)[:,0]\n",
    "    X['current_lead'] = X.apply(map_expected_runs,axis=1)\n",
    "    end_win_prob_pitcher_benefit = nn.predict_proba(X)[:,0]\n",
    "    return initial_win_prob_pitcher_perspective-end_win_prob_pitcher_benefit"
   ]
  },
  {
   "cell_type": "code",
   "execution_count": 32,
   "metadata": {},
   "outputs": [],
   "source": [
    "prediction_probabilities = None"
   ]
  },
  {
   "cell_type": "code",
   "execution_count": 3,
   "metadata": {},
   "outputs": [],
   "source": [
    "class WinProb:\n",
    "    '''\n",
    "        cnx is the SQL connection, sql_attrs is a list of items in either Pitch2 or\n",
    "        Pitcher_Run_Expectancy. Enter a year between 2010 and 2017. you must enter\n",
    "        at least one item in the list or else it will mess up. \n",
    "    '''\n",
    "    def __init__(self,cnx,year=None):\n",
    "        self.cnx = cnx\n",
    "        self.year = year\n",
    "        self.sql_attrs = ['Pitcher_Run_Expectancy.300_avg','Pitcher_Run_Expectancy.500_avg',\n",
    "                          'Pitcher_Run_Expectancy.1000_avg','Pitcher_Run_Expectancy.2000_avg',\n",
    "                          'timesFaced','cumulativePitches']\n",
    "        self.df = self.run_sql_query()\n",
    "        print ('done running query')\n",
    "        self.add_wins_and_current_lead()\n",
    "        self.classify_count()\n",
    "        self.add_runners_on_base()\n",
    "        self.X,self.Y = self.prepare_logistic_regression()\n",
    "        print ('done preparing new df for regression')\n",
    "        self.add_pythagorean_wins()\n",
    "        print ('done adding pythagorean wins')\n",
    "        print ('you can manually run the neural net now if you like by calling self.create_neural_net(number_nodes)')\n",
    "        self.df = None\n",
    "        self.nn = None\n",
    "\n",
    "    def run_sql_query(self):\n",
    "        query = ''\n",
    "        if 4==4:\n",
    "            #gets the home_team final score, away_team final score, current inning (if ends in 0.5 its home, if 0 away)\n",
    "            # balls, strikes, runners on 1st,2nd,3rd, current runs for the home team/awayteam, and the average \n",
    "            # wrc for the home team less that for the away team for trailing 100,300,500,1000AB's\n",
    "            # in the sql_attrs there is 300,500,1000,20000 trailing wrc from pitcher perspective, as well as times faced\n",
    "            # and cumulative pitches \n",
    "            #note that team_starting_wrc_stats is this view below. \n",
    "            '''\n",
    "                CREATE VIEW team_starting_wrc_stats AS \n",
    "                SELECT gameID,retrosheet,100_avg,300_avg,500_avg,1000_avg FROM Team_wrc_stats twrc\n",
    "                INNER JOIN Team_Mapping t1 ON t1.mlb = twrc.team;\n",
    "            '''\n",
    "            query = \"\"\"SELECT Game.gameID AS gameID,Pitch2.pitchID AS pitchID,outs, homeTeamScore,awayTeamScore,curr_inn,balls,strikes,\n",
    "                        firstBaseRunner, secondBaseRunner,thirdBaseRunner,home_team_runs,away_team_runs,\n",
    "                        (trc1.100_avg - trc2.100_avg) AS home_less_away_100, (trc1.300_avg-trc2.300_avg) AS home_less_away_300,\n",
    "                        (trc1.500_avg-trc2.500_avg) AS home_less_away_500, (trc1.1000_avg-trc2.1000_avg) AS home_less_away_1000,{}\n",
    "                        FROM Pitch2 INNER JOIN Game ON Game.gameID = Pitch2.gameID INNER JOIN Pitcher_Run_Expectancy ON \n",
    "                        (Pitcher_Run_Expectancy.gameID = Pitch2.gameID AND\n",
    "                        Pitcher_Run_Expectancy.playerID = Pitch2.pitcherID)\n",
    "                        INNER JOIN team_starting_wrc_stats trc1 ON \n",
    "                        (trc1.gameID = Pitch2.gameID AND trc1.retrosheet = Game.homeTeam) \n",
    "                        INNER JOIN team_starting_wrc_stats trc2 ON \n",
    "                        (trc2.gameID = Pitch2.gameID AND trc2.retrosheet = Game.awayTeam) \n",
    "                        WHERE YEAR(gameDate) IN ({})\"\"\".format(','.join(self.sql_attrs),','.join(self.year))\n",
    "            df = pd.read_sql_query(query,self.cnx)\n",
    "            return df \n",
    "    \n",
    "    def add_wins_and_current_lead(self):\n",
    "        #define whether or not the team batting now won or lost the game \n",
    "        self.df['win'] = pd.Series([(1 if (x[0]<x[1] and x[2]*2%2==0) or (x[0]>x[1] and x[2]*2%2==1) else 0)\n",
    "                        for x in self.df[['homeTeamScore','awayTeamScore','curr_inn']].values])\n",
    "        \n",
    "        #get current team's wrc\n",
    "        trailing_abs = ['100','300','500','1000']\n",
    "        for ab_num in trailing_abs:\n",
    "            self.df[f'home_less_away_{ab_num}'] = np.where(self.df['curr_inn']*2%2==1,\n",
    "                                                           self.df[f'home_less_away_{ab_num}'],\n",
    "                                                           -self.df[f'home_less_away_{ab_num}'])\n",
    "        #add the current lead \n",
    "        l = []\n",
    "        for x in self.df[['home_team_runs','away_team_runs','curr_inn']].values:\n",
    "            #if home team\n",
    "            if x[2]*2%2==1:\n",
    "                l.append(x[0]-x[1])\n",
    "            else:\n",
    "                l.append(x[1]-x[0])\n",
    "        self.df['current_lead'] = l\n",
    "        #drop the homeTeamScore,awayTeamScore since we don't know the final outcome at the current pitch \n",
    "        self.df.drop(columns=['homeTeamScore','awayTeamScore','home_team_runs','away_team_runs'],inplace=True)\n",
    "    \n",
    "    #create 12 variables for each type of count \n",
    "    def classify_count(self):\n",
    "        s = pd.Series([(x[0],x[1]) for x in self.df[['balls','strikes']].values])\n",
    "        s = pd.get_dummies(s)\n",
    "        self.df = self.df.join(s,how='outer')\n",
    "        self.df.drop(columns=['balls','strikes'],inplace=True) \n",
    "        \n",
    "    def add_runners_on_base(self):\n",
    "        #indicator variables if runners on base\n",
    "        self.df['1b runner'] = self.df.apply(lambda row: 1 if row['firstBaseRunner'] else 0,axis=1)\n",
    "        self.df['2b runner'] = self.df.apply(lambda row: 1 if row['secondBaseRunner'] else 0,axis=1)\n",
    "        self.df['3b runner'] = self.df.apply(lambda row: 1 if row['thirdBaseRunner'] else 0,axis=1)\n",
    "        self.df['mod_inning'] = self.df.apply(lambda row: int(row['curr_inn']),axis=1)\n",
    "        self.df['home_away'] = self.df.apply(lambda row: 0 if row['curr_inn']*2%2==1 else 1,axis=1)\n",
    "        '''\n",
    "        firstRunner = []\n",
    "        secondRunner = []\n",
    "        thirdRunner = []\n",
    "        mod_inning = []\n",
    "        home_away = []\n",
    "        for x in self.df[['firstBaseRunner','secondBaseRunner','thirdBaseRunner','curr_inn']].values:\n",
    "            firstRunner.append(1 if x[0] else 0)\n",
    "            secondRunner.append(1 if x[1] else 0)\n",
    "            thirdRunner.append(1 if x[2] else 0)\n",
    "            if (2*x[3])%2 == 1:\n",
    "                mod_inning.append(x[3]-0.5)\n",
    "                home_away.append(0)\n",
    "            else:\n",
    "                mod_inning.append(x[3])\n",
    "                home_away.append(1)\n",
    "        self.df['1b runner'] = firstRunner\n",
    "        self.df['2b runner'] = secondRunner\n",
    "        self.df['3b runner'] = thirdRunner\n",
    "        self.df['mod inning'] = mod_inning\n",
    "        self.df['home_away'] = home_away\n",
    "        '''\n",
    "        self.df.drop(columns=['curr_inn','firstBaseRunner','secondBaseRunner',\n",
    "                              'thirdBaseRunner'],inplace=True)\n",
    "        \n",
    "    def prepare_logistic_regression(self):\n",
    "        Y = self.df['win']\n",
    "        X = self.df.drop(columns=['win'])\n",
    "        return X,Y\n",
    "\n",
    "    def add_pythagorean_wins(self):\n",
    "        qry = \"\"\"SELECT gameID, (away10-home10) AS p10, (away30-home30) AS p30,\n",
    "                (away50-home30) AS p50, (away100-home100) AS p100 \n",
    "                FROM Pythagorean_Wins\"\"\"\n",
    "        wins_df = pd.read_sql_query(qry,self.cnx)\n",
    "        print ('done reading query. now onto merging')\n",
    "        self.X = self.X.merge(wins_df,how='inner',left_on='gameID',right_on='gameID')\n",
    "        print ('done merging now onto pwins')\n",
    "        #this part just takes the difference of the pythagorean win expectancy\n",
    "        self.X['p10'] = self.X.apply(lambda row: row['p10'] if row['home_away']==1 else -row['p10'],axis=1)\n",
    "        print ('done with p10')\n",
    "        self.X['p30'] = self.X.apply(lambda row: row['p30'] if row['home_away']==1 else -row['p30'],axis=1)\n",
    "        print ('done with p30')\n",
    "        self.X['p50'] = self.X.apply(lambda row: row['p50'] if row['home_away']==1 else -row['p50'],axis=1)\n",
    "        print ('done with p50')\n",
    "        self.X['p100'] = self.X.apply(lambda row: row['p100'] if row['home_away']==1 else -row['p100'],axis=1)\n",
    "        print ('done with p100')\n",
    "\n",
    "    #for now I'll support just one hidden layer\n",
    "    def create_neural_net(self,hidden_nodes):\n",
    "        nn = MLPClassifier(solver='adam',alpha=0.001,hidden_layer_sizes=(hidden_nodes,),random_state=1)\n",
    "        nn.fit(self.X,self.Y)\n",
    "        self.nn = nn \n",
    "        print ('Your in sample Neural Network Score was {}'.format(nn.score(self.X,self.Y))) \n",
    "\n",
    "    def calculate_leverage(self,aRow):\n",
    "        initial_win_prob_pitcher_perspective = nn.predict_proba(aRow.values.reshape(1,-1))[0]\n",
    "        pitcher_team_gives_up_one_run = aRow.copy()\n",
    "        pitcher_team_gives_up_one_run['current_lead']+=1 #this is correct bc current lead is from batters POV\n",
    "        end_win_prob_pitcher_benefit = nn.predict_proba(pitcher_team_gives_up_one_run.values.reshape(1,-1))[0]\n",
    "        return initial_win_prob_pitcher_perspective-end_win_prob_pitcher_benefit"
   ]
  },
  {
   "cell_type": "code",
   "execution_count": null,
   "metadata": {},
   "outputs": [],
   "source": []
  }
 ],
 "metadata": {
  "kernelspec": {
   "display_name": "Python [default]",
   "language": "python",
   "name": "python3"
  },
  "language_info": {
   "codemirror_mode": {
    "name": "ipython",
    "version": 3
   },
   "file_extension": ".py",
   "mimetype": "text/x-python",
   "name": "python",
   "nbconvert_exporter": "python",
   "pygments_lexer": "ipython3",
   "version": "3.6.4"
  }
 },
 "nbformat": 4,
 "nbformat_minor": 2
}
