{
 "cells": [
  {
   "cell_type": "code",
   "execution_count": 19,
   "metadata": {},
   "outputs": [],
   "source": [
    "import pandas as pd\n",
    "import pymysql as mc \n",
    "import os\n",
    "import sys\n",
    "import time\n",
    "import numpy as np\n",
    "from sklearn.neural_network import MLPClassifier"
   ]
  },
  {
   "cell_type": "code",
   "execution_count": 42,
   "metadata": {},
   "outputs": [],
   "source": [
    "cnx = mc.connect(user='akashgoyal',password=os.environ['DB_PASSWORD'],\n",
    "                 host='stromberg.cs.uchicago.edu',db='mlb_practicum',port=3306)"
   ]
  },
  {
   "cell_type": "code",
   "execution_count": 3,
   "metadata": {},
   "outputs": [],
   "source": [
    "query = \"\"\"SELECT p1.gameID,p1.playerID,firstName,lastName,batPosition,\n",
    "            teamAbbreviation AS player_mlb_team,100_avg,300_avg,500_avg, 1000_avg FROM Player p1\n",
    "            INNER JOIN Batter_Run_Expectancy b1 ON\n",
    "            (p1.gameID = b1.gameID AND p1.playerID = b1.playerID)\"\"\"\n",
    "df = pd.read_sql_query(query,cnx)"
   ]
  },
  {
   "cell_type": "code",
   "execution_count": 17,
   "metadata": {},
   "outputs": [
    {
     "name": "stdout",
     "output_type": "stream",
     "text": [
      "done running query\n",
      "done preparing new df for regression\n",
      "done adding pythagorean wins\n",
      "you can manually run the neural net now if you like by calling self.create_neural_net(number_nodes)\n"
     ]
    }
   ],
   "source": [
    "a = WinProb(cnx,year=['2011'])"
   ]
  },
  {
   "cell_type": "code",
   "execution_count": 43,
   "metadata": {},
   "outputs": [
    {
     "name": "stdout",
     "output_type": "stream",
     "text": [
      "done running query\n",
      "done preparing new df for regression\n",
      "done adding pythagorean wins\n",
      "you can manually run the neural net now if you like by calling self.create_neural_net(number_nodes)\n"
     ]
    }
   ],
   "source": [
    "b = WinProb(cnx,year=['2012'])"
   ]
  },
  {
   "cell_type": "code",
   "execution_count": 44,
   "metadata": {},
   "outputs": [
    {
     "name": "stdout",
     "output_type": "stream",
     "text": [
      "Your out-of-sample Neural Network Score for 2012 was 0.7106711123723042\n"
     ]
    }
   ],
   "source": [
    "print ('Your out-of-sample Neural Network Score for 2012 was {}'.format(nn.score(b.X,b.Y)))"
   ]
  },
  {
   "cell_type": "code",
   "execution_count": 40,
   "metadata": {},
   "outputs": [
    {
     "name": "stdout",
     "output_type": "stream",
     "text": [
      "Your in sample Neural Network Score was 0.8686578816727224\n"
     ]
    }
   ],
   "source": [
    "nn = MLPClassifier(solver='adam',activation='relu',hidden_layer_sizes=(80,40),random_state=1,max_iter=200)\n",
    "nn.fit(a.X,a.Y)\n",
    "print ('Your in sample Neural Network Score was {}'.format(nn.score(a.X,a.Y)))"
   ]
  },
  {
   "cell_type": "code",
   "execution_count": 16,
   "metadata": {},
   "outputs": [],
   "source": [
    "class WinProb:\n",
    "    '''\n",
    "        cnx is the SQL connection, sql_attrs is a list of items in either Pitch2 or\n",
    "        Pitcher_Run_Expectancy. Enter a year between 2010 and 2017. you must enter\n",
    "        at least one item in the list or else it will mess up. \n",
    "    '''\n",
    "    def __init__(self,cnx,year=None):\n",
    "        self.cnx = cnx\n",
    "        self.year = year\n",
    "        self.sql_attrs = ['Pitcher_Run_Expectancy.300_avg','Pitcher_Run_Expectancy.500_avg',\n",
    "                          'Pitcher_Run_Expectancy.1000_avg','Pitcher_Run_Expectancy.2000_avg',\n",
    "                          'timesFaced','cumulativePitches']\n",
    "        self.df = self.run_sql_query()\n",
    "        print ('done running query')\n",
    "        self.add_wins_and_current_lead()\n",
    "        self.classify_count()\n",
    "        self.add_runners_on_base()\n",
    "        self.X,self.Y = self.prepare_logistic_regression()\n",
    "        print ('done preparing new df for regression')\n",
    "        self.add_pythagorean_wins()\n",
    "        print ('done adding pythagorean wins')\n",
    "        print ('you can manually run the neural net now if you like by calling self.create_neural_net(number_nodes)')\n",
    "        self.nn = None\n",
    "\n",
    "    def run_sql_query(self):\n",
    "        query = ''\n",
    "        if not self.year:\n",
    "            query = \"\"\"SELECT Game.gameID AS gameID,homeTeamScore,awayTeamScore,curr_inn,balls,strikes,\n",
    "                        firstBaseRunner, secondBaseRunner,thirdBaseRunner,home_team_runs,away_team_runs,\n",
    "                        (trc1.100_avg - trc2.100_avg) AS home_less_away_100, (trc1.300_avg-trc2.300_avg) AS home_less_away_300,\n",
    "                        (trc1.500_avg-trc2.500_avg) AS home_less_away_500, (trc1.1000_avg-trc2.1000_avg) AS home_less_away_1000,{}\n",
    "                        FROM Pitch2 INNER JOIN Game ON Game.gameID = Pitch2.gameID INNER JOIN Pitcher_Run_Expectancy ON \n",
    "                        (Pitcher_Run_Expectancy.gameID = Pitch2.gameID AND\n",
    "                        Pitcher_Run_Expectancy.playerID = Pitch2.pitcherID)\n",
    "                        INNER JOIN team_starting_wrc_stats trc1 ON \n",
    "                        (trc1.gameID = Pitch2.gameID AND trc1.retrosheet = Game.homeTeam) \n",
    "                        INNER JOIN team_starting_wrc_stats trc2 ON \n",
    "                        (trc2.gameID = Pitch2.gameID AND trc2.retrosheet = Game.awayTeam)\"\"\".format(','+','.join(self.sql_attrs))\n",
    "        else:\n",
    "            #gets the home_team final score, away_team final score, current inning (if ends in 0.5 its home, if 0 away)\n",
    "            # balls, strikes, runners on 1st,2nd,3rd, current runs for the home team/awayteam, and the average \n",
    "            # wrc for the home team less that for the away team for trailing 100,300,500,1000AB's\n",
    "            # in the sql_attrs there is 300,500,1000,20000 trailing wrc from pitcher perspective, as well as times faced\n",
    "            # and cumulative pitches \n",
    "            #note that team_starting_wrc_stats is this view below. \n",
    "            '''\n",
    "                CREATE VIEW team_starting_wrc_stats AS \n",
    "                SELECT gameID,retrosheet,100_avg,300_avg,500_avg,1000_avg FROM Team_wrc_stats twrc\n",
    "                INNER JOIN Team_Mapping t1 ON t1.mlb = twrc.team;\n",
    "            '''\n",
    "            query = \"\"\"SELECT Game.gameID AS gameID,homeTeamScore,awayTeamScore,curr_inn,balls,strikes,\n",
    "                        firstBaseRunner, secondBaseRunner,thirdBaseRunner,home_team_runs,away_team_runs,\n",
    "                        (trc1.100_avg - trc2.100_avg) AS home_less_away_100, (trc1.300_avg-trc2.300_avg) AS home_less_away_300,\n",
    "                        (trc1.500_avg-trc2.500_avg) AS home_less_away_500, (trc1.1000_avg-trc2.1000_avg) AS home_less_away_1000,{}\n",
    "                        FROM Pitch2 INNER JOIN Game ON Game.gameID = Pitch2.gameID INNER JOIN Pitcher_Run_Expectancy ON \n",
    "                        (Pitcher_Run_Expectancy.gameID = Pitch2.gameID AND\n",
    "                        Pitcher_Run_Expectancy.playerID = Pitch2.pitcherID)\n",
    "                        INNER JOIN team_starting_wrc_stats trc1 ON \n",
    "                        (trc1.gameID = Pitch2.gameID AND trc1.retrosheet = Game.homeTeam) \n",
    "                        INNER JOIN team_starting_wrc_stats trc2 ON \n",
    "                        (trc2.gameID = Pitch2.gameID AND trc2.retrosheet = Game.awayTeam) \n",
    "                        WHERE YEAR(gameDate) IN ({})\"\"\".format(','.join(self.sql_attrs),','.join(self.year))\n",
    "            df = pd.read_sql_query(query,self.cnx)\n",
    "            return df \n",
    "    \n",
    "    def add_wins_and_current_lead(self):\n",
    "        #define whether or not the team batting now won or lost the game \n",
    "        self.df['win'] = pd.Series([(1 if (x[0]<x[1] and x[2]*2%2==0) or (x[0]>x[1] and x[2]*2%2==1) else 0)\n",
    "                        for x in self.df[['homeTeamScore','awayTeamScore','curr_inn']].values])\n",
    "        \n",
    "        #get current team's wrc\n",
    "        trailing_abs = ['100','300','500','1000']\n",
    "        for ab_num in trailing_abs:\n",
    "            self.df[f'home_less_away_{ab_num}'] = np.where(self.df['curr_inn']*2%2==1,\n",
    "                                                           self.df[f'home_less_away_{ab_num}'],\n",
    "                                                           -self.df[f'home_less_away_{ab_num}'])\n",
    "        #add the current lead \n",
    "        l = []\n",
    "        for x in self.df[['home_team_runs','away_team_runs','curr_inn']].values:\n",
    "            #if home team\n",
    "            if x[2]*2%2==1:\n",
    "                l.append(x[0]-x[1])\n",
    "            else:\n",
    "                l.append(x[1]-x[0])\n",
    "        self.df['current_lead'] = l\n",
    "        #drop the homeTeamScore,awayTeamScore since we don't know the final outcome at the current pitch \n",
    "        self.df.drop(columns=['homeTeamScore','awayTeamScore','home_team_runs','away_team_runs'],inplace=True)\n",
    "    \n",
    "    #create 12 variables for each type of count \n",
    "    def classify_count(self):\n",
    "        s = pd.Series([(x[0],x[1]) for x in self.df[['balls','strikes']].values])\n",
    "        s = pd.get_dummies(s)\n",
    "        self.df = self.df.join(s,how='outer')\n",
    "        self.df.drop(columns=['balls','strikes'],inplace=True) \n",
    "        \n",
    "    def add_runners_on_base(self):\n",
    "        #indicator variables if runners on base\n",
    "        firstRunner = []\n",
    "        secondRunner = []\n",
    "        thirdRunner = []\n",
    "        mod_inning = []\n",
    "        home_away = []\n",
    "        for x in self.df[['firstBaseRunner','secondBaseRunner','thirdBaseRunner','curr_inn']].values:\n",
    "            firstRunner.append(1 if x[0] else 0)\n",
    "            secondRunner.append(1 if x[1] else 0)\n",
    "            thirdRunner.append(1 if x[2] else 0)\n",
    "            if (2*x[3])%2 == 1:\n",
    "                mod_inning.append(x[3]-0.5)\n",
    "                home_away.append(0)\n",
    "            else:\n",
    "                mod_inning.append(x[3])\n",
    "                home_away.append(1)\n",
    "        self.df['1b runner'] = firstRunner\n",
    "        self.df['2b runner'] = secondRunner\n",
    "        self.df['3b runner'] = thirdRunner\n",
    "        self.df['mod inning'] = mod_inning\n",
    "        self.df['home_away'] = home_away\n",
    "        self.df.drop(columns=['curr_inn','firstBaseRunner','secondBaseRunner',\n",
    "                              'thirdBaseRunner'],inplace=True)\n",
    "        \n",
    "    def prepare_logistic_regression(self):\n",
    "        Y = self.df['win']\n",
    "        X = self.df.drop(columns=['win'])\n",
    "        return X,Y\n",
    "\n",
    "    def add_pythagorean_wins(self):\n",
    "        qry = 'SELECT * FROM Pythagorean_Wins'\n",
    "        wins_df = pd.read_sql_query(qry,self.cnx)\n",
    "        self.X = self.X.merge(wins_df,how='inner',left_on='gameID',right_on='gameID')\n",
    "\n",
    "        #this part just takes the difference of the pythagorean win expectancy\n",
    "        c10 = []\n",
    "        c30 = []\n",
    "        c50 = []\n",
    "        c100 = []\n",
    "        for (indx,row) in self.X.iterrows():\n",
    "            x10 = row['away10']-row['home10']\n",
    "            x30 = row['away30'] - row['home30']\n",
    "            x50 = row['away50'] - row['home50']\n",
    "            x100 = row['away100'] - row['home100']\n",
    "            if row['home_away'] == 1: #if away\n",
    "                c10.append(x10)\n",
    "                c30.append(x30)\n",
    "                c50.append(x50)\n",
    "                c100.append(x100)\n",
    "            else:\n",
    "                c10.append(-x10)\n",
    "                c30.append(-x30)\n",
    "                c50.append(-x50)\n",
    "                c100.append(-x100)\n",
    "        self.X['p10'] = c10 \n",
    "        self.X['p30'] = c30\n",
    "        self.X['p50'] = c50\n",
    "        self.X['p100'] = c100\n",
    "        self.X = self.X.drop(columns=['home10','away10','home30','away30','home50',\n",
    "                                      'away50','home100','away100','gameID'])\n",
    "\n",
    "    #for now I'll support just one hidden layer\n",
    "    def create_neural_net(self,hidden_nodes):\n",
    "        nn = MLPClassifier(solver='lbfgs',alpha=0.001,hidden_layer_sizes=(hidden_nodes,),random_state=1)\n",
    "        nn.fit(self.X,self.Y)\n",
    "        self.nn = nn \n",
    "        print ('Your in sample Neural Network Score was {}'.format(nn.score(self.X,self.Y))) \n",
    "\n",
    "    def calculate_leverage(self,aRow):\n",
    "        initial_win_prob_pitcher_perspective = nn.predict_proba(aRow.values.reshape(1,-1))[0]\n",
    "        pitcher_team_gives_up_one_run = aRow.copy()\n",
    "        pitcher_team_gives_up_one_run['current_lead']+=1 #this is correct bc current lead is from batters POV\n",
    "        end_win_prob_pitcher_benefit = nn.predict_proba(pitcher_team_gives_up_one_run.values.reshape(1,-1))[0]\n",
    "        return initial_win_prob_pitcher_perspective-end_win_prob_pitcher_benefit"
   ]
  },
  {
   "cell_type": "code",
   "execution_count": null,
   "metadata": {},
   "outputs": [],
   "source": []
  }
 ],
 "metadata": {
  "kernelspec": {
   "display_name": "Python 3",
   "language": "python",
   "name": "python3"
  },
  "language_info": {
   "codemirror_mode": {
    "name": "ipython",
    "version": 3
   },
   "file_extension": ".py",
   "mimetype": "text/x-python",
   "name": "python",
   "nbconvert_exporter": "python",
   "pygments_lexer": "ipython3",
   "version": "3.6.2"
  }
 },
 "nbformat": 4,
 "nbformat_minor": 2
}
