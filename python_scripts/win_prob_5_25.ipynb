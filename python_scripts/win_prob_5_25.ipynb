{
 "cells": [
  {
   "cell_type": "code",
   "execution_count": 1,
   "metadata": {},
   "outputs": [],
   "source": [
    "import pandas as pd\n",
    "import pymysql as mc \n",
    "import os\n",
    "import sys\n",
    "import time\n",
    "import numpy as np\n",
    "from sklearn.neural_network import MLPClassifier\n",
    "from sklearn.linear_model import LogisticRegression\n",
    "from sklearn.svm import SVC\n",
    "import getpass\n",
    "from sklearn.preprocessing import PolynomialFeatures"
   ]
  },
  {
   "cell_type": "code",
   "execution_count": 2,
   "metadata": {},
   "outputs": [
    {
     "name": "stdout",
     "output_type": "stream",
     "text": [
      "········\n"
     ]
    }
   ],
   "source": [
    "pw = getpass.getpass()\n",
    "cnx = mc.connect(user='akashgoyal',password=pw,\n",
    "                 host='stromberg.cs.uchicago.edu',db='mlb_practicum',port=3306)"
   ]
  },
  {
   "cell_type": "code",
   "execution_count": 5,
   "metadata": {},
   "outputs": [
    {
     "name": "stdout",
     "output_type": "stream",
     "text": [
      "done running query\n",
      "done preparing new df for regression\n",
      "done reading query. now onto merging\n",
      "done merging now onto pwins\n",
      "done with p10\n",
      "done with p30\n",
      "done with p50\n",
      "done with p100\n",
      "done adding pythagorean wins\n",
      "you can manually run the neural net now if you like by calling self.create_neural_net(number_nodes)\n"
     ]
    }
   ],
   "source": [
    "a = WinProb(cnx,year=['2016'])"
   ]
  },
  {
   "cell_type": "code",
   "execution_count": 6,
   "metadata": {},
   "outputs": [],
   "source": [
    "X_train = a.X.iloc[:,2:]"
   ]
  },
  {
   "cell_type": "code",
   "execution_count": 7,
   "metadata": {},
   "outputs": [
    {
     "name": "stdout",
     "output_type": "stream",
     "text": [
      "Your in sample Neural Network Score was 0.763385209549546\n"
     ]
    }
   ],
   "source": [
    "nn = MLPClassifier(solver='adam',activation='relu',hidden_layer_sizes=(20,),random_state=1,max_iter=200)\n",
    "nn.fit(X_train,a.Y)\n",
    "print ('Your in sample Neural Network Score was {}'.format(nn.score(X_train,a.Y)))"
   ]
  },
  {
   "cell_type": "code",
   "execution_count": 8,
   "metadata": {},
   "outputs": [
    {
     "name": "stdout",
     "output_type": "stream",
     "text": [
      "done running query\n",
      "done preparing new df for regression\n",
      "done reading query. now onto merging\n",
      "done merging now onto pwins\n",
      "done with p10\n",
      "done with p30\n",
      "done with p50\n",
      "done with p100\n",
      "done adding pythagorean wins\n",
      "you can manually run the neural net now if you like by calling self.create_neural_net(number_nodes)\n"
     ]
    }
   ],
   "source": [
    "b = WinProb(cnx,year=['2011,2012,2013,2014,2015,2017'])"
   ]
  },
  {
   "cell_type": "code",
   "execution_count": 9,
   "metadata": {},
   "outputs": [],
   "source": [
    "X_test = b.X.iloc[:,2:]\n"
   ]
  },
  {
   "cell_type": "code",
   "execution_count": 35,
   "metadata": {},
   "outputs": [],
   "source": [
    "predictions = nn.predict_proba(b.X.iloc[:,2:])[:,0]"
   ]
  },
  {
   "cell_type": "code",
   "execution_count": 22,
   "metadata": {},
   "outputs": [],
   "source": [
    "lev = calculate_leverage(X_test,nn)"
   ]
  },
  {
   "cell_type": "code",
   "execution_count": 25,
   "metadata": {},
   "outputs": [
    {
     "data": {
      "text/plain": [
       "array([0.03980725, 0.02576853, 0.04015454, ..., 0.00630492, 0.00505995,\n",
       "       0.00503595])"
      ]
     },
     "execution_count": 25,
     "metadata": {},
     "output_type": "execute_result"
    }
   ],
   "source": [
    "lev"
   ]
  },
  {
   "cell_type": "code",
   "execution_count": 30,
   "metadata": {},
   "outputs": [
    {
     "data": {
      "text/plain": [
       "((4252289, 35), (4252289,))"
      ]
     },
     "execution_count": 30,
     "metadata": {},
     "output_type": "execute_result"
    }
   ],
   "source": [
    "b.X.shape,lev.shape"
   ]
  },
  {
   "cell_type": "code",
   "execution_count": 37,
   "metadata": {},
   "outputs": [
    {
     "data": {
      "text/plain": [
       "(4252289, 4)"
      ]
     },
     "execution_count": 37,
     "metadata": {},
     "output_type": "execute_result"
    }
   ],
   "source": [
    "output = np.hstack((b.X.iloc[:,:2],predictions.reshape(-1,1),lev.reshape(-1,1)))\n",
    "output.shape"
   ]
  },
  {
   "cell_type": "code",
   "execution_count": 41,
   "metadata": {},
   "outputs": [],
   "source": [
    "df_output = pd.DataFrame(output,columns=['gameID','pitchID','win_prob','leverage'])"
   ]
  },
  {
   "cell_type": "code",
   "execution_count": 43,
   "metadata": {},
   "outputs": [],
   "source": [
    "df_output.to_csv('leverage_calc.txt')"
   ]
  },
  {
   "cell_type": "code",
   "execution_count": 21,
   "metadata": {},
   "outputs": [],
   "source": [
    "def map_expected_runs(df):\n",
    "    total = 0\n",
    "    if df['1b runner']==1:\n",
    "        total+=1\n",
    "    if df['2b runner']==1:\n",
    "        total+=2\n",
    "    if df['3b runner']==1:\n",
    "        total+=4\n",
    "    if df['outs']==1:\n",
    "        total+=8\n",
    "    elif df['outs']==2:\n",
    "        total+=16\n",
    "    \n",
    "    leverage_dict = {0: 0.539, 1: 0.918, 2: 1.161, 3: 1.46, 4: 1.449, 5: 1.636, 6: 1.79,7: 2.113,\n",
    " 8: 0.284, 9: 0.536, 10: 0.67, 11: 0.90, 12: 1.08, 13: 1.06, 14: 1.44, 15: 1.55,\n",
    " 16: 0.13, 17: 0.254, 18: 0.365, 19: 0.51, 20: 0.38, 21: 0.503, 22: 0.55, 23: 0.764}\n",
    "    return leverage_dict[total]+df['current_lead']"
   ]
  },
  {
   "cell_type": "code",
   "execution_count": 20,
   "metadata": {},
   "outputs": [],
   "source": [
    "def calculate_leverage(X,nn):\n",
    "    initial_win_prob_pitcher_perspective = nn.predict_proba(X)[:,0]\n",
    "    X['current_lead'] = X.apply(map_expected_runs,axis=1)\n",
    "    end_win_prob_pitcher_benefit = nn.predict_proba(X)[:,0]\n",
    "    return initial_win_prob_pitcher_perspective-end_win_prob_pitcher_benefit"
   ]
  },
  {
   "cell_type": "code",
   "execution_count": 32,
   "metadata": {},
   "outputs": [],
   "source": [
    "prediction_probabilities = None"
   ]
  },
  {
   "cell_type": "code",
   "execution_count": 4,
   "metadata": {},
   "outputs": [],
   "source": [
    "class WinProb:\n",
    "    '''\n",
    "        cnx is the SQL connection, sql_attrs is a list of items in either Pitch2 or\n",
    "        Pitcher_Run_Expectancy. Enter a year between 2010 and 2017. you must enter\n",
    "        at least one item in the list or else it will mess up. \n",
    "    '''\n",
    "    def __init__(self,cnx,year=None):\n",
    "        self.cnx = cnx\n",
    "        self.year = year\n",
    "        self.sql_attrs = ['Pitcher_Run_Expectancy.300_avg','Pitcher_Run_Expectancy.500_avg',\n",
    "                          'Pitcher_Run_Expectancy.1000_avg','Pitcher_Run_Expectancy.2000_avg',\n",
    "                          'timesFaced','cumulativePitches']\n",
    "        self.df = self.run_sql_query()\n",
    "        print ('done running query')\n",
    "        self.add_wins_and_current_lead()\n",
    "        self.classify_count()\n",
    "        self.add_runners_on_base()\n",
    "        self.X,self.Y = self.prepare_logistic_regression()\n",
    "        print ('done preparing new df for regression')\n",
    "        self.add_pythagorean_wins()\n",
    "        print ('done adding pythagorean wins')\n",
    "        print ('you can manually run the neural net now if you like by calling self.create_neural_net(number_nodes)')\n",
    "        self.df = None\n",
    "        self.nn = None\n",
    "\n",
    "    def run_sql_query(self):\n",
    "        query = ''\n",
    "        if 4==4:\n",
    "            #gets the home_team final score, away_team final score, current inning (if ends in 0.5 its home, if 0 away)\n",
    "            # balls, strikes, runners on 1st,2nd,3rd, current runs for the home team/awayteam, and the average \n",
    "            # wrc for the home team less that for the away team for trailing 100,300,500,1000AB's\n",
    "            # in the sql_attrs there is 300,500,1000,20000 trailing wrc from pitcher perspective, as well as times faced\n",
    "            # and cumulative pitches \n",
    "            #note that team_starting_wrc_stats is this view below. \n",
    "            '''\n",
    "                CREATE VIEW team_starting_wrc_stats AS \n",
    "                SELECT gameID,retrosheet,100_avg,300_avg,500_avg,1000_avg FROM Team_wrc_stats twrc\n",
    "                INNER JOIN Team_Mapping t1 ON t1.mlb = twrc.team;\n",
    "            '''\n",
    "            query = \"\"\"SELECT Game.gameID AS gameID,Pitch2.pitchID AS pitchID,outs, homeTeamScore,awayTeamScore,curr_inn,balls,strikes,\n",
    "                        firstBaseRunner, secondBaseRunner,thirdBaseRunner,home_team_runs,away_team_runs,\n",
    "                        (trc1.100_avg - trc2.100_avg) AS home_less_away_100, (trc1.300_avg-trc2.300_avg) AS home_less_away_300,\n",
    "                        (trc1.500_avg-trc2.500_avg) AS home_less_away_500, (trc1.1000_avg-trc2.1000_avg) AS home_less_away_1000,{}\n",
    "                        FROM Pitch2 INNER JOIN Game ON Game.gameID = Pitch2.gameID INNER JOIN Pitcher_Run_Expectancy ON \n",
    "                        (Pitcher_Run_Expectancy.gameID = Pitch2.gameID AND\n",
    "                        Pitcher_Run_Expectancy.playerID = Pitch2.pitcherID)\n",
    "                        INNER JOIN team_starting_wrc_stats trc1 ON \n",
    "                        (trc1.gameID = Pitch2.gameID AND trc1.retrosheet = Game.homeTeam) \n",
    "                        INNER JOIN team_starting_wrc_stats trc2 ON \n",
    "                        (trc2.gameID = Pitch2.gameID AND trc2.retrosheet = Game.awayTeam) \n",
    "                        WHERE YEAR(gameDate) IN ({})\"\"\".format(','.join(self.sql_attrs),','.join(self.year))\n",
    "            df = pd.read_sql_query(query,self.cnx)\n",
    "            return df \n",
    "    \n",
    "    def add_wins_and_current_lead(self):\n",
    "        #define whether or not the team batting now won or lost the game \n",
    "        self.df['win'] = pd.Series([(1 if (x[0]<x[1] and x[2]*2%2==0) or (x[0]>x[1] and x[2]*2%2==1) else 0)\n",
    "                        for x in self.df[['homeTeamScore','awayTeamScore','curr_inn']].values])\n",
    "        \n",
    "        #get current team's wrc\n",
    "        trailing_abs = ['100','300','500','1000']\n",
    "        for ab_num in trailing_abs:\n",
    "            self.df['home_less_away_'+ab_num] = np.where(self.df['curr_inn']*2%2==1,\n",
    "                                                           self.df['home_less_away_'+ab_num],\n",
    "                                                           -self.df['home_less_away_'+ab_num])\n",
    "        #add the current lead \n",
    "        l = []\n",
    "        for x in self.df[['home_team_runs','away_team_runs','curr_inn']].values:\n",
    "            #if home team\n",
    "            if x[2]*2%2==1:\n",
    "                l.append(x[0]-x[1])\n",
    "            else:\n",
    "                l.append(x[1]-x[0])\n",
    "        self.df['current_lead'] = l\n",
    "        #drop the homeTeamScore,awayTeamScore since we don't know the final outcome at the current pitch \n",
    "        self.df.drop(columns=['homeTeamScore','awayTeamScore','home_team_runs','away_team_runs'],inplace=True)\n",
    "    \n",
    "    #create 12 variables for each type of count \n",
    "    def classify_count(self):\n",
    "        s = pd.Series([(x[0],x[1]) for x in self.df[['balls','strikes']].values])\n",
    "        s = pd.get_dummies(s)\n",
    "        self.df = self.df.join(s,how='outer')\n",
    "        self.df.drop(columns=['balls','strikes'],inplace=True) \n",
    "        \n",
    "    def add_runners_on_base(self):\n",
    "        #indicator variables if runners on base\n",
    "        self.df['1b runner'] = self.df.apply(lambda row: 1 if row['firstBaseRunner'] else 0,axis=1)\n",
    "        self.df['2b runner'] = self.df.apply(lambda row: 1 if row['secondBaseRunner'] else 0,axis=1)\n",
    "        self.df['3b runner'] = self.df.apply(lambda row: 1 if row['thirdBaseRunner'] else 0,axis=1)\n",
    "        self.df['mod_inning'] = self.df.apply(lambda row: int(row['curr_inn']),axis=1)\n",
    "        self.df['home_away'] = self.df.apply(lambda row: 0 if row['curr_inn']*2%2==1 else 1,axis=1)\n",
    "        self.df.drop(columns=['curr_inn','firstBaseRunner','secondBaseRunner',\n",
    "                              'thirdBaseRunner'],inplace=True)\n",
    "        \n",
    "    def prepare_logistic_regression(self):\n",
    "        Y = self.df['win']\n",
    "        X = self.df.drop(columns=['win'])\n",
    "        return X,Y\n",
    "\n",
    "    def add_pythagorean_wins(self):\n",
    "        qry = \"\"\"SELECT gameID, (away10-home10) AS p10, (away30-home30) AS p30,\n",
    "                (away50-home30) AS p50, (away100-home100) AS p100 \n",
    "                FROM Pythagorean_Wins\"\"\"\n",
    "        wins_df = pd.read_sql_query(qry,self.cnx)\n",
    "        print ('done reading query. now onto merging')\n",
    "        self.X = self.X.merge(wins_df,how='inner',left_on='gameID',right_on='gameID')\n",
    "        print ('done merging now onto pwins')\n",
    "        #this part just takes the difference of the pythagorean win expectancy\n",
    "        self.X['p10'] = self.X.apply(lambda row: row['p10'] if row['home_away']==1 else -row['p10'],axis=1)\n",
    "        print ('done with p10')\n",
    "        self.X['p30'] = self.X.apply(lambda row: row['p30'] if row['home_away']==1 else -row['p30'],axis=1)\n",
    "        print ('done with p30')\n",
    "        self.X['p50'] = self.X.apply(lambda row: row['p50'] if row['home_away']==1 else -row['p50'],axis=1)\n",
    "        print ('done with p50')\n",
    "        self.X['p100'] = self.X.apply(lambda row: row['p100'] if row['home_away']==1 else -row['p100'],axis=1)\n",
    "        print ('done with p100')\n",
    "\n",
    "    #for now I'll support just one hidden layer\n",
    "    def create_neural_net(self,hidden_nodes):\n",
    "        nn = MLPClassifier(solver='adam',alpha=0.001,hidden_layer_sizes=(hidden_nodes,),random_state=1)\n",
    "        nn.fit(self.X,self.Y)\n",
    "        self.nn = nn \n",
    "        print ('Your in sample Neural Network Score was {}'.format(nn.score(self.X,self.Y))) \n",
    "\n",
    "    def calculate_leverage(self,aRow):\n",
    "        initial_win_prob_pitcher_perspective = nn.predict_proba(aRow.values.reshape(1,-1))[0]\n",
    "        pitcher_team_gives_up_one_run = aRow.copy()\n",
    "        pitcher_team_gives_up_one_run['current_lead']+=1 #this is correct bc current lead is from batters POV\n",
    "        end_win_prob_pitcher_benefit = nn.predict_proba(pitcher_team_gives_up_one_run.values.reshape(1,-1))[0]\n",
    "        return initial_win_prob_pitcher_perspective-end_win_prob_pitcher_benefit"
   ]
  },
  {
   "cell_type": "code",
   "execution_count": null,
   "metadata": {},
   "outputs": [],
   "source": []
  }
 ],
 "metadata": {
  "kernelspec": {
   "display_name": "Python 3",
   "language": "python",
   "name": "python3"
  },
  "language_info": {
   "codemirror_mode": {
    "name": "ipython",
    "version": 3
   },
   "file_extension": ".py",
   "mimetype": "text/x-python",
   "name": "python",
   "nbconvert_exporter": "python",
   "pygments_lexer": "ipython3",
   "version": "3.5.2"
  }
 },
 "nbformat": 4,
 "nbformat_minor": 2
}
