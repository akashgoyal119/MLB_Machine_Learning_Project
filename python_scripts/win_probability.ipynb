{
 "cells": [
  {
   "cell_type": "code",
   "execution_count": 1,
   "metadata": {},
   "outputs": [],
   "source": [
    "import os\n",
    "import csv\n",
    "import pymysql as mc \n",
    "import time\n",
    "import webbrowser\n",
    "import sys\n",
    "from sklearn.cluster import KMeans\n",
    "%matplotlib inline\n",
    "import numpy as np\n",
    "import matplotlib.pyplot as plt\n",
    "import pandas as pd\n",
    "from sklearn.linear_model import LogisticRegression\n",
    "from sklearn.model_selection import KFold, learning_curve\n",
    "from sklearn.preprocessing import scale, PolynomialFeatures"
   ]
  },
  {
   "cell_type": "code",
   "execution_count": 2,
   "metadata": {},
   "outputs": [],
   "source": [
    "cnx = mc.connect(user='akashgoyal',password='*****',\n",
    "                 host='stromberg.cs.uchicago.edu',database='mlb_practicum')"
   ]
  },
  {
   "cell_type": "code",
   "execution_count": 4,
   "metadata": {},
   "outputs": [
    {
     "name": "stdout",
     "output_type": "stream",
     "text": [
      "done running query\n",
      "done adding columns\n",
      "done preparing new df for regression\n"
     ]
    }
   ],
   "source": [
    "data_2017 = Akash_Customized(cnx,year=2017)"
   ]
  },
  {
   "cell_type": "code",
   "execution_count": 5,
   "metadata": {},
   "outputs": [
    {
     "data": {
      "text/plain": [
       "0.7665415625090585"
      ]
     },
     "execution_count": 5,
     "metadata": {},
     "output_type": "execute_result"
    }
   ],
   "source": [
    "X = data_2017.analysis_df.drop(['1'],axis=1)\n",
    "Y = data_2017.Y\n",
    "clf = LogisticRegression(penalty='l1')\n",
    "clf.fit(X,Y)\n",
    "clf.score(X,Y)"
   ]
  },
  {
   "cell_type": "code",
   "execution_count": 8,
   "metadata": {},
   "outputs": [
    {
     "name": "stdout",
     "output_type": "stream",
     "text": [
      "current_lead 0.15\n",
      "mod inning 0.07\n",
      "outs -0.02\n",
      "current_lead^2 -0.01\n",
      "current_lead mod inning 0.1\n",
      "current_lead outs 0.03\n",
      "mod inning^2 -0.0\n",
      "mod inning outs -0.02\n",
      "outs^2 -0.03\n",
      "count_type 0.05\n",
      "100rc 5.68\n",
      "300rc 0.59\n",
      "500rc 2.51\n",
      "1000rc -1.25\n",
      "2000rc 3.54\n",
      "allRc -3.83\n",
      "1b runner 0.14\n",
      "2b runner 0.24\n",
      "3b runner 0.29\n",
      "homeAway -0.54\n"
     ]
    }
   ],
   "source": [
    "heads = list(X.columns.values)\n",
    "for i,item in enumerate(clf.coef_[0]):\n",
    "    print (heads[i],item.round(2))"
   ]
  },
  {
   "cell_type": "code",
   "execution_count": 74,
   "metadata": {},
   "outputs": [
    {
     "name": "stdout",
     "output_type": "stream",
     "text": [
      "current_lead 0.17\n",
      "mod inning 0.04\n",
      "outs -0.04\n",
      "current_lead^2 0.0\n",
      "current_lead mod inning 0.1\n",
      "current_lead outs 0.03\n",
      "mod inning^2 -0.0\n",
      "mod inning outs -0.02\n",
      "outs^2 -0.02\n",
      "count_type 0.06\n",
      "100rc 1.99\n",
      "300rc -1.43\n",
      "500rc 0.48\n",
      "1000rc 0.25\n",
      "2000rc 0.08\n",
      "allRc 0.31\n",
      "1b runner 0.15\n",
      "2b runner 0.27\n",
      "3b runner 0.32\n",
      "homeAway -0.54\n"
     ]
    }
   ],
   "source": [
    "heads = list(X.columns.values)\n",
    "for i,item in enumerate(clf.coef_[0]):\n",
    "    print (heads[i],item.round(2))"
   ]
  },
  {
   "cell_type": "code",
   "execution_count": 6,
   "metadata": {},
   "outputs": [
    {
     "name": "stdout",
     "output_type": "stream",
     "text": [
      "done running query\n",
      "done adding columns\n",
      "done preparing new df for regression\n"
     ]
    }
   ],
   "source": [
    "data_2015 = Akash_Customized(cnx,year=2015)"
   ]
  },
  {
   "cell_type": "code",
   "execution_count": 7,
   "metadata": {},
   "outputs": [
    {
     "data": {
      "text/plain": [
       "0.7680908004574776"
      ]
     },
     "execution_count": 7,
     "metadata": {},
     "output_type": "execute_result"
    }
   ],
   "source": [
    "X_2015 = data_2015.analysis_df.drop(['1'],axis=1)\n",
    "Y_2015 = data_2015.Y\n",
    "clf.score(X_2015,Y_2015)"
   ]
  },
  {
   "cell_type": "code",
   "execution_count": 59,
   "metadata": {},
   "outputs": [
    {
     "data": {
      "text/plain": [
       "0.6026038437693738"
      ]
     },
     "execution_count": 59,
     "metadata": {},
     "output_type": "execute_result"
    }
   ],
   "source": [
    "easy_pickings = data_2015.analysis_df\n",
    "easy_pickings['Outcome'] = data_2015.Y.values\n",
    "easy_pickings = easy_pickings[(abs(easy_pickings['mod inning'])>12) & (\n",
    "                                abs(easy_pickings['current_lead'])<1)]\n",
    "X = easy_pickings.drop(['Outcome'],axis=1)\n",
    "Y = easy_pickings['Outcome']\n",
    "logit.score(X,Y)"
   ]
  },
  {
   "cell_type": "code",
   "execution_count": 3,
   "metadata": {},
   "outputs": [],
   "source": [
    "class WinProb:\n",
    "    def __init__(self,cnx,year=None):\n",
    "        self.cnx = cnx\n",
    "        self.year = year\n",
    "        self.df = self.run_sql_query()\n",
    "        print ('done running query')\n",
    "        self.add_relevant_columns()\n",
    "        print ('done adding columns')\n",
    "        self.analysis_df,self.Y = self.prepare_logistic_regression()\n",
    "        print ('done preparing new df for regression')\n",
    "    \n",
    "    def prepare_logistic_regression(self):\n",
    "        X = self.df[['current_lead','mod inning','outs']]\n",
    "        Y = self.df['win']\n",
    "        interactions = PolynomialFeatures(degree=2)\n",
    "        newX = interactions.fit_transform(X)\n",
    "        nameList = interactions.get_feature_names(X.columns)\n",
    "        nameList.extend(['count_type','100rc','300rc','500rc','1000rc',\n",
    "                         '2000rc','allRc','1b runner','2b runner','3b runner','homeAway'])\n",
    "        count_type = self.df['count_type'].values.reshape(len(self.df),1)\n",
    "        war100 = self.df['100_avg'].values.reshape(len(self.df),1)\n",
    "        war300 = self.df['300_avg'].values.reshape(len(self.df),1)\n",
    "        war500 = self.df['500_avg'].values.reshape(len(self.df),1)\n",
    "        war1000 = self.df['1000_avg'].values.reshape(len(self.df),1)\n",
    "        war2000 = self.df['2000_avg'].values.reshape(len(self.df),1)\n",
    "        warAll = self.df['all_avg'].values.reshape(len(self.df),1)\n",
    "        oneb = self.df['1b runner'].values.reshape(len(self.df),1)\n",
    "        twob = self.df['2b runner'].values.reshape(len(self.df),1)\n",
    "        threeb = self.df['3b runner'].values.reshape(len(self.df),1)\n",
    "        homeAway = self.df['home_away'].values.reshape(len(self.df),1)\n",
    "        \n",
    "        X = np.hstack((newX,count_type,war100,war300,war500,war1000,war2000,warAll,oneb,twob,threeb,homeAway))\n",
    "        analysis_df = pd.DataFrame(X,columns=nameList)\n",
    "        return analysis_df,Y\n",
    "        \n",
    "    def run_sql_query(self):\n",
    "        query = ''\n",
    "        if not self.year:\n",
    "            query = \"\"\"SELECT Game.gameID AS gameID,abNum,pitchID,the_event,\n",
    "                        firstBaseRunner,secondBaseRunner, thirdBaseRunner,outs,\n",
    "                        home_team_runs,away_team_runs,curr_inn,balls,strikes, homeTeamScore,\n",
    "                        awayTeamScore,gameDate,100_avg,300_avg,500_avg,1000_avg,2000_avg, all_avg\n",
    "                        FROM Pitch2 INNER JOIN Batter_Run_Expectancy ON \n",
    "                        (Pitcher_Run_Expectancy.gameID = Pitch2.gameID AND Pitcher_Run_Expectancy.playerID = Pitch2.pitcherID)\"\"\"\n",
    "        else:\n",
    "            query = \"\"\"SELECT Game.gameID AS gameID,abNum,pitchID,the_event,\n",
    "                        firstBaseRunner,secondBaseRunner, thirdBaseRunner,outs,\n",
    "                        home_team_runs,away_team_runs,curr_inn,balls,strikes, homeTeamScore,\n",
    "                        awayTeamScore,gameDate,100_avg,300_avg,500_avg,1000_avg,2000_avg, all_avg\n",
    "                        FROM Pitch2 INNER JOIN Game ON Pitch2.gameID = Game.gameID\n",
    "                        INNER JOIN Pitcher_Run_Expectancy ON \n",
    "                        (Pitcher_Run_Expectancy.gameID = Pitch2.gameID AND Pitcher_Run_Expectancy.playerID = Pitch2.pitcherID)\n",
    "                        WHERE YEAR(gameDate)={}\"\"\".format(self.year)\n",
    "            df = pd.read_sql_query(query,cnx)\n",
    "            return df \n",
    "    \n",
    "    def add_relevant_columns(self):\n",
    "        self.df['win'] = pd.Series([(1 if (x[0]<x[1] and x[2]*2%2==0) or (x[0]>x[1] and x[2]*2%2==1) else 0)\n",
    "                        for x in self.df[['homeTeamScore','awayTeamScore','curr_inn']].values])\n",
    "\n",
    "        #add the current lead \n",
    "        l = []\n",
    "        for x in self.df[['home_team_runs','away_team_runs','curr_inn']].values:\n",
    "            #if home team\n",
    "            if x[2]*2%2==1:\n",
    "                l.append(x[0]-x[1])\n",
    "            else:\n",
    "                l.append(x[1]-x[0])\n",
    "        self.df['current_lead'] = l\n",
    "\n",
    "        #add count classification (bad,neutral,favorable)\n",
    "        l = []\n",
    "        errs= []\n",
    "        good = [(3,0),(3,1),(2,0),(3,2)]\n",
    "        neutral = [(0,0),(1,0),(2,1),(1,1),(2,2)]\n",
    "        bad = [(1,2),(0,2),(0,1)] \n",
    "        for x in self.df[['balls','strikes']].values:\n",
    "            count = (x[0],x[1])\n",
    "            if count in good:\n",
    "                l.append(2)\n",
    "            elif count in neutral:\n",
    "                l.append(1)\n",
    "            elif count in bad:\n",
    "                l.append(0)\n",
    "            else:\n",
    "                errs.append(count)\n",
    "        self.df['count_type'] = l\n",
    "        \n",
    "        #indicator variables if runners on base\n",
    "        firstRunner = []\n",
    "        secondRunner = []\n",
    "        thirdRunner = []\n",
    "        mod_inning = []\n",
    "        home_away = []\n",
    "        for x in self.df[['firstBaseRunner','secondBaseRunner','thirdBaseRunner','curr_inn']].values:\n",
    "            firstRunner.append(1 if x[0] else 0)\n",
    "            secondRunner.append(1 if x[1] else 0)\n",
    "            thirdRunner.append(1 if x[2] else 0)\n",
    "            if (2*x[3])%2 == 1:\n",
    "                mod_inning.append(x[3]-0.5)\n",
    "                home_away.append(0)\n",
    "            else:\n",
    "                mod_inning.append(x[3])\n",
    "                home_away.append(1)\n",
    "        self.df['1b runner'] = firstRunner\n",
    "        self.df['2b runner'] = secondRunner\n",
    "        self.df['3b runner'] = thirdRunner\n",
    "        self.df['mod inning'] = mod_inning\n",
    "        self.df['home_away'] = home_away\n",
    "        \n",
    "        "
   ]
  },
  {
   "cell_type": "code",
   "execution_count": 35,
   "metadata": {},
   "outputs": [],
   "source": [
    "def print_url(gameID,cnx):\n",
    "    cursor = cnx.cursor()\n",
    "    cursor.execute(\"SELECT gameID, homeTeam,awayTeam,YEAR(gameDate), MONTH(gameDate),DAY(gameDate),isDoubleHeader FROM Game WHERE gameID='{}'\".format(gameID))\n",
    "    \n",
    "    theURL=''\n",
    "    for row in cursor:\n",
    "        theYear = str(row[3])\n",
    "        theMonth= 0\n",
    "        theDate=0\n",
    "        if row[4]<10:\n",
    "            theMonth ='0'+str(row[4])\n",
    "        else:\n",
    "            theMonth=str(row[4])\n",
    "        if row[5]<10:\n",
    "            theDate='0'+str(row[5])\n",
    "        else:\n",
    "            theDate=str(row[5])\n",
    "\n",
    "        gameNum= '1'\n",
    "        if str(row[6])==2:\n",
    "            gameNum='2'\n",
    "        homeTeam=row[1].lower()+'mlb'\n",
    "        visitTeam=row[2].lower()+'mlb'\n",
    "        new_path = 'year_'+theYear+'/month_'+theMonth + '/day_'+theDate+'/gid_'+theYear+'_'+theMonth +'_'+theDate+'_'\n",
    "        new_path = new_path+visitTeam+'_'+homeTeam+'_'+gameNum+'/inning/inning_all.xml'\n",
    "        theURL='http://gd2.mlb.com/components/game/mlb/'+new_path\n",
    "    print (theURL)"
   ]
  }
 ],
 "metadata": {
  "kernelspec": {
   "display_name": "Python 3",
   "language": "python",
   "name": "python3"
  },
  "language_info": {
   "codemirror_mode": {
    "name": "ipython",
    "version": 3
   },
   "file_extension": ".py",
   "mimetype": "text/x-python",
   "name": "python",
   "nbconvert_exporter": "python",
   "pygments_lexer": "ipython3",
   "version": "3.5.2"
  }
 },
 "nbformat": 4,
 "nbformat_minor": 2
}
