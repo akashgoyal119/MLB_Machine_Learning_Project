{
 "cells": [
  {
   "cell_type": "code",
   "execution_count": 63,
   "metadata": {},
   "outputs": [],
   "source": [
    "import os\n",
    "import csv\n",
    "import mysql.connector as mc \n",
    "import time\n",
    "import webbrowser\n",
    "import sys\n",
    "from sklearn.cluster import KMeans\n",
    "%matplotlib inline\n",
    "import seaborn as sns\n",
    "import numpy as np\n",
    "import matplotlib.pyplot as plt\n",
    "import pandas as pd\n",
    "from sklearn.linear_model import LogisticRegression\n",
    "from sklearn.model_selection import KFold, learning_curve\n",
    "from sklearn.preprocessing import scale, PolynomialFeatures\n",
    "sns.set()"
   ]
  },
  {
   "cell_type": "code",
   "execution_count": 47,
   "metadata": {},
   "outputs": [],
   "source": [
    "cnx = mc.connect(user='akashgoyal',password=os.environ['DB_PASSWORD'],\n",
    "                 host='stromberg.cs.uchicago.edu',database='mlb_practicum')"
   ]
  },
  {
   "cell_type": "code",
   "execution_count": 48,
   "metadata": {},
   "outputs": [],
   "source": [
    "query = \"\"\"SELECT Game.gameID AS gameID,abNum,pitchID,the_event,\n",
    "                        firstBaseRunner,secondBaseRunner, thirdBaseRunner,outs,\n",
    "                        home_team_runs,away_team_runs,curr_inn, homeTeamScore,\n",
    "                        awayTeamScore,gameDate\n",
    "                        FROM Pitch2 INNER JOIN Game ON Pitch2.gameID = Game.gameID\n",
    "                        WHERE YEAR(gameDate)=2017\"\"\" #AND MONTH(gameDate)=4\"\"\"\n",
    "df = pd.read_sql_query(query,cnx)"
   ]
  },
  {
   "cell_type": "code",
   "execution_count": 6,
   "metadata": {},
   "outputs": [
    {
     "data": {
      "text/html": [
       "<div>\n",
       "<style scoped>\n",
       "    .dataframe tbody tr th:only-of-type {\n",
       "        vertical-align: middle;\n",
       "    }\n",
       "\n",
       "    .dataframe tbody tr th {\n",
       "        vertical-align: top;\n",
       "    }\n",
       "\n",
       "    .dataframe thead th {\n",
       "        text-align: right;\n",
       "    }\n",
       "</style>\n",
       "<table border=\"1\" class=\"dataframe\">\n",
       "  <thead>\n",
       "    <tr style=\"text-align: right;\">\n",
       "      <th></th>\n",
       "      <th>gameID</th>\n",
       "      <th>abNum</th>\n",
       "      <th>pitchID</th>\n",
       "      <th>the_event</th>\n",
       "      <th>firstBaseRunner</th>\n",
       "      <th>secondBaseRunner</th>\n",
       "      <th>thirdBaseRunner</th>\n",
       "      <th>outs</th>\n",
       "      <th>home_team_runs</th>\n",
       "      <th>away_team_runs</th>\n",
       "      <th>curr_inn</th>\n",
       "      <th>homeTeamScore</th>\n",
       "      <th>awayTeamScore</th>\n",
       "      <th>gameDate</th>\n",
       "    </tr>\n",
       "  </thead>\n",
       "  <tbody>\n",
       "    <tr>\n",
       "      <th>0</th>\n",
       "      <td>ANA201704070</td>\n",
       "      <td>1</td>\n",
       "      <td>3</td>\n",
       "      <td>Walk</td>\n",
       "      <td>None</td>\n",
       "      <td>None</td>\n",
       "      <td>None</td>\n",
       "      <td>0</td>\n",
       "      <td>0</td>\n",
       "      <td>0</td>\n",
       "      <td>1.0</td>\n",
       "      <td>5</td>\n",
       "      <td>1</td>\n",
       "      <td>2017-04-07</td>\n",
       "    </tr>\n",
       "    <tr>\n",
       "      <th>1</th>\n",
       "      <td>ANA201704070</td>\n",
       "      <td>1</td>\n",
       "      <td>4</td>\n",
       "      <td>Walk</td>\n",
       "      <td>None</td>\n",
       "      <td>None</td>\n",
       "      <td>None</td>\n",
       "      <td>0</td>\n",
       "      <td>0</td>\n",
       "      <td>0</td>\n",
       "      <td>1.0</td>\n",
       "      <td>5</td>\n",
       "      <td>1</td>\n",
       "      <td>2017-04-07</td>\n",
       "    </tr>\n",
       "    <tr>\n",
       "      <th>2</th>\n",
       "      <td>ANA201704070</td>\n",
       "      <td>1</td>\n",
       "      <td>5</td>\n",
       "      <td>Walk</td>\n",
       "      <td>None</td>\n",
       "      <td>None</td>\n",
       "      <td>None</td>\n",
       "      <td>0</td>\n",
       "      <td>0</td>\n",
       "      <td>0</td>\n",
       "      <td>1.0</td>\n",
       "      <td>5</td>\n",
       "      <td>1</td>\n",
       "      <td>2017-04-07</td>\n",
       "    </tr>\n",
       "    <tr>\n",
       "      <th>3</th>\n",
       "      <td>ANA201704070</td>\n",
       "      <td>1</td>\n",
       "      <td>6</td>\n",
       "      <td>Walk</td>\n",
       "      <td>None</td>\n",
       "      <td>None</td>\n",
       "      <td>None</td>\n",
       "      <td>0</td>\n",
       "      <td>0</td>\n",
       "      <td>0</td>\n",
       "      <td>1.0</td>\n",
       "      <td>5</td>\n",
       "      <td>1</td>\n",
       "      <td>2017-04-07</td>\n",
       "    </tr>\n",
       "    <tr>\n",
       "      <th>4</th>\n",
       "      <td>ANA201704070</td>\n",
       "      <td>1</td>\n",
       "      <td>7</td>\n",
       "      <td>Walk</td>\n",
       "      <td>None</td>\n",
       "      <td>None</td>\n",
       "      <td>None</td>\n",
       "      <td>0</td>\n",
       "      <td>0</td>\n",
       "      <td>0</td>\n",
       "      <td>1.0</td>\n",
       "      <td>5</td>\n",
       "      <td>1</td>\n",
       "      <td>2017-04-07</td>\n",
       "    </tr>\n",
       "  </tbody>\n",
       "</table>\n",
       "</div>"
      ],
      "text/plain": [
       "         gameID  abNum  pitchID the_event firstBaseRunner secondBaseRunner  \\\n",
       "0  ANA201704070      1        3      Walk            None             None   \n",
       "1  ANA201704070      1        4      Walk            None             None   \n",
       "2  ANA201704070      1        5      Walk            None             None   \n",
       "3  ANA201704070      1        6      Walk            None             None   \n",
       "4  ANA201704070      1        7      Walk            None             None   \n",
       "\n",
       "  thirdBaseRunner  outs  home_team_runs  away_team_runs  curr_inn  \\\n",
       "0            None     0               0               0       1.0   \n",
       "1            None     0               0               0       1.0   \n",
       "2            None     0               0               0       1.0   \n",
       "3            None     0               0               0       1.0   \n",
       "4            None     0               0               0       1.0   \n",
       "\n",
       "   homeTeamScore  awayTeamScore    gameDate  \n",
       "0              5              1  2017-04-07  \n",
       "1              5              1  2017-04-07  \n",
       "2              5              1  2017-04-07  \n",
       "3              5              1  2017-04-07  \n",
       "4              5              1  2017-04-07  "
      ]
     },
     "execution_count": 6,
     "metadata": {},
     "output_type": "execute_result"
    }
   ],
   "source": [
    "df.head()"
   ]
  },
  {
   "cell_type": "code",
   "execution_count": 49,
   "metadata": {},
   "outputs": [],
   "source": [
    "#add a boolean column to determine if said team won.\n",
    "df['win'] = pd.Series([(1 if (x[0]<x[1] and x[2]*2%2==0) or (x[0]>x[1] and x[2]*2%2==1) else 0)\n",
    "                        for x in df[['homeTeamScore','awayTeamScore','curr_inn']].values])\n",
    "\n",
    "#X = df[['abNum','pitchID',]]"
   ]
  },
  {
   "cell_type": "code",
   "execution_count": 67,
   "metadata": {},
   "outputs": [],
   "source": [
    "class something:\n",
    "    def __init__(self,cnx,year,month=4):\n",
    "        query = \"\"\"SELECT Game.gameID AS gameID,abNum,pitchID,the_event,\n",
    "                        firstBaseRunner,secondBaseRunner, thirdBaseRunner,outs,\n",
    "                        home_team_runs,away_team_runs,curr_inn, homeTeamScore,\n",
    "                        awayTeamScore,gameDate\n",
    "                        FROM Pitch2 INNER JOIN Game ON Pitch2.gameID = Game.gameID\n",
    "                        WHERE YEAR(gameDate)='{}' AND MONTH(gameDate)='{}'\"\"\".format(year,month)\n",
    "        self.df = pd.read_sql_query(query,cnx)\n",
    "        self.get_lead_and_winloss()\n",
    "    \n",
    "    #add 2 columns saying what the lead (deficit) is and whether you won or lost\n",
    "    def get_lead_and_winloss(self):\n",
    "        self.df['win'] = pd.Series([(1 if (x[0]<x[1] and x[2]*2%2==0) or (x[0]>x[1] and x[2]*2%2==1) else 0)\n",
    "                        for x in self.df[['homeTeamScore','awayTeamScore','curr_inn']].values])\n",
    "        \n",
    "        l = []\n",
    "        for x in self.df[['home_team_runs','away_team_runs','curr_inn']].values:\n",
    "            #if home team\n",
    "            if x[2]*2%2==1:\n",
    "                l.append(x[0]-x[1])\n",
    "            else:\n",
    "                l.append(x[1]-x[0])\n",
    "        self.df['current_lead'] = pd.Series(l)\n",
    "        return "
   ]
  },
  {
   "cell_type": "code",
   "execution_count": 68,
   "metadata": {},
   "outputs": [],
   "source": []
  },
  {
   "cell_type": "code",
   "execution_count": 50,
   "metadata": {},
   "outputs": [],
   "source": [
    "l = []\n",
    "for x in df[['home_team_runs','away_team_runs','curr_inn']].values:\n",
    "    #if home team\n",
    "    if x[2]*2%2==1:\n",
    "        l.append(x[0]-x[1])\n",
    "    else:\n",
    "        l.append(x[1]-x[0])\n",
    "df['current_lead'] = pd.Series(l)\n",
    "        "
   ]
  },
  {
   "cell_type": "code",
   "execution_count": 71,
   "metadata": {},
   "outputs": [],
   "source": [
    "X = df[['current_lead','curr_inn','outs']]\n",
    "Y = df['win']\n",
    "interactions = PolynomialFeatures(degree=2)\n",
    "X = interactions.fit_transform(X)\n"
   ]
  },
  {
   "cell_type": "code",
   "execution_count": 73,
   "metadata": {},
   "outputs": [
    {
     "data": {
      "text/plain": [
       "LogisticRegression(C=1.0, class_weight=None, dual=False, fit_intercept=True,\n",
       "          intercept_scaling=1, max_iter=100, multi_class='ovr', n_jobs=1,\n",
       "          penalty='l1', random_state=None, solver='liblinear', tol=0.0001,\n",
       "          verbose=0, warm_start=False)"
      ]
     },
     "execution_count": 73,
     "metadata": {},
     "output_type": "execute_result"
    }
   ],
   "source": [
    "start = time.time()\n",
    "logit = LogisticRegression(penalty='l1')\n",
    "logit.fit(X,Y)\n",
    "#sizes, train_scores, test_scores = learning_curve(logit,X,Y,cv=5,shuffle=True,\n",
    "#                                                 train_sizes=np.linspace(0.1,1,10))\n",
    "#print ('this took us {} seconds '.format(time.time()-start))\n",
    "#print (sizes)\n",
    "#print (train_scores)\n",
    "#print (test_scores)"
   ]
  },
  {
   "cell_type": "code",
   "execution_count": 65,
   "metadata": {},
   "outputs": [
    {
     "data": {
      "image/png": "[encoded data removed]",
      "text/plain": [
       "<matplotlib.figure.Figure at 0x11d315e48>"
      ]
     },
     "metadata": {},
     "output_type": "display_data"
    }
   ],
   "source": [
    "training_scores = []\n",
    "testing_scores = []\n",
    "for i,item in enumerate(train_scores):\n",
    "\tstartScore = 0\n",
    "\tstartScore2= 0\n",
    "\tfor j in range(5):\n",
    "\t\tstartScore+=train_scores[i][j]\n",
    "\t\tstartScore2+=test_scores[i][j]\n",
    "\n",
    "\ttraining_scores.append(startScore/5)\n",
    "\ttesting_scores.append(startScore2/5)\n",
    "\n",
    "#now plot the validation curve\n",
    "x_variable = sizes\n",
    "plt.figure(2)\n",
    "plt.plot(x_variable,training_scores,label='training')\n",
    "plt.plot(x_variable,testing_scores,label='test')\n",
    "plt.xlabel('number of examples combined in test+training sets')\n",
    "plt.ylabel('avg kappa')\n",
    "plt.title('Learning Curve- Tree Size of 12')\n",
    "plt.legend()\n",
    "plt.show()"
   ]
  },
  {
   "cell_type": "code",
   "execution_count": 59,
   "metadata": {},
   "outputs": [
    {
     "name": "stdout",
     "output_type": "stream",
     "text": [
      "0.743342009169\n"
     ]
    }
   ],
   "source": [
    "logit = LogisticRegression(penalty='l1')\n",
    "logit.fit(X,Y)\n",
    "print(logit.score(X,Y))\n",
    "logit = LogisticRegression(penalty='l2',max_iter=20)\n",
    "logit.fit(X,Y)\n",
    "print(logit.score(X,Y))"
   ]
  },
  {
   "cell_type": "code",
   "execution_count": null,
   "metadata": {},
   "outputs": [],
   "source": []
  },
  {
   "cell_type": "code",
   "execution_count": 69,
   "metadata": {},
   "outputs": [],
   "source": [
    "X_a = a.df[['current_lead','curr_inn','outs']]\n",
    "Y_a = a.df['win']\n",
    "interactions_a = PolynomialFeatures(degree=2)\n",
    "X_a = interactions_a.fit_transform(X_a)"
   ]
  },
  {
   "cell_type": "code",
   "execution_count": 74,
   "metadata": {},
   "outputs": [
    {
     "data": {
      "text/plain": [
       "0.7417816974442667"
      ]
     },
     "execution_count": 74,
     "metadata": {},
     "output_type": "execute_result"
    }
   ],
   "source": [
    "logit.score(X_a,Y_a)"
   ]
  },
  {
   "cell_type": "code",
   "execution_count": 75,
   "metadata": {},
   "outputs": [
    {
     "data": {
      "text/html": [
       "<div>\n",
       "<style scoped>\n",
       "    .dataframe tbody tr th:only-of-type {\n",
       "        vertical-align: middle;\n",
       "    }\n",
       "\n",
       "    .dataframe tbody tr th {\n",
       "        vertical-align: top;\n",
       "    }\n",
       "\n",
       "    .dataframe thead th {\n",
       "        text-align: right;\n",
       "    }\n",
       "</style>\n",
       "<table border=\"1\" class=\"dataframe\">\n",
       "  <thead>\n",
       "    <tr style=\"text-align: right;\">\n",
       "      <th></th>\n",
       "      <th>gameID</th>\n",
       "      <th>abNum</th>\n",
       "      <th>pitchID</th>\n",
       "      <th>the_event</th>\n",
       "      <th>firstBaseRunner</th>\n",
       "      <th>secondBaseRunner</th>\n",
       "      <th>thirdBaseRunner</th>\n",
       "      <th>outs</th>\n",
       "      <th>home_team_runs</th>\n",
       "      <th>away_team_runs</th>\n",
       "      <th>curr_inn</th>\n",
       "      <th>homeTeamScore</th>\n",
       "      <th>awayTeamScore</th>\n",
       "      <th>gameDate</th>\n",
       "      <th>win</th>\n",
       "      <th>current_lead</th>\n",
       "    </tr>\n",
       "  </thead>\n",
       "  <tbody>\n",
       "    <tr>\n",
       "      <th>209</th>\n",
       "      <td>ANA201405020</td>\n",
       "      <td>59</td>\n",
       "      <td>469</td>\n",
       "      <td>Groundout</td>\n",
       "      <td>None</td>\n",
       "      <td>None</td>\n",
       "      <td>None</td>\n",
       "      <td>0</td>\n",
       "      <td>2</td>\n",
       "      <td>5</td>\n",
       "      <td>7.5</td>\n",
       "      <td>2</td>\n",
       "      <td>5</td>\n",
       "      <td>2014-05-02</td>\n",
       "      <td>0</td>\n",
       "      <td>-3.0</td>\n",
       "    </tr>\n",
       "    <tr>\n",
       "      <th>210</th>\n",
       "      <td>ANA201405020</td>\n",
       "      <td>59</td>\n",
       "      <td>470</td>\n",
       "      <td>Groundout</td>\n",
       "      <td>None</td>\n",
       "      <td>None</td>\n",
       "      <td>None</td>\n",
       "      <td>0</td>\n",
       "      <td>2</td>\n",
       "      <td>5</td>\n",
       "      <td>7.5</td>\n",
       "      <td>2</td>\n",
       "      <td>5</td>\n",
       "      <td>2014-05-02</td>\n",
       "      <td>0</td>\n",
       "      <td>-3.0</td>\n",
       "    </tr>\n",
       "    <tr>\n",
       "      <th>211</th>\n",
       "      <td>ANA201405020</td>\n",
       "      <td>59</td>\n",
       "      <td>471</td>\n",
       "      <td>Groundout</td>\n",
       "      <td>None</td>\n",
       "      <td>None</td>\n",
       "      <td>None</td>\n",
       "      <td>0</td>\n",
       "      <td>2</td>\n",
       "      <td>5</td>\n",
       "      <td>7.5</td>\n",
       "      <td>2</td>\n",
       "      <td>5</td>\n",
       "      <td>2014-05-02</td>\n",
       "      <td>0</td>\n",
       "      <td>-3.0</td>\n",
       "    </tr>\n",
       "    <tr>\n",
       "      <th>212</th>\n",
       "      <td>ANA201405020</td>\n",
       "      <td>59</td>\n",
       "      <td>472</td>\n",
       "      <td>Groundout</td>\n",
       "      <td>None</td>\n",
       "      <td>None</td>\n",
       "      <td>None</td>\n",
       "      <td>0</td>\n",
       "      <td>2</td>\n",
       "      <td>5</td>\n",
       "      <td>7.5</td>\n",
       "      <td>2</td>\n",
       "      <td>5</td>\n",
       "      <td>2014-05-02</td>\n",
       "      <td>0</td>\n",
       "      <td>-3.0</td>\n",
       "    </tr>\n",
       "    <tr>\n",
       "      <th>213</th>\n",
       "      <td>ANA201405020</td>\n",
       "      <td>59</td>\n",
       "      <td>473</td>\n",
       "      <td>Groundout</td>\n",
       "      <td>None</td>\n",
       "      <td>None</td>\n",
       "      <td>None</td>\n",
       "      <td>0</td>\n",
       "      <td>2</td>\n",
       "      <td>5</td>\n",
       "      <td>7.5</td>\n",
       "      <td>2</td>\n",
       "      <td>5</td>\n",
       "      <td>2014-05-02</td>\n",
       "      <td>0</td>\n",
       "      <td>-3.0</td>\n",
       "    </tr>\n",
       "  </tbody>\n",
       "</table>\n",
       "</div>"
      ],
      "text/plain": [
       "           gameID  abNum  pitchID  the_event firstBaseRunner secondBaseRunner  \\\n",
       "209  ANA201405020     59      469  Groundout            None             None   \n",
       "210  ANA201405020     59      470  Groundout            None             None   \n",
       "211  ANA201405020     59      471  Groundout            None             None   \n",
       "212  ANA201405020     59      472  Groundout            None             None   \n",
       "213  ANA201405020     59      473  Groundout            None             None   \n",
       "\n",
       "    thirdBaseRunner  outs  home_team_runs  away_team_runs  curr_inn  \\\n",
       "209            None     0               2               5       7.5   \n",
       "210            None     0               2               5       7.5   \n",
       "211            None     0               2               5       7.5   \n",
       "212            None     0               2               5       7.5   \n",
       "213            None     0               2               5       7.5   \n",
       "\n",
       "     homeTeamScore  awayTeamScore    gameDate  win  current_lead  \n",
       "209              2              5  2014-05-02    0          -3.0  \n",
       "210              2              5  2014-05-02    0          -3.0  \n",
       "211              2              5  2014-05-02    0          -3.0  \n",
       "212              2              5  2014-05-02    0          -3.0  \n",
       "213              2              5  2014-05-02    0          -3.0  "
      ]
     },
     "execution_count": 75,
     "metadata": {},
     "output_type": "execute_result"
    }
   ],
   "source": []
  },
  {
   "cell_type": "code",
   "execution_count": 83,
   "metadata": {},
   "outputs": [
    {
     "data": {
      "text/plain": [
       "0.75524673851389679"
      ]
     },
     "execution_count": 83,
     "metadata": {},
     "output_type": "execute_result"
    }
   ],
   "source": [
    "c = a.df[a.df['curr_inn']>9]\n",
    "X_c = c[['current_lead','curr_inn','outs']]\n",
    "Y_c = c['win']\n",
    "interactions_c = PolynomialFeatures(degree=2)\n",
    "X_c = interactions_c.fit_transform(X_c)\n",
    "logit.score(X_c,Y_c)\n"
   ]
  },
  {
   "cell_type": "code",
   "execution_count": null,
   "metadata": {},
   "outputs": [],
   "source": []
  }
 ],
 "metadata": {
  "kernelspec": {
   "display_name": "Python 3",
   "language": "python",
   "name": "python3"
  },
  "language_info": {
   "codemirror_mode": {
    "name": "ipython",
    "version": 3
   },
   "file_extension": ".py",
   "mimetype": "text/x-python",
   "name": "python",
   "nbconvert_exporter": "python",
   "pygments_lexer": "ipython3",
   "version": "3.6.2"
  }
 },
 "nbformat": 4,
 "nbformat_minor": 2
}
