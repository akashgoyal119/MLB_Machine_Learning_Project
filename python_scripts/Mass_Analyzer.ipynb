{
 "cells": [
  {
   "cell_type": "code",
   "execution_count": 1,
   "metadata": {},
   "outputs": [
    {
     "name": "stderr",
     "output_type": "stream",
     "text": [
      "/home/ubuntu/anaconda3/lib/python3.6/site-packages/matplotlib/__init__.py:1067: UserWarning: Duplicate key in file \"/home/ubuntu/.config/matplotlib/matplotlibrc\", line #2\n",
      "  (fname, cnt))\n",
      "/home/ubuntu/anaconda3/lib/python3.6/site-packages/matplotlib/__init__.py:1067: UserWarning: Duplicate key in file \"/home/ubuntu/.config/matplotlib/matplotlibrc\", line #3\n",
      "  (fname, cnt))\n"
     ]
    }
   ],
   "source": [
    "import os\n",
    "import csv\n",
    "import pymysql as mc \n",
    "import time\n",
    "import webbrowser\n",
    "import sys\n",
    "from sklearn.cluster import KMeans\n",
    "%matplotlib inline\n",
    "import numpy as np\n",
    "import matplotlib.pyplot as plt\n",
    "import pandas as pd\n",
    "from sklearn.cluster import MeanShift\n",
    "from sklearn.preprocessing import scale\n",
    "import matplotlib as mpl\n",
    "mpl.rc('figure',figsize=[12,8])\n",
    "from sqlalchemy import create_engine\n",
    "from sqlalchemy.types import VARCHAR\n",
    "from sklearn.tree import DecisionTreeClassifier\n",
    "import getpass\n",
    "from sklearn.utils import shuffle\n",
    "from sklearn.neural_network import MLPClassifier\n",
    "from sklearn.preprocessing import Imputer \n",
    "from sklearn.linear_model import LogisticRegression\n",
    "from sklearn.model_selection import GridSearchCV, train_test_split, validation_curve"
   ]
  },
  {
   "cell_type": "code",
   "execution_count": 2,
   "metadata": {},
   "outputs": [],
   "source": [
    "font = {'family':'normal','size':16}\n",
    "mpl.rc('font',**font)"
   ]
  },
  {
   "cell_type": "code",
   "execution_count": 3,
   "metadata": {},
   "outputs": [
    {
     "name": "stdout",
     "output_type": "stream",
     "text": [
      "········\n"
     ]
    }
   ],
   "source": [
    "#credentials\n",
    "user='akashgoyal'\n",
    "host='stromberg.cs.uchicago.edu'\n",
    "db_name = 'mlb_practicum'\n",
    "pw = getpass.getpass()"
   ]
  },
  {
   "cell_type": "code",
   "execution_count": 42,
   "metadata": {},
   "outputs": [],
   "source": [
    "cnx2 = create_engine('mysql+pymysql://'+user+':'+pw+'@'+host+':3306/'+db_name,echo=False)\n",
    "cnx = mc.connect(user=user,password=pw,\n",
    "                 host=host,db=db_name,port=3306)"
   ]
  },
  {
   "cell_type": "code",
   "execution_count": 95,
   "metadata": {},
   "outputs": [],
   "source": [
    "query = \"\"\"SELECT pitcherID, COUNT(*),lastName FROM Pitch2 INNER JOIN\n",
    "            Distinct_Players dp ON Pitch2.pitcherID = dp.playerID\n",
    "            INNER JOIN Game ON Game.gameID = Pitch2.gameID WHERE YEAR(gameDate)!=2016\n",
    "            GROUP BY pitcherID\n",
    "            HAVING COUNT(*)>18000\"\"\"\n",
    "distinct_player_df = pd.read_sql_query(query,cnx)"
   ]
  },
  {
   "cell_type": "code",
   "execution_count": 10,
   "metadata": {},
   "outputs": [],
   "source": [
    "a = create_predictions(distinct_player_df.loc[0,'pitcherID'])\n",
    "clf = LogisticRegression()\n",
    "lgt_params = {'C':[0.50,1.0,1.5,2.0,5],'penalty':['l1','l2']}\n",
    "gridObj = GridSearchCV(clf,lgt_params, cv=5)\n",
    "gridObj.fit(a.X,a.Y)"
   ]
  },
  {
   "cell_type": "code",
   "execution_count": 41,
   "metadata": {},
   "outputs": [
    {
     "data": {
      "text/plain": [
       "GridSearchCV(cv=3, error_score='raise',\n",
       "       estimator=MLPClassifier(activation='relu', alpha=0.0001, batch_size='auto', beta_1=0.9,\n",
       "       beta_2=0.999, early_stopping=False, epsilon=1e-08,\n",
       "       hidden_layer_sizes=(100,), learning_rate='constant',\n",
       "       learning_rate_init=0.001, max_iter=200, momentum=0.9,\n",
       "       nesterovs_momentum=True, power_t=0.5, random_state=None,\n",
       "       shuffle=True, solver='adam', tol=0.0001, validation_fraction=0.1,\n",
       "       verbose=False, warm_start=False),\n",
       "       fit_params=None, iid=True, n_jobs=1,\n",
       "       param_grid={'hidden_layer_sizes': [(10, 10), (12, 12), (14, 14), (16, 16), (18, 18), (20, 20)]},\n",
       "       pre_dispatch='2*n_jobs', refit=True, return_train_score='warn',\n",
       "       scoring=None, verbose=0)"
      ]
     },
     "execution_count": 41,
     "metadata": {},
     "output_type": "execute_result"
    }
   ],
   "source": [
    "X = np.linspace(10,20,6)\n",
    "nn = MLPClassifier()\n",
    "nn_params = {'hidden_layer_sizes':[(10,),(12,),(14,),(16,),(18,),(20,)]}\n",
    "gridObj2 = GridSearchCV(nn,nn_params,cv=3)\n",
    "gridObj2.fit(a.X,a.Y)"
   ]
  },
  {
   "cell_type": "code",
   "execution_count": 55,
   "metadata": {},
   "outputs": [],
   "source": [
    "#I used this from Jae Hwang\n",
    "def nn_validation_curve(X, y, param_range):\n",
    "    clf = MLPClassifier()\n",
    "    train_scores, test_scores = validation_curve(\n",
    "        estimator=clf, X=X, y=y, param_name='hidden_layer_sizes', \n",
    "        param_range=param_range, cv=5,\n",
    "        scoring=\"accuracy\", n_jobs=1)\n",
    "    train_scores_mean = np.mean(train_scores, axis=1)\n",
    "    train_scores_std = np.std(train_scores, axis=1)\n",
    "    test_scores_mean = np.mean(test_scores, axis=1)\n",
    "    test_scores_std = np.std(test_scores, axis=1)\n",
    "    plt.title('Validation Curve with Neural Network')\n",
    "    plt.xlabel('Number of Hidden Nodes')\n",
    "    plt.ylabel('Score')\n",
    "    lw=2\n",
    "    \n",
    "    param_range = [i[0] for i in param_range]\n",
    "    plt.plot(param_range, train_scores_mean, label='Training Score',\n",
    "        color='darkorange', lw=lw, marker='o')\n",
    "    plt.fill_between(param_range, train_scores_mean - train_scores_std,\n",
    "        train_scores_mean + train_scores_std, alpha=0.2,\n",
    "        color='darkorange', lw=lw)\n",
    "    plt.plot(param_range, test_scores_mean, label='Cross-Validation Score',\n",
    "        color='navy', lw=lw, marker='o')\n",
    "    plt.fill_between(param_range, test_scores_mean - test_scores_std,\n",
    "        test_scores_mean + test_scores_std, alpha=0.2,\n",
    "        color='navy', lw=lw)\n",
    "    plt.plot(param_range,np.full(len(param_range),0.4),label='Naiive Score')\n",
    "    plt.legend(loc='best')\n",
    "    return plt"
   ]
  },
  {
   "cell_type": "code",
   "execution_count": 58,
   "metadata": {},
   "outputs": [],
   "source": [
    "#I used this from Jae Hwang\n",
    "def logit_validation_curve(X, y, param_range):\n",
    "    clf = LogisticRegression()\n",
    "    train_scores, test_scores = validation_curve(\n",
    "        estimator=clf, X=X, y=y, param_name='C', \n",
    "        param_range=param_range, cv=5,\n",
    "        scoring=\"accuracy\", n_jobs=1)\n",
    "    train_scores_mean = np.mean(train_scores, axis=1)\n",
    "    train_scores_std = np.std(train_scores, axis=1)\n",
    "    test_scores_mean = np.mean(test_scores, axis=1)\n",
    "    test_scores_std = np.std(test_scores, axis=1)\n",
    "    plt.title('Validation Curve with Logistic Regression')\n",
    "    plt.xlabel('C- Regularization Parameter')\n",
    "    plt.ylabel('Score')\n",
    "    lw=2\n",
    "    plt.plot(param_range, train_scores_mean, label='Training Score',\n",
    "        color='darkorange', lw=lw, marker='o')\n",
    "    plt.fill_between(param_range, train_scores_mean - train_scores_std,\n",
    "        train_scores_mean + train_scores_std, alpha=0.2,\n",
    "        color='darkorange', lw=lw)\n",
    "    plt.plot(param_range, test_scores_mean, label='Cross-Validation Score',\n",
    "        color='navy', lw=lw, marker='o')\n",
    "    plt.fill_between(param_range, test_scores_mean - test_scores_std,\n",
    "        test_scores_mean + test_scores_std, alpha=0.2,\n",
    "        color='navy', lw=lw)\n",
    "    plt.plot(param_range,np.full(len(param_range),0.4),label='Naiive Score')\n",
    "    plt.legend(loc='best')\n",
    "    return plt"
   ]
  },
  {
   "cell_type": "code",
   "execution_count": 59,
   "metadata": {},
   "outputs": [
    {
     "data": {
      "text/plain": [
       "<module 'matplotlib.pyplot' from '/home/ubuntu/anaconda3/lib/python3.6/site-packages/matplotlib/pyplot.py'>"
      ]
     },
     "execution_count": 59,
     "metadata": {},
     "output_type": "execute_result"
    },
    {
     "name": "stderr",
     "output_type": "stream",
     "text": [
      "/home/ubuntu/anaconda3/lib/python3.6/site-packages/matplotlib/font_manager.py:1328: UserWarning: findfont: Font family ['normal'] not found. Falling back to DejaVu Sans\n",
      "  (prop.get_family(), self.defaultFamily[fontext]))\n"
     ]
    },
    {
     "data": {
      "image/png": "[encoded data removed]",
      "text/plain": [
       "<Figure size 864x576 with 1 Axes>"
      ]
     },
     "metadata": {},
     "output_type": "display_data"
    }
   ],
   "source": [
    "logit_validation_curve(a.X,a.Y,np.linspace(0.25,3,12))"
   ]
  },
  {
   "cell_type": "code",
   "execution_count": 56,
   "metadata": {},
   "outputs": [
    {
     "data": {
      "text/plain": [
       "<module 'matplotlib.pyplot' from '/home/ubuntu/anaconda3/lib/python3.6/site-packages/matplotlib/pyplot.py'>"
      ]
     },
     "execution_count": 56,
     "metadata": {},
     "output_type": "execute_result"
    },
    {
     "name": "stderr",
     "output_type": "stream",
     "text": [
      "/home/ubuntu/anaconda3/lib/python3.6/site-packages/matplotlib/font_manager.py:1328: UserWarning: findfont: Font family ['normal'] not found. Falling back to DejaVu Sans\n",
      "  (prop.get_family(), self.defaultFamily[fontext]))\n"
     ]
    },
    {
     "data": {
      "image/png": "[encoded data removed]",
      "text/plain": [
       "<Figure size 864x576 with 1 Axes>"
      ]
     },
     "metadata": {},
     "output_type": "display_data"
    }
   ],
   "source": [
    "tree_validation_curve(a.X,a.Y,[(10,),(12,),(14,),(16,),(18,),(20,)])"
   ]
  },
  {
   "cell_type": "code",
   "execution_count": 62,
   "metadata": {
    "scrolled": true
   },
   "outputs": [
    {
     "name": "stdout",
     "output_type": "stream",
     "text": [
      "that took 2.832540988922119 seconds\n",
      "150359\n",
      "logistic regression score was 0.5213230705221552\n",
      "---------------------------------------------------------\n"
     ]
    }
   ],
   "source": [
    "player = distinct_player_df.loc[0,'pitcherID']\n",
    "a = create_predictions(player)\n",
    "\n",
    "if 4==5:\n",
    "    for i in range(len(distinct_player_df)):\n",
    "        player = distinct_player_df.loc[i,'pitcherID']\n",
    "        print (f'stats for {distinct_player_df.loc[i,\"lastName\"]}')\n",
    "        a = create_predictions(player)\n",
    "        headers = a.column_names\n",
    "        coef_df = pd.DataFrame(a.coefficients,columns=headers)\n",
    "        abs_df = coef_df.abs()\n",
    "        print(abs_df.sum(axis=0).sort_values()[-30:])"
   ]
  },
  {
   "cell_type": "code",
   "execution_count": 96,
   "metadata": {},
   "outputs": [],
   "source": [
    "class create_predictions:\n",
    "    def __init__(self,playerID):\n",
    "        self.playerID = playerID\n",
    "        #print ('about to run sql query')\n",
    "        self.run_sql_query()\n",
    "        #print ('finished query, now preprocessing the data')\n",
    "        self.preprocess_data()\n",
    "        #print ('done preprocessing data, now create decision tree')\n",
    "        self.dt_score = self.create_decision_tree()\n",
    "        #print ('finished creating the decision tree, now creating neural net')\n",
    "        self.nn_score = self.create_neural_network()\n",
    "        #print ('finished creating nn, now creating logistic regression')\n",
    "        self.logit_score,self.coefficients,self.intercept,self.parameters = self.create_logit_reg()\n",
    "        #print ('finished logit score, now getting plurality value')\n",
    "        self.pv = self.plurality_value()\n",
    "        \n",
    "        print (self.playerID)\n",
    "        #print(f'naive score was: {self.pv}')\n",
    "        #print(f'decision tree score was: {self.dt_score}')\n",
    "        #print(f'nn score was {self.nn_score}')\n",
    "        print(f'logistic regression score was {self.logit_score}')\n",
    "        #print('end ------------------------------------------------------')\n",
    "        print ('---------------------------------------------------------')\n",
    "    def plurality_value(self):\n",
    "        print (self.Y_oos.value_counts(normalize=True))\n",
    "        return self.Y_oos.value_counts(normalize=True).iloc[0]\n",
    "    \n",
    "    def create_logit_reg(self):\n",
    "        clf2 = LogisticRegression(penalty='l1')\n",
    "        clf2.fit(self.X,self.Y)\n",
    "        return clf2.score(self.X_oos,self.Y_oos),clf2.coef_,clf2.intercept_,clf2.get_params()\n",
    "        \n",
    "    def create_neural_network(self):\n",
    "        avg_nodes = int((self.X.shape[1]+8)/2)\n",
    "        clf = MLPClassifier(solver='adam',alpha=0.001,hidden_layer_sizes=(avg_nodes,),random_state=1)\n",
    "        clf.fit(self.X,self.Y)\n",
    "        return clf.score(self.X_oos,self.Y_oos)\n",
    "        \n",
    "    def create_decision_tree(self):\n",
    "        dt = DecisionTreeClassifier(criterion='entropy',min_impurity_decrease=0.01)\n",
    "        dt.fit(self.X,self.Y)\n",
    "        return dt.score(self.X_oos,self.Y_oos)\n",
    "    \n",
    "    def preprocess_data(self):\n",
    "        start = time.time()\n",
    "        \n",
    "        def platoon_advantage(df):\n",
    "            if df.loc['batterHand'] == df.loc['pitcherHand']:\n",
    "                return 1\n",
    "            else:\n",
    "                return 0\n",
    "        def get_current_lead(df):\n",
    "            homeLead = df.loc['home_team_runs']-df.loc['away_team_runs']\n",
    "            if df.loc['curr_inn']*2%2==1:\n",
    "                return homeLead\n",
    "            else:\n",
    "                return -homeLead\n",
    "\n",
    "        def advantageous_runner(df):\n",
    "            if not df.loc['firstBaseRunner'] or df.loc['secondBaseRunner']:\n",
    "                return 0\n",
    "            else:\n",
    "                return 1\n",
    "                \n",
    "        c_df = self.df.copy()\n",
    "        \n",
    "        c_df['batPosition'] = c_df['batPosition'].fillna(value=9) #override pinch hitters w/ 7th spot\n",
    "        c_df['advantage_runner'] = c_df.apply(advantageous_runner,axis=1)\n",
    "        c_df['platoon_advantage'] = c_df.apply(platoon_advantage,axis=1)\n",
    "        c_df['current_lead_deficit'] = c_df.apply(get_current_lead,axis=1)\n",
    "        c_df['count'] = c_df['balls'].map(str)+c_df['strikes'].map(str)\n",
    "        c_df = pd.get_dummies(c_df,columns=['count']) #create 12 dummy variables for count type\n",
    "        \n",
    "        #now that we're done applying stuff eliminate the bad columns\n",
    "        dropped_columns = ['pitcherID','batterHand','pitcherHand','home_team_runs','away_team_runs',\n",
    "                          'firstBaseRunner','secondBaseRunner','the_event','balls','strikes']\n",
    "        c_df = c_df.drop(columns=dropped_columns)\n",
    "        print (f'that took {time.time()-start} seconds')\n",
    "        \n",
    "        #randomize the data \n",
    "        '''\n",
    "        shuffled_data = shuffle(c_df)\n",
    "        first_half = int(shuffled_data.shape[0]/2)\n",
    "        train_data = shuffled_data.iloc[:first_half]\n",
    "        test_data = shuffled_data.iloc[first_half:]\n",
    "        self.X = train_data.drop(columns=['akash'])\n",
    "        self.Y = train_data['akash']\n",
    "        self.X_oos = test_data.drop(columns=['akash'])\n",
    "        self.Y_oos = test_data['akash']\n",
    "        x_headers = self.X.columns.values\n",
    "        '''\n",
    "        \n",
    "        self.X = c_df.drop(columns=['akash'])\n",
    "        self.Y = c_df['akash']\n",
    "        self.column_names = self.X.columns.values\n",
    "        #fill in NaN values with the mean for each column. Probably not the greatest method\n",
    "        #because of survivorship but not many options at this point\n",
    "        imp = Imputer(strategy='mean') \n",
    "        self.X = imp.fit_transform(self.X)\n",
    "        self.X, self.X_oos,self.Y,self.Y_oos = train_test_split(self.X,self.Y,test_size=0.33)\n",
    "        #self.X = pd.DataFrame(self.X,columns=x_headers) #imputer transforms it to numpy\n",
    "        #imp2 = Imputer(strategy='mean')\n",
    "        #self.X_oos = imp2.fit_transform(self.X_oos)\n",
    "        #self.X_oos = pd.DataFrame(self.X_oos,columns=x_headers) \n",
    "    \n",
    "    def run_sql_query(self):\n",
    "        rel_cols = ['Pitch2.pitcherID','Pitch2.batterHand','Pitch2.pitcherHand','the_event','akash','curr_inn','balls',\n",
    "            'strikes','cumulativePitches','timesFaced','home_team_runs','away_team_runs',\n",
    "            'outs','firstBaseRunner','secondBaseRunner',\n",
    "            \n",
    "            'swing_four_seam_rate',\n",
    "            'whiff_four_seam_rate','ball_four_seam_rate','whiff_slider_rate',\n",
    "            'swing_slider_rate','ball_slider_rate','whiff_two_seam_rate',\n",
    "            'swing_two_seam_rate','ball_two_seam_rate','whiff_change_up_rate',\n",
    "            'swing_change_up_rate','ball_change_up_rate','whiff_knuckleball_rate',\n",
    "            'swing_knuckleball_rate','ball_knuckleball_rate','whiff_curve_rate',\n",
    "            'swing_curve_rate','ball_curve_rate','whiff_cutter_rate','ball_cutter_rate',\n",
    "            'swing_cutter_rate', \n",
    "            \n",
    "            #distribution of pitches seen by the team and by the individual in current game\n",
    "             'psfg.pct_four_seam_team','psfg.pct_curve_team','psfg.pct_slider_team',\n",
    "             'psfg.pct_two_seam_team','psfg.pct_cutter_team',\n",
    "             'psfg.pct_knuckleball_team','psfg.pct_sinker_team','psfg.pct_change_up_team','psfg.pct_four_seam_ind',\n",
    "             'psfg.pct_curve_ind','psfg.pct_slider_ind','psfg.pct_two_seam_ind','psfg.pct_cutter_ind',\n",
    "             'psfg.pct_knuckleball_ind','psfg.pct_sinker_ind','psfg.pct_change_up_ind',\n",
    "            \n",
    "             #does leverage play a role?\n",
    "             'win_probability','leverage',\n",
    "            \n",
    "             #batter run expectancy\n",
    "             '100_avg','300_avg','500_avg','1000_avg','2000_avg',\n",
    "              \n",
    "              \n",
    "              #in-inning distribution of pitches seen (the original mistake I made that is ok)\n",
    "              'inn.pct_four_seam_ind AS AB_four_seam','inn.pct_curve_ind AS AB_curve_team',\n",
    "              'inn.pct_slider_ind AS AB_slider','inn.pct_two_seam_ind AS AB_two_seam',\n",
    "              'inn.pct_cutter_ind AS AB_cutter','inn.pct_knuckleball_ind AS AB_knuckleball',\n",
    "              'inn.pct_sinker_ind AS AB_sinker','inn.pct_change_up_ind AS AB_change_up',\n",
    "              \n",
    "             #batter percentages pitches seen\n",
    "            'batter_change_up_pct_seen','batter_curve_pct_seen','batter_cutter_pct_seen',\n",
    "            'batter_four_seam_pct_seen','batter_knuckleball_pct_seen','batter_sinker_pct_seen',\n",
    "            'batter_slider_pct_seen','batter_two_seam_pct_seen',\n",
    "            \n",
    "            #pitcher % pitches thrown to this point\n",
    "            'pitcher_change_up_pct_thrown','pitcher_curve_pct_thrown',\n",
    "            'pitcher_cutter_pct_thrown','pitcher_four_seam_pct_thrown',\n",
    "            'pitcher_knuckleball_pct_thrown','pitcher_sinker_pct_thrown',\n",
    "            'pitcher_slider_pct_thrown','pitcher_two_seam_pct_thrown',\n",
    "                    \n",
    "              #from player table\n",
    "             'batPosition','hr','rbi']\n",
    "        \n",
    "        query = '''SELECT {} FROM Pitch2 INNER JOIN pitcher_ms_clusters_5_26_18 pms1\n",
    "            ON pms1.playerID = Pitch2.pitcherID \n",
    "            INNER JOIN Distinct_Players p1 ON p1.playerID = pms1.playerID\n",
    "            INNER JOIN Pitch_type_mapping pt1 ON pt1.original = Pitch2.pitchType\n",
    "            INNER JOIN Game ON Game.gameID = Pitch2.gameID\n",
    "            INNER JOIN batter_whiffs bw ON (bw.batterID = Pitch2.batterID\n",
    "            AND bw.gameDate = Game.gameDate AND bw.pitcherHand = Pitch2.pitcherHand)\n",
    "            INNER JOIN Pitches_Seen_Full_Game psfg ON \n",
    "            (psfg.gameID = Game.gameID AND psfg.pitchID = Pitch2.pitchID)\n",
    "            INNER JOIN Batter_Run_Expectancy bre ON \n",
    "            (bre.playerID = Pitch2.batterID AND bre.gameID = Game.gameID)\n",
    "            INNER JOIN Player ON (Player.playerID = Pitch2.batterID AND Pitch2.gameID = Player.gameID)\n",
    "            INNER JOIN leverage l1 ON (l1.gameID = Pitch2.gameID AND l1.pitchID = Pitch2.pitchID)\n",
    "            INNER JOIN Pitches_Seen inn ON (inn.gameID = Pitch2.gameID AND inn.pitchID = Pitch2.pitchID)\n",
    "            INNER JOIN batter_classifications_5_29_18 hc5 ON (hc5.playerID = Pitch2.batterID\n",
    "            AND hc5.gameDate = Game.gameDate)\n",
    "            INNER JOIN pitcher_classifications_5_29_18 pc5 ON (pc5.playerID = Pitch2.pitcherID\n",
    "            AND pc5.gameDate = Game.gameDate)\n",
    "            WHERE Pitch2.pitcherID={} AND\n",
    "            YEAR(Game.gameDate)!=2016'''.format(','.join(rel_cols),self.playerID)\n",
    "        self.df = pd.read_sql_query(query,cnx)\n",
    "        \n",
    "        #\n",
    "        #INNER JOIN pitcher_classifications_5_25_18 pc5 ON (pc5.playerID = Pitch2.pitcherID AND \n",
    "        #     pc5.gameDate = Game.gameDate)"
   ]
  },
  {
   "cell_type": "code",
   "execution_count": 12,
   "metadata": {},
   "outputs": [],
   "source": [
    "query4 = \"\"\"SELECT cls_bandwidth_8, AVG(change_up), AVG(curve), AVG(cutter),AVG(four_seam), AVG(knuckleball),AVG(sinker),AVG(slider), AVG(two_seam), COUNT(*)\n",
    "FROM pitcher_ms_clusters_5_26_18 pms\n",
    "GROUP BY cls_bandwidth_8\n",
    "HAVING COUNT(*)>=10\"\"\"\n",
    "df_distinct_classes = pd.read_sql_query(query4,cnx)\n"
   ]
  },
  {
   "cell_type": "code",
   "execution_count": 94,
   "metadata": {},
   "outputs": [
    {
     "name": "stdout",
     "output_type": "stream",
     "text": [
      "that took 11.50712537765503 seconds\n",
      "0\n",
      "logistic regression score was 0.6531128199726114\n",
      "---------------------------------------------------------\n",
      "pct_knuckleball_team              2.727940\n",
      "AB_two_seam                       2.746411\n",
      "pct_slider_team                   3.078008\n",
      "batter_cutter_pct_seen            3.147181\n",
      "count_02                          3.283412\n",
      "batter_change_up_pct_seen         3.293413\n",
      "AB_sinker                         3.557460\n",
      "count_01                          3.751598\n",
      "count_00                          3.841746\n",
      "whiff_change_up_rate              3.919731\n",
      "pct_two_seam_team                 3.934776\n",
      "batter_slider_pct_seen            4.198639\n",
      "pct_cutter_team                   4.405014\n",
      "pct_change_up_team                4.595265\n",
      "count_12                          4.599361\n",
      "platoon_advantage                 4.705023\n",
      "timesFaced                        5.137806\n",
      "batter_sinker_pct_seen            5.181597\n",
      "count_31                          5.559139\n",
      "count_20                          5.659622\n",
      "leverage                          6.423488\n",
      "pitcher_slider_pct_thrown         6.523027\n",
      "batter_two_seam_pct_seen          7.439747\n",
      "batter_four_seam_pct_seen         9.335185\n",
      "count_30                          9.917511\n",
      "pct_curve_team                   11.261931\n",
      "pitcher_four_seam_pct_thrown     15.007956\n",
      "pitcher_two_seam_pct_thrown      16.897402\n",
      "pitcher_change_up_pct_thrown     36.486667\n",
      "pitcher_curve_pct_thrown        112.876628\n",
      "dtype: float64\n",
      "that took 4.851639032363892 seconds\n",
      "1\n",
      "logistic regression score was 0.5697088809728534\n",
      "---------------------------------------------------------\n",
      "count_01                         2.407221\n",
      "count_11                         2.548436\n",
      "pct_four_seam_ind                2.590035\n",
      "pct_two_seam_ind                 2.810291\n",
      "pct_change_up_ind                2.918938\n",
      "ball_curve_rate                  2.923732\n",
      "100_avg                          2.943668\n",
      "count_00                         3.104454\n",
      "AB_sinker                        3.108890\n",
      "count_20                         3.633868\n",
      "batter_cutter_pct_seen           3.634043\n",
      "pct_sinker_team                  4.276367\n",
      "platoon_advantage                4.370085\n",
      "pct_two_seam_team                4.429014\n",
      "count_31                         4.563057\n",
      "pct_curve_team                   4.614981\n",
      "pitcher_two_seam_pct_thrown      5.087363\n",
      "pct_slider_team                  5.351261\n",
      "count_30                         6.684656\n",
      "batter_sinker_pct_seen           6.946301\n",
      "batter_change_up_pct_seen        7.308669\n",
      "pct_change_up_team               8.001499\n",
      "batter_four_seam_pct_seen        8.284960\n",
      "batter_two_seam_pct_seen         8.552316\n",
      "pitcher_change_up_pct_thrown     9.269897\n",
      "leverage                        10.356849\n",
      "pitcher_four_seam_pct_thrown    11.871977\n",
      "pitcher_slider_pct_thrown       25.292101\n",
      "pitcher_curve_pct_thrown        25.650322\n",
      "pitcher_sinker_pct_thrown       65.783269\n",
      "dtype: float64\n",
      "that took 13.964106559753418 seconds\n",
      "2\n",
      "logistic regression score was 0.5107258938244854\n",
      "---------------------------------------------------------\n",
      "AB_two_seam                      3.073941\n",
      "pct_four_seam_ind                3.092135\n",
      "pct_sinker_ind                   3.193678\n",
      "batter_cutter_pct_seen           3.226857\n",
      "AB_cutter                        3.429178\n",
      "pct_curve_ind                    3.476580\n",
      "swing_slider_rate                3.709094\n",
      "pct_knuckleball_ind              4.477149\n",
      "pct_knuckleball_team             4.532883\n",
      "batter_change_up_pct_seen        4.661028\n",
      "count_20                         5.148077\n",
      "batter_curve_pct_seen            5.545589\n",
      "count_31                         5.651555\n",
      "pct_slider_team                  5.888858\n",
      "leverage                         6.464175\n",
      "pct_curve_team                   7.551703\n",
      "pitcher_four_seam_pct_thrown     8.949166\n",
      "pitcher_slider_pct_thrown       10.244533\n",
      "pct_change_up_team              10.439270\n",
      "count_30                        10.849562\n",
      "pct_cutter_team                 11.456222\n",
      "pct_two_seam_team               12.336877\n",
      "batter_sinker_pct_seen          12.431498\n",
      "batter_four_seam_pct_seen       12.930751\n",
      "pct_sinker_team                 12.988522\n",
      "pitcher_curve_pct_thrown        13.558952\n",
      "batter_two_seam_pct_seen        13.676336\n",
      "pitcher_sinker_pct_thrown       32.716322\n",
      "pitcher_two_seam_pct_thrown     58.669781\n",
      "pitcher_change_up_pct_thrown    59.868748\n",
      "dtype: float64\n",
      "that took 5.689258575439453 seconds\n",
      "3\n",
      "logistic regression score was 0.45119899032393773\n",
      "---------------------------------------------------------\n",
      "count_12                         2.886611\n",
      "whiff_knuckleball_rate           2.918654\n",
      "count_01                         2.970336\n",
      "count_02                         3.290093\n",
      "win_probability                  3.361823\n",
      "count_10                         3.431982\n",
      "batter_cutter_pct_seen           3.595514\n",
      "pct_knuckleball_team             3.613502\n",
      "pct_two_seam_team                3.656047\n",
      "batter_slider_pct_seen           3.787629\n",
      "count_31                         3.897835\n",
      "count_20                         4.051444\n",
      "pitcher_sinker_pct_thrown        4.150904\n",
      "pct_change_up_team               4.228431\n",
      "pitcher_two_seam_pct_thrown      4.341993\n",
      "pct_sinker_team                  4.369938\n",
      "pct_cutter_team                  4.971036\n",
      "pct_change_up_ind                5.336316\n",
      "pct_curve_team                   5.607718\n",
      "count_30                         5.790911\n",
      "leverage                         5.802810\n",
      "batter_two_seam_pct_seen         6.555371\n",
      "platoon_advantage                7.038997\n",
      "batter_sinker_pct_seen           7.070024\n",
      "batter_four_seam_pct_seen        9.405155\n",
      "pitcher_cutter_pct_thrown       11.116317\n",
      "pitcher_change_up_pct_thrown    23.387343\n",
      "pitcher_slider_pct_thrown       28.502454\n",
      "pitcher_four_seam_pct_thrown    34.043880\n",
      "pitcher_curve_pct_thrown        37.902533\n",
      "dtype: float64\n",
      "that took 5.1188273429870605 seconds\n",
      "4\n",
      "logistic regression score was 0.530682086381874\n",
      "---------------------------------------------------------\n",
      "count_01                         2.946148\n",
      "pct_cutter_ind                   3.096572\n",
      "win_probability                  3.144847\n",
      "AB_knuckleball                   3.259232\n",
      "pitcher_change_up_pct_thrown     3.337204\n",
      "ball_cutter_rate                 3.389640\n",
      "pct_change_up_ind                3.404960\n",
      "pct_curve_ind                    3.670921\n",
      "count_31                         4.055615\n",
      "batter_slider_pct_seen           4.139086\n",
      "pct_four_seam_team               4.211866\n",
      "platoon_advantage                4.472402\n",
      "batter_two_seam_pct_seen         4.959825\n",
      "pct_slider_team                  5.589530\n",
      "swing_four_seam_rate             5.848256\n",
      "pct_sinker_team                  5.997574\n",
      "leverage                         6.104794\n",
      "count_30                         7.359932\n",
      "pct_knuckleball_team             7.651798\n",
      "pct_change_up_team               8.216870\n",
      "batter_change_up_pct_seen        9.643314\n",
      "pct_two_seam_team               10.750917\n",
      "pitcher_slider_pct_thrown       11.175406\n",
      "batter_four_seam_pct_seen       11.997524\n",
      "pct_cutter_team                 12.752367\n",
      "pct_curve_team                  12.865743\n",
      "pitcher_four_seam_pct_thrown    18.179890\n",
      "pitcher_two_seam_pct_thrown     18.455133\n",
      "pitcher_cutter_pct_thrown       35.904792\n",
      "pitcher_curve_pct_thrown        36.378301\n",
      "dtype: float64\n",
      "that took 6.2297749519348145 seconds\n",
      "5\n",
      "logistic regression score was 0.5330517630881053\n",
      "---------------------------------------------------------\n",
      "count_12                         2.618916\n",
      "whiff_cutter_rate                2.709879\n",
      "AB_two_seam                      2.875702\n",
      "pct_curve_team                   2.896280\n",
      "2000_avg                         2.916639\n",
      "pct_knuckleball_ind              2.963394\n",
      "pct_change_up_ind                2.969825\n",
      "timesFaced                       2.991202\n",
      "pct_two_seam_team                3.043604\n",
      "AB_slider                        3.069296\n",
      "win_probability                  3.242898\n",
      "count_20                         3.593966\n",
      "pct_curve_ind                    4.038080\n",
      "AB_cutter                        4.196360\n",
      "100_avg                          4.264579\n",
      "count_31                         4.398901\n",
      "platoon_advantage                4.944646\n",
      "batter_curve_pct_seen            5.245374\n",
      "pct_change_up_team               5.347874\n",
      "batter_four_seam_pct_seen        5.518226\n",
      "count_30                         5.664027\n",
      "pct_slider_team                  5.678592\n",
      "batter_two_seam_pct_seen         6.216346\n",
      "batter_slider_pct_seen           7.919316\n",
      "batter_sinker_pct_seen           7.999008\n",
      "pitcher_curve_pct_thrown        13.559822\n",
      "pitcher_change_up_pct_thrown    15.761867\n",
      "pitcher_slider_pct_thrown       23.579070\n",
      "pitcher_cutter_pct_thrown       23.682756\n",
      "pitcher_two_seam_pct_thrown     24.740457\n",
      "dtype: float64\n"
     ]
    },
    {
     "name": "stdout",
     "output_type": "stream",
     "text": [
      "that took 13.808804988861084 seconds\n",
      "6\n",
      "logistic regression score was 0.4153427543228298\n",
      "---------------------------------------------------------\n",
      "win_probability                  2.780272\n",
      "pct_four_seam_ind                2.866828\n",
      "100_avg                          2.883377\n",
      "pct_change_up_ind                3.071069\n",
      "pct_two_seam_ind                 3.347042\n",
      "batter_slider_pct_seen           3.618729\n",
      "pct_cutter_ind                   3.638113\n",
      "pct_sinker_team                  3.641833\n",
      "batter_cutter_pct_seen           4.072484\n",
      "count_20                         4.337811\n",
      "leverage                         4.529088\n",
      "batter_change_up_pct_seen        4.753765\n",
      "pitcher_two_seam_pct_thrown      4.913790\n",
      "count_31                         4.942372\n",
      "cumulativePitches                5.222804\n",
      "batter_curve_pct_seen            5.979274\n",
      "pct_curve_team                   6.854656\n",
      "pct_two_seam_team                7.903243\n",
      "pitcher_change_up_pct_thrown     7.956635\n",
      "batter_sinker_pct_seen           8.318284\n",
      "pct_change_up_team               9.740987\n",
      "pitcher_slider_pct_thrown       10.240284\n",
      "count_30                        10.421681\n",
      "pct_slider_team                 10.462608\n",
      "pct_cutter_team                 11.953622\n",
      "batter_four_seam_pct_seen       11.966151\n",
      "batter_two_seam_pct_seen        12.060457\n",
      "pitcher_four_seam_pct_thrown    16.916628\n",
      "pitcher_curve_pct_thrown        20.939153\n",
      "pitcher_cutter_pct_thrown       33.562876\n",
      "dtype: float64\n"
     ]
    }
   ],
   "source": [
    "for i in range(df_distinct_classes.shape[0]):\n",
    "    a = create_predictions(i)\n",
    "    headers = a.column_names\n",
    "    coef_df = pd.DataFrame(a.coefficients,columns=headers)\n",
    "    abs_df = coef_df.abs()\n",
    "    print(abs_df.sum(axis=0).sort_values()[-30:])\n",
    "    if i>5:\n",
    "        break"
   ]
  },
  {
   "cell_type": "code",
   "execution_count": 98,
   "metadata": {},
   "outputs": [
    {
     "data": {
      "text/plain": [
       "(32, 3)"
      ]
     },
     "execution_count": 98,
     "metadata": {},
     "output_type": "execute_result"
    }
   ],
   "source": [
    "distinct_player_df.shape"
   ]
  },
  {
   "cell_type": "code",
   "execution_count": 99,
   "metadata": {},
   "outputs": [
    {
     "name": "stdout",
     "output_type": "stream",
     "text": [
      "that took 2.8407511711120605 seconds\n",
      "sinker       0.365093\n",
      "curve        0.346162\n",
      "four_seam    0.214271\n",
      "change_up    0.074475\n",
      "Name: akash, dtype: float64\n",
      "150359\n",
      "logistic regression score was 0.5302683586436446\n",
      "---------------------------------------------------------\n",
      "that took 2.9537558555603027 seconds\n",
      "four_seam    0.290497\n",
      "change_up    0.232358\n",
      "two_seam     0.219727\n",
      "cutter       0.162390\n",
      "curve        0.095028\n",
      "Name: akash, dtype: float64\n",
      "279824\n",
      "logistic regression score was 0.3289895749799519\n",
      "---------------------------------------------------------\n",
      "that took 3.0187952518463135 seconds\n",
      "four_seam    0.334381\n",
      "slider       0.258590\n",
      "sinker       0.236403\n",
      "change_up    0.147850\n",
      "curve        0.021991\n",
      "cutter       0.000785\n",
      "Name: akash, dtype: float64\n",
      "282332\n",
      "logistic regression score was 0.4093854309837031\n",
      "---------------------------------------------------------\n",
      "that took 3.5195956230163574 seconds\n",
      "knuckleball    0.848678\n",
      "four_seam      0.151322\n",
      "Name: akash, dtype: float64\n",
      "285079\n",
      "logistic regression score was 0.8659189822564446\n",
      "---------------------------------------------------------\n",
      "that took 2.7865025997161865 seconds\n",
      "four_seam    0.440559\n",
      "cutter       0.256622\n",
      "two_seam     0.146641\n",
      "curve        0.112948\n",
      "change_up    0.042382\n",
      "slider       0.000848\n",
      "Name: akash, dtype: float64\n",
      "407793\n",
      "logistic regression score was 0.47065056155965246\n",
      "---------------------------------------------------------\n",
      "that took 2.88505482673645 seconds\n",
      "four_seam    0.339553\n",
      "sinker       0.194587\n",
      "slider       0.162600\n",
      "change_up    0.156244\n",
      "curve        0.100882\n",
      "cutter       0.046135\n",
      "Name: akash, dtype: float64\n",
      "425386\n",
      "logistic regression score was 0.4012712733237646\n",
      "---------------------------------------------------------\n",
      "that took 3.4776411056518555 seconds\n",
      "four_seam    0.366712\n",
      "slider       0.169317\n",
      "two_seam     0.164411\n",
      "change_up    0.132950\n",
      "curve        0.123985\n",
      "cutter       0.042625\n",
      "Name: akash, dtype: float64\n",
      "425844\n",
      "logistic regression score was 0.41542625169147496\n",
      "---------------------------------------------------------\n",
      "that took 2.8582515716552734 seconds\n",
      "cutter       0.404063\n",
      "four_seam    0.301252\n",
      "sinker       0.128463\n",
      "two_seam     0.085574\n",
      "curve        0.080648\n",
      "Name: akash, dtype: float64\n",
      "429717\n",
      "logistic regression score was 0.43012517956084545\n",
      "---------------------------------------------------------\n",
      "that took 3.271493434906006 seconds\n",
      "four_seam    0.499370\n",
      "slider       0.368630\n",
      "change_up    0.083378\n",
      "two_seam     0.048622\n",
      "Name: akash, dtype: float64\n",
      "429722\n",
      "logistic regression score was 0.5650999459751486\n",
      "---------------------------------------------------------\n",
      "that took 3.458174705505371 seconds\n",
      "four_seam    0.434464\n",
      "change_up    0.239645\n",
      "cutter       0.133458\n",
      "curve        0.100903\n",
      "two_seam     0.091529\n",
      "Name: akash, dtype: float64\n",
      "430935\n",
      "logistic regression score was 0.45576955854780976\n",
      "---------------------------------------------------------\n",
      "that took 3.4171149730682373 seconds\n",
      "sinker       0.258636\n",
      "four_seam    0.244887\n",
      "change_up    0.210517\n",
      "curve        0.162055\n",
      "slider       0.094690\n",
      "cutter       0.029215\n",
      "Name: akash, dtype: float64\n",
      "433587\n",
      "logistic regression score was 0.3870080769891734\n",
      "---------------------------------------------------------\n",
      "that took 3.9183335304260254 seconds\n",
      "four_seam    0.557446\n",
      "curve        0.152236\n",
      "slider       0.147869\n",
      "change_up    0.137479\n",
      "two_seam     0.004367\n",
      "cutter       0.000602\n",
      "Name: akash, dtype: float64\n",
      "434378\n",
      "logistic regression score was 0.5551874717663002\n",
      "---------------------------------------------------------\n",
      "that took 3.3438456058502197 seconds\n",
      "four_seam    0.300781\n",
      "two_seam     0.273438\n",
      "slider       0.189098\n",
      "sinker       0.182706\n",
      "curve        0.047053\n",
      "cutter       0.006925\n",
      "Name: akash, dtype: float64\n",
      "434622\n",
      "logistic regression score was 0.40074573863636365\n",
      "---------------------------------------------------------\n",
      "that took 2.9045069217681885 seconds\n",
      "four_seam    0.350335\n",
      "slider       0.275554\n",
      "two_seam     0.221296\n",
      "curve        0.092461\n",
      "change_up    0.060354\n",
      "Name: akash, dtype: float64\n",
      "434628\n",
      "logistic regression score was 0.4344645397276976\n",
      "---------------------------------------------------------\n",
      "that took 2.929980754852295 seconds\n",
      "four_seam    0.344344\n",
      "sinker       0.296697\n",
      "slider       0.209610\n",
      "curve        0.087487\n",
      "cutter       0.041642\n",
      "change_up    0.020220\n",
      "Name: akash, dtype: float64\n",
      "434671\n",
      "logistic regression score was 0.4004004004004004\n",
      "---------------------------------------------------------\n",
      "that took 2.9720687866210938 seconds\n",
      "slider       0.260654\n",
      "four_seam    0.243211\n",
      "two_seam     0.223191\n",
      "curve        0.143707\n",
      "sinker       0.126462\n",
      "cutter       0.002577\n",
      "change_up    0.000198\n",
      "Name: akash, dtype: float64\n",
      "445060\n",
      "logistic regression score was 0.37561942517343905\n",
      "---------------------------------------------------------\n",
      "that took 3.7423222064971924 seconds\n",
      "four_seam    0.255302\n",
      "change_up    0.238525\n",
      "cutter       0.203229\n",
      "curve        0.172998\n",
      "two_seam     0.129313\n",
      "slider       0.000633\n",
      "Name: akash, dtype: float64\n",
      "448306\n",
      "logistic regression score was 0.398227287116176\n",
      "---------------------------------------------------------\n",
      "that took 2.968116044998169 seconds\n",
      "change_up    0.293134\n",
      "two_seam     0.272239\n",
      "four_seam    0.270846\n",
      "curve        0.113433\n",
      "cutter       0.050348\n",
      "Name: akash, dtype: float64\n",
      "450306\n",
      "logistic regression score was 0.42388059701492536\n",
      "---------------------------------------------------------\n",
      "that took 2.9255497455596924 seconds\n",
      "four_seam    0.272910\n",
      "two_seam     0.223782\n",
      "change_up    0.172047\n",
      "curve        0.147985\n",
      "slider       0.130339\n",
      "cutter       0.052938\n",
      "Name: akash, dtype: float64\n",
      "450308\n",
      "logistic regression score was 0.3934228995388009\n",
      "---------------------------------------------------------\n",
      "that took 3.0178561210632324 seconds\n",
      "two_seam     0.276650\n",
      "four_seam    0.254393\n",
      "curve        0.151894\n",
      "slider       0.122413\n",
      "cutter       0.101913\n",
      "change_up    0.092737\n",
      "Name: akash, dtype: float64\n",
      "450351\n",
      "logistic regression score was 0.34634908238969153\n",
      "---------------------------------------------------------\n",
      "that took 3.5249226093292236 seconds\n",
      "four_seam    0.341357\n",
      "slider       0.250919\n",
      "two_seam     0.196255\n",
      "curve        0.176195\n",
      "change_up    0.034604\n",
      "cutter       0.000669\n",
      "Name: akash, dtype: float64\n",
      "451596\n",
      "logistic regression score was 0.39752591106653296\n",
      "---------------------------------------------------------\n",
      "that took 3.7576613426208496 seconds\n",
      "four_seam    0.451481\n",
      "cutter       0.217706\n",
      "curve        0.139729\n",
      "sinker       0.108381\n",
      "change_up    0.082703\n",
      "Name: akash, dtype: float64\n",
      "452657\n",
      "logistic regression score was 0.4604599873976055\n",
      "---------------------------------------------------------\n",
      "that took 3.5562679767608643 seconds\n",
      "four_seam    0.508822\n",
      "change_up    0.163948\n",
      "curve        0.124168\n",
      "two_seam     0.116178\n",
      "slider       0.064747\n",
      "cutter       0.022137\n",
      "Name: akash, dtype: float64\n",
      "453178\n",
      "logistic regression score was 0.5374500665778962\n",
      "---------------------------------------------------------\n",
      "that took 3.8197128772735596 seconds\n",
      "four_seam    0.543296\n",
      "change_up    0.185133\n",
      "slider       0.179702\n",
      "curve        0.055866\n",
      "two_seam     0.019708\n",
      "cutter       0.016294\n",
      "Name: akash, dtype: float64\n",
      "453286\n",
      "logistic regression score was 0.5405027932960894\n",
      "---------------------------------------------------------\n",
      "that took 3.4775407314300537 seconds\n",
      "two_seam     0.388624\n",
      "four_seam    0.208617\n",
      "change_up    0.162466\n",
      "cutter       0.143392\n",
      "curve        0.096219\n",
      "slider       0.000681\n",
      "Name: akash, dtype: float64\n",
      "456034\n",
      "logistic regression score was 0.44720708446866486\n",
      "---------------------------------------------------------\n",
      "that took 3.005695104598999 seconds\n",
      "four_seam    0.288696\n",
      "two_seam     0.226664\n",
      "slider       0.174281\n",
      "change_up    0.166404\n",
      "cutter       0.138834\n",
      "curve        0.005120\n",
      "Name: akash, dtype: float64\n",
      "456501\n",
      "logistic regression score was 0.3209925167388736\n",
      "---------------------------------------------------------\n",
      "that took 3.5811691284179688 seconds\n",
      "four_seam    0.373551\n",
      "two_seam     0.277600\n",
      "curve        0.217274\n",
      "change_up    0.131575\n",
      "Name: akash, dtype: float64\n",
      "461829\n",
      "logistic regression score was 0.45286506469500926\n",
      "---------------------------------------------------------\n",
      "that took 3.5522847175598145 seconds\n",
      "four_seam    0.566456\n",
      "slider       0.267155\n",
      "curve        0.133078\n",
      "change_up    0.027648\n",
      "two_seam     0.002831\n",
      "cutter       0.002831\n",
      "Name: akash, dtype: float64\n",
      "477132\n",
      "logistic regression score was 0.5774483677548301\n",
      "---------------------------------------------------------\n"
     ]
    },
    {
     "name": "stdout",
     "output_type": "stream",
     "text": [
      "that took 3.298204183578491 seconds\n",
      "four_seam    0.312254\n",
      "two_seam     0.216052\n",
      "slider       0.212110\n",
      "sinker       0.120387\n",
      "cutter       0.102293\n",
      "curve        0.036725\n",
      "change_up    0.000179\n",
      "Name: akash, dtype: float64\n",
      "502188\n",
      "logistic regression score was 0.389824435686134\n",
      "---------------------------------------------------------\n",
      "that took 3.1437950134277344 seconds\n",
      "sinker       0.429564\n",
      "cutter       0.204733\n",
      "slider       0.115890\n",
      "change_up    0.104808\n",
      "curve        0.101052\n",
      "four_seam    0.043952\n",
      "Name: akash, dtype: float64\n",
      "502190\n",
      "logistic regression score was 0.4479714500375657\n",
      "---------------------------------------------------------\n",
      "that took 3.4057295322418213 seconds\n",
      "four_seam    0.328982\n",
      "slider       0.313664\n",
      "two_seam     0.129678\n",
      "curve        0.128285\n",
      "change_up    0.064230\n",
      "cutter       0.035161\n",
      "Name: akash, dtype: float64\n",
      "518516\n",
      "logistic regression score was 0.427154046997389\n",
      "---------------------------------------------------------\n",
      "that took 3.359649896621704 seconds\n",
      "two_seam     0.362855\n",
      "four_seam    0.263592\n",
      "slider       0.136443\n",
      "curve        0.119256\n",
      "change_up    0.117853\n",
      "Name: akash, dtype: float64\n",
      "519144\n",
      "logistic regression score was 0.4189757979656261\n",
      "---------------------------------------------------------\n"
     ]
    }
   ],
   "source": [
    "dt_scores = []\n",
    "nn_scores = []\n",
    "logit_scores = []\n",
    "pv_scores = []\n",
    "for i in range(distinct_player_df.shape[0]):\n",
    "    player = distinct_player_df.loc[i,'pitcherID']\n",
    "    resultObj = create_predictions(player)\n",
    "    dt_scores.append(resultObj.dt_score)\n",
    "    nn_scores.append(resultObj.nn_score)\n",
    "    logit_scores.append(resultObj.logit_score)\n",
    "    pv_scores.append(resultObj.pv)"
   ]
  },
  {
   "cell_type": "code",
   "execution_count": 100,
   "metadata": {},
   "outputs": [],
   "source": [
    "temp_np = np.vstack((range(distinct_player_df.shape[0]),pv_scores,logit_scores,nn_scores,dt_scores)).transpose()"
   ]
  },
  {
   "cell_type": "code",
   "execution_count": 102,
   "metadata": {},
   "outputs": [
    {
     "data": {
      "text/html": [
       "<div>\n",
       "<style scoped>\n",
       "    .dataframe tbody tr th:only-of-type {\n",
       "        vertical-align: middle;\n",
       "    }\n",
       "\n",
       "    .dataframe tbody tr th {\n",
       "        vertical-align: top;\n",
       "    }\n",
       "\n",
       "    .dataframe thead th {\n",
       "        text-align: right;\n",
       "    }\n",
       "</style>\n",
       "<table border=\"1\" class=\"dataframe\">\n",
       "  <thead>\n",
       "    <tr style=\"text-align: right;\">\n",
       "      <th></th>\n",
       "      <th>pitcher number</th>\n",
       "      <th>pv_score</th>\n",
       "      <th>logit_score</th>\n",
       "      <th>nn_score</th>\n",
       "      <th>dt_score</th>\n",
       "    </tr>\n",
       "  </thead>\n",
       "  <tbody>\n",
       "    <tr>\n",
       "      <th>0</th>\n",
       "      <td>0.0</td>\n",
       "      <td>0.365093</td>\n",
       "      <td>0.530268</td>\n",
       "      <td>0.516954</td>\n",
       "      <td>0.481797</td>\n",
       "    </tr>\n",
       "    <tr>\n",
       "      <th>1</th>\n",
       "      <td>1.0</td>\n",
       "      <td>0.290497</td>\n",
       "      <td>0.328990</td>\n",
       "      <td>0.316159</td>\n",
       "      <td>0.291299</td>\n",
       "    </tr>\n",
       "    <tr>\n",
       "      <th>2</th>\n",
       "      <td>2.0</td>\n",
       "      <td>0.334381</td>\n",
       "      <td>0.409385</td>\n",
       "      <td>0.397016</td>\n",
       "      <td>0.391125</td>\n",
       "    </tr>\n",
       "    <tr>\n",
       "      <th>3</th>\n",
       "      <td>3.0</td>\n",
       "      <td>0.848678</td>\n",
       "      <td>0.865919</td>\n",
       "      <td>0.865417</td>\n",
       "      <td>0.856545</td>\n",
       "    </tr>\n",
       "    <tr>\n",
       "      <th>4</th>\n",
       "      <td>4.0</td>\n",
       "      <td>0.440559</td>\n",
       "      <td>0.470651</td>\n",
       "      <td>0.467260</td>\n",
       "      <td>0.444374</td>\n",
       "    </tr>\n",
       "  </tbody>\n",
       "</table>\n",
       "</div>"
      ],
      "text/plain": [
       "   pitcher number  pv_score  logit_score  nn_score  dt_score\n",
       "0             0.0  0.365093     0.530268  0.516954  0.481797\n",
       "1             1.0  0.290497     0.328990  0.316159  0.291299\n",
       "2             2.0  0.334381     0.409385  0.397016  0.391125\n",
       "3             3.0  0.848678     0.865919  0.865417  0.856545\n",
       "4             4.0  0.440559     0.470651  0.467260  0.444374"
      ]
     },
     "execution_count": 102,
     "metadata": {},
     "output_type": "execute_result"
    }
   ],
   "source": [
    "temp_df = pd.DataFrame(temp_np,columns=['pitcher number','pv_score','logit_score','nn_score','dt_score'])\n",
    "temp_df.head()"
   ]
  },
  {
   "cell_type": "code",
   "execution_count": 103,
   "metadata": {},
   "outputs": [
    {
     "data": {
      "text/html": [
       "<div>\n",
       "<style scoped>\n",
       "    .dataframe tbody tr th:only-of-type {\n",
       "        vertical-align: middle;\n",
       "    }\n",
       "\n",
       "    .dataframe tbody tr th {\n",
       "        vertical-align: top;\n",
       "    }\n",
       "\n",
       "    .dataframe thead th {\n",
       "        text-align: right;\n",
       "    }\n",
       "</style>\n",
       "<table border=\"1\" class=\"dataframe\">\n",
       "  <thead>\n",
       "    <tr style=\"text-align: right;\">\n",
       "      <th></th>\n",
       "      <th>pitcher number</th>\n",
       "      <th>pv_score</th>\n",
       "      <th>logit_score</th>\n",
       "      <th>nn_score</th>\n",
       "      <th>dt_score</th>\n",
       "    </tr>\n",
       "  </thead>\n",
       "  <tbody>\n",
       "    <tr>\n",
       "      <th>16</th>\n",
       "      <td>16.0</td>\n",
       "      <td>0.255302</td>\n",
       "      <td>0.398227</td>\n",
       "      <td>0.378126</td>\n",
       "      <td>0.324945</td>\n",
       "    </tr>\n",
       "    <tr>\n",
       "      <th>10</th>\n",
       "      <td>10.0</td>\n",
       "      <td>0.258636</td>\n",
       "      <td>0.387008</td>\n",
       "      <td>0.364324</td>\n",
       "      <td>0.308644</td>\n",
       "    </tr>\n",
       "    <tr>\n",
       "      <th>15</th>\n",
       "      <td>15.0</td>\n",
       "      <td>0.260654</td>\n",
       "      <td>0.375619</td>\n",
       "      <td>0.376412</td>\n",
       "      <td>0.324281</td>\n",
       "    </tr>\n",
       "    <tr>\n",
       "      <th>18</th>\n",
       "      <td>18.0</td>\n",
       "      <td>0.272910</td>\n",
       "      <td>0.393423</td>\n",
       "      <td>0.386806</td>\n",
       "      <td>0.376980</td>\n",
       "    </tr>\n",
       "    <tr>\n",
       "      <th>19</th>\n",
       "      <td>19.0</td>\n",
       "      <td>0.276650</td>\n",
       "      <td>0.346349</td>\n",
       "      <td>0.317064</td>\n",
       "      <td>0.329949</td>\n",
       "    </tr>\n",
       "  </tbody>\n",
       "</table>\n",
       "</div>"
      ],
      "text/plain": [
       "    pitcher number  pv_score  logit_score  nn_score  dt_score\n",
       "16            16.0  0.255302     0.398227  0.378126  0.324945\n",
       "10            10.0  0.258636     0.387008  0.364324  0.308644\n",
       "15            15.0  0.260654     0.375619  0.376412  0.324281\n",
       "18            18.0  0.272910     0.393423  0.386806  0.376980\n",
       "19            19.0  0.276650     0.346349  0.317064  0.329949"
      ]
     },
     "execution_count": 103,
     "metadata": {},
     "output_type": "execute_result"
    }
   ],
   "source": [
    "new_df = temp_df.sort_values(by=['pv_score'])\n",
    "new_df.head()"
   ]
  },
  {
   "cell_type": "code",
   "execution_count": 104,
   "metadata": {},
   "outputs": [],
   "source": [
    "x_var = new_df['pv_score']\n",
    "logit_improvement = new_df.apply(lambda row: row['logit_score']-row['pv_score'],axis=1)\n",
    "nn_improvement = new_df.apply(lambda row: row['nn_score']-row['pv_score'],axis=1)\n",
    "dt_improvement = new_df.apply(lambda row: row['dt_score']-row['pv_score'],axis=1)"
   ]
  },
  {
   "cell_type": "code",
   "execution_count": 107,
   "metadata": {},
   "outputs": [
    {
     "data": {
      "text/plain": [
       "[]"
      ]
     },
     "execution_count": 107,
     "metadata": {},
     "output_type": "execute_result"
    },
    {
     "name": "stderr",
     "output_type": "stream",
     "text": [
      "/home/ubuntu/anaconda3/lib/python3.6/site-packages/matplotlib/font_manager.py:1328: UserWarning: findfont: Font family ['normal'] not found. Falling back to DejaVu Sans\n",
      "  (prop.get_family(), self.defaultFamily[fontext]))\n"
     ]
    },
    {
     "data": {
      "image/png": "[encoded data removed]",
      "text/plain": [
       "<Figure size 720x576 with 1 Axes>"
      ]
     },
     "metadata": {},
     "output_type": "display_data"
    }
   ],
   "source": [
    "x_s = range(distinct_player_df.shape[0])\n",
    "plt.figure(1,figsize=(10,8))\n",
    "plt.title('Accuracy of Pitch Classifications By Individual Pitcher')\n",
    "\n",
    "plt.plot(x_s,new_df['pv_score'],label='Naive Score')\n",
    "plt.plot(x_s,new_df['nn_score'],label='Neural Network Score')\n",
    "plt.plot(x_s,new_df['logit_score'],label='Logistic Regression Score')\n",
    "plt.plot(x_s,new_df['dt_score'],label='Decision Tree Score')\n",
    "#plt.plot(x_s,np.zeros(len(x_s)),c='black')\n",
    "\n",
    "plt.xlabel('Pitcher Number') \n",
    "plt.ylabel('Accuracy')\n",
    "plt.legend(loc='best')\n",
    "\n",
    "plt.plot()"
   ]
  },
  {
   "cell_type": "code",
   "execution_count": 30,
   "metadata": {},
   "outputs": [
    {
     "data": {
      "text/plain": [
       "[]"
      ]
     },
     "execution_count": 30,
     "metadata": {},
     "output_type": "execute_result"
    },
    {
     "name": "stderr",
     "output_type": "stream",
     "text": [
      "/home/ubuntu/anaconda3/lib/python3.6/site-packages/matplotlib/font_manager.py:1328: UserWarning: findfont: Font family ['normal'] not found. Falling back to DejaVu Sans\n",
      "  (prop.get_family(), self.defaultFamily[fontext]))\n"
     ]
    },
    {
     "data": {
      "image/png": "[encoded data removed]",
      "text/plain": [
       "<Figure size 720x576 with 1 Axes>"
      ]
     },
     "metadata": {},
     "output_type": "display_data"
    }
   ],
   "source": [
    "x_s = range(df_distinct_classes.shape[0])\n",
    "plt.figure(1,figsize=(10,8))\n",
    "plt.title('Accuracy of Pitch Classifications By Mean-Shift Cluster Group')\n",
    "\n",
    "plt.plot(x_s,new_df['pv_score'],label='Naiive Guesses')\n",
    "plt.plot(x_s,new_df['nn_score'],label='Neural Network Scores')\n",
    "plt.plot(x_s,new_df['logit_score'],label='Logistic Regression Scores')\n",
    "plt.plot(x_s,new_df['dt_score'],label='Decision Tree Scores')\n",
    "\n",
    "'''\n",
    "plt.plot(param_range, train_scores_mean, label='Training Score',\n",
    "    color='darkorange', lw=lw, marker='o')\n",
    "plt.fill_between(param_range, train_scores_mean - train_scores_std,\n",
    "    train_scores_mean + train_scores_std, alpha=0.2,\n",
    "    color='darkorange', lw=lw)\n",
    "plt.plot(param_range, test_scores_mean, label='Cross-Validation Score',\n",
    "    color='navy', lw=lw, marker='o')\n",
    "plt.fill_between(param_range, test_scores_mean - test_scores_std,\n",
    "    test_scores_mean + test_scores_std, alpha=0.2,\n",
    "    color='navy', lw=lw)\n",
    "plt.plot(param_range,np.full(len(param_range),0.4),label='Naiive Score')\n",
    "'''\n",
    "plt.xlabel('Cluster Group Number') \n",
    "plt.ylabel('Accuracy')\n",
    "plt.legend(loc='best')\n",
    "plt.plot()"
   ]
  },
  {
   "cell_type": "code",
   "execution_count": 62,
   "metadata": {},
   "outputs": [],
   "source": [
    "lgt = LogisticRegression(penalty='l2',C=1)\n",
    "X_train,X_test,Y_train,Y_test = train_test_split(a.X,a.Y,test_size=0.33)"
   ]
  },
  {
   "cell_type": "code",
   "execution_count": 63,
   "metadata": {},
   "outputs": [
    {
     "data": {
      "text/plain": [
       "0.529056062314236"
      ]
     },
     "execution_count": 63,
     "metadata": {},
     "output_type": "execute_result"
    }
   ],
   "source": [
    "lgt.fit(X_train,Y_train)\n",
    "lgt.score(X_train,Y_train)"
   ]
  },
  {
   "cell_type": "code",
   "execution_count": 64,
   "metadata": {},
   "outputs": [
    {
     "data": {
      "text/plain": [
       "0.5346369877262326"
      ]
     },
     "execution_count": 64,
     "metadata": {},
     "output_type": "execute_result"
    }
   ],
   "source": [
    "lgt.score(X_test,Y_test)"
   ]
  },
  {
   "cell_type": "code",
   "execution_count": 65,
   "metadata": {},
   "outputs": [],
   "source": [
    "predictions = lgt.predict(X_test)"
   ]
  },
  {
   "cell_type": "code",
   "execution_count": 69,
   "metadata": {},
   "outputs": [],
   "source": [
    "data = np.vstack((Y_test,predictions)).transpose()\n",
    "pred_df = pd.DataFrame(data,columns=['actual','predicted'])"
   ]
  },
  {
   "cell_type": "code",
   "execution_count": 71,
   "metadata": {},
   "outputs": [],
   "source": [
    "correct_values = pred_df[pred_df['actual']==pred_df['predicted']]"
   ]
  },
  {
   "cell_type": "code",
   "execution_count": 114,
   "metadata": {},
   "outputs": [
    {
     "data": {
      "text/plain": [
       "sinker       0.366965\n",
       "curve        0.330768\n",
       "four_seam    0.220304\n",
       "change_up    0.081964\n",
       "Name: actual, dtype: float64"
      ]
     },
     "execution_count": 114,
     "metadata": {},
     "output_type": "execute_result"
    }
   ],
   "source": [
    "pred_df.actual.value_counts(normalize=True)"
   ]
  },
  {
   "cell_type": "code",
   "execution_count": 78,
   "metadata": {},
   "outputs": [
    {
     "data": {
      "text/plain": [
       "sinker       0.444560\n",
       "curve        0.386520\n",
       "four_seam    0.159767\n",
       "change_up    0.009153\n",
       "Name: predicted, dtype: float64"
      ]
     },
     "execution_count": 78,
     "metadata": {},
     "output_type": "execute_result"
    }
   ],
   "source": [
    "pred_df.predicted.value_counts(normalize=True)"
   ]
  },
  {
   "cell_type": "code",
   "execution_count": 117,
   "metadata": {},
   "outputs": [],
   "source": [
    "sinkers = pred_df[pred_df['predicted']=='sinker']\n",
    "curves = pred_df[pred_df['predicted']=='curve']\n",
    "four_seam = pred_df[pred_df['predicted']=='four_seam']\n",
    "change_up = pred_df[pred_df['predicted']=='change_up']"
   ]
  },
  {
   "cell_type": "code",
   "execution_count": 118,
   "metadata": {},
   "outputs": [],
   "source": [
    "l = []\n",
    "l.append(np.where(sinkers['actual']=='sinker',1,0).sum()/len(sinkers))\n",
    "l.append(np.where(curves['actual']=='curve',1,0).sum()/len(curves))\n",
    "l.append(np.where(four_seam['actual']=='four_seam',1,0).sum()/len(four_seam))\n",
    "l.append(np.where(change_up['actual']=='change_up',1,0).sum()/len(change_up))"
   ]
  },
  {
   "cell_type": "code",
   "execution_count": 100,
   "metadata": {},
   "outputs": [
    {
     "data": {
      "text/plain": [
       "[0.645124716553288,\n",
       " 0.6364779874213836,\n",
       " 0.37677053824362605,\n",
       " 0.0532994923857868]"
      ]
     },
     "execution_count": 100,
     "metadata": {},
     "output_type": "execute_result"
    }
   ],
   "source": [
    "l"
   ]
  },
  {
   "cell_type": "code",
   "execution_count": 119,
   "metadata": {},
   "outputs": [],
   "source": [
    "x = [0.444,0.386,0.160,0.01]"
   ]
  },
  {
   "cell_type": "code",
   "execution_count": 121,
   "metadata": {},
   "outputs": [
    {
     "data": {
      "text/plain": [
       "<matplotlib.legend.Legend at 0x7fce8f091278>"
      ]
     },
     "execution_count": 121,
     "metadata": {},
     "output_type": "execute_result"
    },
    {
     "name": "stderr",
     "output_type": "stream",
     "text": [
      "/home/ubuntu/anaconda3/lib/python3.6/site-packages/matplotlib/font_manager.py:1328: UserWarning: findfont: Font family ['normal'] not found. Falling back to DejaVu Sans\n",
      "  (prop.get_family(), self.defaultFamily[fontext]))\n"
     ]
    },
    {
     "data": {
      "image/png": "[encoded data removed]",
      "text/plain": [
       "<Figure size 864x576 with 1 Axes>"
      ]
     },
     "metadata": {},
     "output_type": "display_data"
    }
   ],
   "source": [
    "fig,ax = plt.subplots()\n",
    "ind = np.arange(len(x))\n",
    "width = 0.35 \n",
    "\n",
    "rects1 = ax.bar(ind,x,width,color='r',label='percentage of each type guessed')\n",
    "rects2 = ax.bar(ind+width,l,width,color='g',label='percentage of correct guesses for each type')\n",
    "\n",
    "ax.set_xticks(ind+width)\n",
    "ax.set_xticklabels(('sinker','curve','four_seam','change_up'))\n",
    "vals = ax.get_yticks()\n",
    "ax.set_yticklabels(['{:3.0f}%'.format(x*100) for x in vals])\n",
    "plt.ylabel('percentage of pitches')\n",
    "plt.xlabel('pitch types')\n",
    "plt.title('A.J. Burnett Probability of Being Correct Given Guess')\n",
    "plt.legend(loc='best')"
   ]
  },
  {
   "cell_type": "code",
   "execution_count": 44,
   "metadata": {},
   "outputs": [
    {
     "data": {
      "text/html": [
       "<div>\n",
       "<style scoped>\n",
       "    .dataframe tbody tr th:only-of-type {\n",
       "        vertical-align: middle;\n",
       "    }\n",
       "\n",
       "    .dataframe tbody tr th {\n",
       "        vertical-align: top;\n",
       "    }\n",
       "\n",
       "    .dataframe thead th {\n",
       "        text-align: right;\n",
       "    }\n",
       "</style>\n",
       "<table border=\"1\" class=\"dataframe\">\n",
       "  <thead>\n",
       "    <tr style=\"text-align: right;\">\n",
       "      <th></th>\n",
       "      <th>name</th>\n",
       "      <th>changeup</th>\n",
       "      <th>curveball</th>\n",
       "      <th>cutter</th>\n",
       "      <th>four_seam</th>\n",
       "      <th>knuckle</th>\n",
       "      <th>sinker</th>\n",
       "      <th>slider</th>\n",
       "      <th>two_seam</th>\n",
       "    </tr>\n",
       "  </thead>\n",
       "  <tbody>\n",
       "    <tr>\n",
       "      <th>0</th>\n",
       "      <td>Miguel Gonzalez</td>\n",
       "      <td>15.2</td>\n",
       "      <td>10.9</td>\n",
       "      <td>0.0</td>\n",
       "      <td>38.7</td>\n",
       "      <td>0.0</td>\n",
       "      <td>0.0</td>\n",
       "      <td>17.3</td>\n",
       "      <td>18.0</td>\n",
       "    </tr>\n",
       "    <tr>\n",
       "      <th>1</th>\n",
       "      <td>Carlos Carrasco</td>\n",
       "      <td>16.2</td>\n",
       "      <td>11.1</td>\n",
       "      <td>0.0</td>\n",
       "      <td>37.7</td>\n",
       "      <td>0.0</td>\n",
       "      <td>0.0</td>\n",
       "      <td>16.0</td>\n",
       "      <td>19.0</td>\n",
       "    </tr>\n",
       "    <tr>\n",
       "      <th>2</th>\n",
       "      <td>Yunesky Maya</td>\n",
       "      <td>17.2</td>\n",
       "      <td>12.6</td>\n",
       "      <td>0.0</td>\n",
       "      <td>31.9</td>\n",
       "      <td>0.0</td>\n",
       "      <td>0.0</td>\n",
       "      <td>19.0</td>\n",
       "      <td>19.4</td>\n",
       "    </tr>\n",
       "    <tr>\n",
       "      <th>3</th>\n",
       "      <td>Hyun-Jin Ryu</td>\n",
       "      <td>22.0</td>\n",
       "      <td>12.7</td>\n",
       "      <td>5.0</td>\n",
       "      <td>34.1</td>\n",
       "      <td>0.0</td>\n",
       "      <td>0.0</td>\n",
       "      <td>11.5</td>\n",
       "      <td>14.6</td>\n",
       "    </tr>\n",
       "    <tr>\n",
       "      <th>4</th>\n",
       "      <td>Matthew Boyd</td>\n",
       "      <td>20.0</td>\n",
       "      <td>14.9</td>\n",
       "      <td>0.2</td>\n",
       "      <td>38.5</td>\n",
       "      <td>0.0</td>\n",
       "      <td>0.0</td>\n",
       "      <td>9.9</td>\n",
       "      <td>16.5</td>\n",
       "    </tr>\n",
       "  </tbody>\n",
       "</table>\n",
       "</div>"
      ],
      "text/plain": [
       "              name  changeup  curveball  cutter  four_seam  knuckle  sinker  \\\n",
       "0  Miguel Gonzalez      15.2       10.9     0.0       38.7      0.0     0.0   \n",
       "1  Carlos Carrasco      16.2       11.1     0.0       37.7      0.0     0.0   \n",
       "2     Yunesky Maya      17.2       12.6     0.0       31.9      0.0     0.0   \n",
       "3     Hyun-Jin Ryu      22.0       12.7     5.0       34.1      0.0     0.0   \n",
       "4     Matthew Boyd      20.0       14.9     0.2       38.5      0.0     0.0   \n",
       "\n",
       "   slider  two_seam  \n",
       "0    17.3      18.0  \n",
       "1    16.0      19.0  \n",
       "2    19.0      19.4  \n",
       "3    11.5      14.6  \n",
       "4     9.9      16.5  "
      ]
     },
     "execution_count": 44,
     "metadata": {},
     "output_type": "execute_result"
    }
   ],
   "source": [
    "qry = \"\"\"SELECT CONCAT(firstName,' ',lastName) AS name,ROUND(change_up*100,1) AS changeup, ROUND(curve*100,1) AS curveball,\n",
    "ROUND(cutter*100,1) AS cutter,ROUND(four_seam*100,1) AS four_seam,\n",
    "ROUND(knuckleball*100,1) AS knuckle,ROUND(sinker*100,1) AS sinker,ROUND(slider*100,1) AS slider, \n",
    "ROUND(two_seam*100,1) AS two_seam\n",
    "FROM pitcher_ms_clusters_5_26_18 pms1 INNER JOIN Distinct_Players dp1 ON dp1.playerID = pms1.playerID\n",
    "WHERE cls_bandwidth_8 = 30\"\"\"\n",
    "play_df = pd.read_sql_query(qry,cnx)\n",
    "play_df.head()"
   ]
  },
  {
   "cell_type": "code",
   "execution_count": 122,
   "metadata": {},
   "outputs": [
    {
     "data": {
      "text/plain": [
       "<matplotlib.legend.Legend at 0x7f2aef1ae470>"
      ]
     },
     "execution_count": 122,
     "metadata": {},
     "output_type": "execute_result"
    },
    {
     "name": "stderr",
     "output_type": "stream",
     "text": [
      "/home/ubuntu/anaconda3/lib/python3.6/site-packages/matplotlib/font_manager.py:1328: UserWarning: findfont: Font family ['normal'] not found. Falling back to DejaVu Sans\n",
      "  (prop.get_family(), self.defaultFamily[fontext]))\n"
     ]
    },
    {
     "data": {
      "image/png": "[encoded data removed]",
      "text/plain": [
       "<Figure size 432x288 with 1 Axes>"
      ]
     },
     "metadata": {},
     "output_type": "display_data"
    }
   ],
   "source": [
    "sample_players = play_df.iloc[:5].drop(columns=['name'])\n",
    "\n",
    "\n",
    "#fig,ax = plt.subplots()\n",
    "ind = np.arange(8)\n",
    "width = 0.35 \n",
    "\n",
    "plt.plot(ind,sample_players.iloc[0],width,label='Miguel Gonzalez')\n",
    "#rects1 = ax.bar(ind,sample_players.iloc[0],width,label='Miguel Gonzalez')\n",
    "#rects2 = ax.bar(ind+width,sample_players.iloc[1],width,label='Carlos Carrasco')\n",
    "#rects3 = ax.bar(ind+2*width,sample_players.iloc[2],width,label='Yunesky Maya')\n",
    "#rects4 = ax.bar(ind+3*width,sample_players.iloc[3],width,label='Hyun-Jin Ryu')\n",
    "#rects5 = ax.bar(ind+4*width,sample_players.iloc[4],width,label='Matthew Boyd')\n",
    "\n",
    "#ax.set_xticks(ind+width)\n",
    "#ax.set_xticklabels(('sinker','curve','four_seam','change_up'))\n",
    "#vals = ax.get_yticks()\n",
    "#ax.set_yticklabels(['{:3.0f}%'.format(x*100) for x in vals])\n",
    "plt.ylabel('percentage of pitches')\n",
    "plt.xlabel('pitch types')\n",
    "plt.title('A.J. Burnett Probability of Being Correct Given Guess')\n",
    "plt.legend(loc='best')"
   ]
  }
 ],
 "metadata": {
  "kernelspec": {
   "display_name": "Python [default]",
   "language": "python",
   "name": "python3"
  },
  "language_info": {
   "codemirror_mode": {
    "name": "ipython",
    "version": 3
   },
   "file_extension": ".py",
   "mimetype": "text/x-python",
   "name": "python",
   "nbconvert_exporter": "python",
   "pygments_lexer": "ipython3",
   "version": "3.6.4"
  }
 },
 "nbformat": 4,
 "nbformat_minor": 2
}
